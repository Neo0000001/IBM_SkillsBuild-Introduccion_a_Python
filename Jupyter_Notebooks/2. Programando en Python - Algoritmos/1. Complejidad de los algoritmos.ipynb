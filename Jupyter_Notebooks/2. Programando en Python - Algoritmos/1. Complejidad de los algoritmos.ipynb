{
 "cells": [
  {
   "cell_type": "markdown",
   "metadata": {},
   "source": [
    "# IBM SkillsBuild | Introducción a Python\n",
    "\n",
    "# Programando en Python: Complejidad de los algoritmos\n",
    "\n",
    "---\n",
    "\n",
    "## Índice\n",
    "\n",
    "1. Introducción\n",
    "\n",
    "2. ¿Qué es un algoritmo?\n",
    "\n",
    "3. ¿El tamaño importa?\n",
    "4. La complejidad algorítmica no es un número. Es una función\n",
    "\n",
    "5. Código y Complejidad\n",
    "\n",
    "6. Escenario de peor caso\n",
    "\n",
    "7. Órden de Complejidad\n",
    "\n",
    "8. Órden de Complejidad más conocidas\n",
    "   * Constante\n",
    "   * Lineal\n",
    "   * Polinómico\n",
    "   * Logarítmico\n",
    "   * Enelogarítmico\n",
    "   * Exponencial\n",
    "\n",
    "9. Comparación\n",
    "\n",
    "---\n",
    "\n",
    "## Introducción\n",
    "\n",
    "Cuando hablamos de la complejidad de un algoritmo, nos referimos en realidad a una métrica teórica que mide la eficiencia computacional de un algoritmo. Si tenemos varios algoritmos que solucionan un mismo problema, esta métrica nos ayudará a definir cuál de los algoritmos es mejor en términos computacionales. Aunque no es un concepto difícil de entender, la obtención y el estudio de la complejidad requieren ciertas destrezas matemáticas. En esta sección vamos a exponer de manera sencilla la complejidad algorítmica, los tipos de complejidad y ejemplos en código Python.\n",
    "\n",
    "---\n",
    "\n",
    "## ¿Qué es un algoritmo?\n",
    "\n",
    "En primer lugar, hablemos de Algoritmo. Un algoritmo es una secuencia de instrucciones cuyo objetivo es la resolución de un problema. Existen muchos problemas que tienen algoritmos que los solucionen. Además, un mismo problema puede tener varias soluciones (¿o no tener ninguna?). Si tenemos varias soluciones de un mismo problema, ¿Cuál sería la mejor solución? Para eso necesitamos evaluar dicho algoritmo, al resultado de la evaluación lo llamaremos complejidad algorítmica.\n",
    "\n",
    "Para medir un algoritmo podemos tratarlo desde dos puntos de vista: el que resuelve el problema en menos tiempo o el que utiliza menos recursos del sistema. A la idea del tiempo la llamaremos complejidad temporal y a la de recursos del sistema la llamaremos complejidad espacial. De los dos tipos mencionados, la de menos relevancia es la de complejidad espacial debido a los altos recursos que puede tener una máquina. Además, el tiempo es mucho más valioso. Podemos decir que, de los dos, el tiempo es el único que no se puede comprar. Así que simplemente cuando nos referimos a complejidad algorítmica, nos estamos refiriendo a la complejidad temporal. Básicamente la medición del algoritmo consiste en medir cuánto tarda en resolver un problema.\n",
    "\n",
    "---\n",
    "\n",
    "## ¿El tamaño importa?\n",
    "\n",
    "Hablemos de algunos conceptos que poseen todos los algoritmos. Durante su proceso, digamos un algoritmo de ordenamiento, posee una serie de instrucciones que se repiten, se les conoce como bucles. También una serie de elecciones o comparaciones (if..else..) que hacen que siga ciertas instrucciones o no siga otras. Todos estos elementos forman parte del algoritmo. Poseen, también, datos de entrada y datos de salida. De todas estas características las que podemos variar para medir nuestra complejidad serían los datos de entrada. Ya que no es lo mismo, en un algoritmo de ordenamiento, ordenar 10 elementos que ordenar 1.000.000 de elementos. El algoritmo debería poder ordenar los elementos sin importar el tamaño del vector, pero sí incide directamente en el tiempo en resolver el problema. Con esto podemos empezar a medir los distintos algoritmos de ordenamiento. Si ordenamos un vector de diez millones con varios algoritmos y vemos cuál se demora menos, podríamos decir cuál tiene mayor o menor complejidad algorítmica.\n",
    "\n",
    "---\n",
    "\n",
    "## La complejidad algorítmica no es un número. Es una función\n",
    "\n",
    "Ahora, consideremos que hacemos experimentos del algoritmo con 10.000.000 de entradas. Si lo realizamos en un ordenador muy potente, la respuesta del programa sería obviamente mucho más rápida que en un ordenador con pocos recursos. Así que el algoritmo va a tener siempre un tiempo de respuesta diferente para cada ordenador. Para solucionarlo no mediremos el tiempo que se tarda en responder un algoritmo. Más bien vamos a contar el número de instrucciones, suponiendo que cada instrucción se ejecuta en un mismo tiempo constante. De esta manera mediremos cuántas instrucciones necesarias toma el algoritmo para resolver el problema con respecto al tamaño del problema.\n",
    "\n",
    "---\n",
    "\n",
    "## Código y Complejidad\n",
    "\n",
    "Analicemos el siguiente código escrito en Python:"
   ]
  },
  {
   "cell_type": "code",
   "execution_count": null,
   "metadata": {},
   "outputs": [],
   "source": [
    "def codigo_1(number):\n",
    "    a = 0\n",
    "    \n",
    "    for j in range(1, number + 1):\n",
    "        a += a + j\n",
    "\n",
    "    for k in range(number, 0, -1):\n",
    "        a -= 1\n",
    "        \n",
    "    a *= 2\n",
    "\n",
    "    return a\n"
   ]
  },
  {
   "cell_type": "markdown",
   "metadata": {},
   "source": [
    "En este algoritmo tenemos unas instrucciones y varios bucles. Empecemos con contar las instrucciones. Tenemos una asignación de la variable a, así que tenemos 1 instrucción.\n",
    "\n",
    "Instrucciones = 1\n",
    "\n",
    "El siguiente es un bucle con una instrucción dentro. Dependiendo del valor de la variable number, se realiza una instrucción n veces. Por ejemplo, si number tiene el valor de 3 entonces las instrucciones que se realizan son 3 veces. Entonces tenemos:\n",
    "\n",
    "```text\n",
    "Instrucciones = (1) + (n) = n + 1\n",
    "\n",
    "```\n",
    "\n",
    "\n",
    "En el segundo bucle sucede lo mismo. Pero esta vez son 2 instrucciones dentro del ciclo de código. El número de instrucciones quedaría:\n",
    "\n",
    "```text\n",
    "Instrucciones = 2n + n + 1 = 3n + 1\n",
    "\n",
    "```\n",
    "\n",
    "\n",
    "Entonces la complejidad algorítmica sería 3n + 1 porque es el número de instrucciones que tiene que realizar para solucionar el problema. Lo que interesa es saber cómo puede crecer en unidades de tiempo la resolución de un problema. En este ejemplo es claro que el tiempo crece linealmente con respecto al valor de entrada.\n",
    "\n",
    "Es posible calcular visualmente la complejidad de algunos algoritmos sencillos. Veamos algunos ejemplos:"
   ]
  },
  {
   "cell_type": "code",
   "execution_count": null,
   "metadata": {},
   "outputs": [],
   "source": [
    "def codigo_2():\n",
    "    a = 0\n",
    "    a -= 1\n",
    "    a *= 2\n"
   ]
  },
  {
   "cell_type": "markdown",
   "metadata": {},
   "source": [
    "En el Código 2 la complejidad sería:\n",
    "\n",
    "F(x) = 3"
   ]
  },
  {
   "cell_type": "code",
   "execution_count": null,
   "metadata": {},
   "outputs": [],
   "source": [
    "def codigo_3(number):\n",
    "    a = 0\n",
    "    for j in range(1, number + 1):\n",
    "        for k in range(1, number + 1):\n",
    "            a += a + (k * j)\n",
    "            \n",
    "    return a\n"
   ]
  },
  {
   "cell_type": "markdown",
   "metadata": {},
   "source": [
    "En el Código 3 tenemos un bucle anidado. Cada vez que ejecute un ciclo, el otro se ejecuta n veces también. Lo cual sería n veces n. La complejidad quedaría:\n",
    "\n",
    "```text\n",
    "F(x) = n² + 1\n",
    "\n",
    "```\n",
    "\n",
    "\n",
    "Si graficamos estas 3 funciones, el código 1, 2 y 3, podemos ver exactamente cuál sería el que posee menor complejidad algorítmica:\n",
    "\n",
    "<img src='Imagenes/imagen-9.png'>\n",
    "\n",
    "Esto nos deja que, independientemente de los valores, resulta evidente que, cuantos más datos, la curva se va haciendo cada vez más grande. Esto es lo que realmente nos interesa ver en una complejidad algorítmica, cómo se comporta el algoritmo con volúmenes de entradas grandes en el tiempo.\n",
    "\n",
    "## Escenario de peor caso\n",
    "\n",
    "Algunos algoritmos pueden tener distintos tiempos de ejecución, teniendo el mismo tamaño de los datos y los mismos recursos computacionales. Esto es debido a que, dependiendo de los datos, a veces se llegue a una solución en la primera iteración, o bien tener que recorrer todos los datos. El siguiente código tiene como fin encontrar el primer número par de una lista de números:"
   ]
  },
  {
   "cell_type": "code",
   "execution_count": null,
   "metadata": {},
   "outputs": [],
   "source": [
    "def codigo_4(array):\n",
    "    for k in range(len(array)):\n",
    "        if (array[k] % 2 == 0):\n",
    "            return k\n",
    "            \n",
    "    return None\n"
   ]
  },
  {
   "cell_type": "markdown",
   "metadata": {},
   "source": [
    "Dependiendo de los valores que se guarden en el vector, así será el tiempo que dure el algoritmo en resolver el problema. Si el array es una secuencia de números enteros, entonces solo hará falta una iteración. Si es una lista de números impares, entonces recorrerá todas las iteraciones.\n",
    "\n",
    "En el mejor de los escenarios el número par será el primero de la lista, lo que concluiría el algoritmo. En el peor caso ni siquiera tenga un número par, porque recorrería todas las instrucciones. Para el mejor caso tendríamos una complejidad algorítmica:\n",
    "\n",
    "F(x) = 1\n",
    "\n",
    "Para el peor de los casos la complejidad algorítmica sería:\n",
    "\n",
    "F(x) = n\n",
    "\n",
    "Para expresar el peor caso usaremos una notación conocida como “`O Grande`” y se escribe: `O(n)`. Que significa complejidad en el peor caso. Se escribe como “`O`” pero en realidad es la letra griega `Omicron`.\n",
    "\n",
    "---\n",
    "\n",
    "## Órden de Complejidad\n",
    "\n",
    "Hasta aquí, es posible medir cualquier algoritmo. Pero incluso así es complicado comparar unos algoritmos con otros. Además, se requiere poder categorizar lo complejo que es un algoritmo con respecto a otros. Para esto recurriremos al orden de complejidad.\n",
    "\n",
    "Como vimos antes, para medir un algoritmo necesitamos recurrir al escenario de peor caso y con un gran volumen de datos. Viéndolo de esta manera podríamos simplificar las ecuaciones de Big-O eliminando algunas características que en ingreso masivo de datos son irrelevantes.\n",
    "\n",
    "Si comparamos varios algoritmos tales como:\n",
    "\n",
    "```text\n",
    "O(3n + 1)\n",
    "O(20n)\n",
    "O(15n + 150)\n",
    "O(n)\n",
    "\n",
    "```\n",
    "\n",
    "\n",
    "\n",
    "Podemos ver en sus gráficas que, sin importar la variable que corta al eje Y o la pendiente de la curva, todas crecen con la misma inclinación. Todas estas ecuaciones podemos agruparlas y referirnos a ellas como orden Lineal. Lo mismo podemos hablar de las funciones cuadráticas, veamos el siguiente grupo:\n",
    "\n",
    "```text\n",
    "O(n**2 + 27)\n",
    "\n",
    "𝑂(20𝑛**2 +3)\n",
    "\n",
    "𝑂(𝑛**2 + 𝑛+ 45) \n",
    "\n",
    "𝑂(100𝑛**2 + 101𝑛)\n",
    "\n",
    "```\n",
    "\n",
    "\n",
    "A pesar de que sus correspondientes gráficas tengan inicios y posiciones diferentes, todas son una parábola y tendrán un comportamiento similar con respecto al aumento de la cantidad de entradas. Estas presentan un comportamiento muy diferente al conjunto anterior. Este grupo de O grandes las llamaremos de `orden cuadrático`. También las podemos expresar como:\n",
    "\n",
    "```text\n",
    "𝑂(100𝑛**2 + 101𝑛+) € 𝑂(𝑛**2)\n",
    "\n",
    "```\n",
    "\n",
    "\n",
    "\n",
    "De esta manera podemos clasificar a un algoritmo en un grupo concreto y resultará mucho más fácil y rápido ver la complejidad de un algoritmo.\n",
    "\n",
    "Cuando nos advierten de una complejidad algorítmica de un algoritmo podemos tener una idea de cómo será su comportamiento.\n",
    "\n",
    "---\n",
    "\n",
    "# Órdenes de Complejidad más conocidas\n",
    "\n",
    "## Constante\n",
    "\n",
    "Es la más sencilla y siempre presenta un tiempo de ejecución constante.\n",
    "\n",
    "Ejemplo:"
   ]
  },
  {
   "cell_type": "code",
   "execution_count": null,
   "metadata": {},
   "outputs": [],
   "source": [
    "def constante():\n",
    "    x = 50\n",
    "    x += 1\n",
    "    return x\n"
   ]
  },
  {
   "cell_type": "markdown",
   "metadata": {},
   "source": [
    "<img src='Imagenes/imagen-3.png'>"
   ]
  },
  {
   "cell_type": "markdown",
   "metadata": {},
   "source": [
    "## Lineal\n",
    "\n",
    "El tiempo crece linealmente mientras crecen los datos.\n",
    "\n",
    "Ejemplo:"
   ]
  },
  {
   "cell_type": "code",
   "execution_count": null,
   "metadata": {},
   "outputs": [],
   "source": [
    "def lineal(number):\n",
    "    result = 0\n",
    "    for x in range(0, number):\n",
    "        result += 1\n",
    "    return result\n"
   ]
  },
  {
   "cell_type": "markdown",
   "metadata": {},
   "source": [
    "<img src='Imagenes/imagen-4.png'>"
   ]
  },
  {
   "cell_type": "markdown",
   "metadata": {},
   "source": [
    "## Polinómico\n",
    "\n",
    "Son los algoritmos más comunes. Cuando c es 2 se le llama cuadrático, cuando es 3 se le llama cúbico, y en general, polinómico. Cuando n es muy grande suelen ser muy complicados. Estos algoritmos suelen tener bucles anidados. Si tienen 2 bucles anidados sería un cuadrático. \n",
    "\n",
    "Ejemplos:"
   ]
  },
  {
   "cell_type": "code",
   "execution_count": null,
   "metadata": {
    "vscode": {
     "languageId": "plaintext"
    }
   },
   "outputs": [],
   "source": [
    "def polinomico(number):\n",
    "    x = 0\n",
    "    for i in range(1, number):\n",
    "        for j in range(1, number):\n",
    "            x += i + j\n",
    "    for i in range(1, number):\n",
    "        for j in range(1, number):\n",
    "            for k in range(1, number):\n",
    "                x += i * j * k\n",
    "    return x\n"
   ]
  },
  {
   "cell_type": "markdown",
   "metadata": {},
   "source": [
    "<img src='Imagenes/imagen-5.png'>"
   ]
  },
  {
   "cell_type": "markdown",
   "metadata": {},
   "source": [
    "## Logarítmico\n",
    "\n",
    "No suelen ser muchos. Estos algoritmos indican que el tiempo es menor que el tamaño de los datos de entrada. No importa indicar la base del logaritmo. Un ejemplo es una búsqueda dicotómica. Este algoritmo busca un elemento en un array ordenado dividiendo el array en 2 mitades, identifica en cuál de las mitades se encuentra, luego divide esa parte en 2 mitades iguales y busca nuevamente hasta encontrar el elemento, es un algoritmo recursivo:"
   ]
  },
  {
   "cell_type": "code",
   "execution_count": null,
   "metadata": {},
   "outputs": [],
   "source": [
    "def bin(a, x, low, high):\n",
    "    ans = -1\n",
    "    if low == high:\n",
    "        ans = -1\n",
    "    else:\n",
    "        mid = low + (high - low) // 2\n",
    "        if x < a[mid]:\n",
    "            ans = bin(a, x, low, mid)\n",
    "        elif x > a[mid]:\n",
    "            ans = bin(a, x, mid + 1, high)\n",
    "        else:\n",
    "            ans = mid\n",
    "            \n",
    "    return ans\n"
   ]
  },
  {
   "cell_type": "markdown",
   "metadata": {},
   "source": [
    "<img src='Imagenes/imagen-6.png'>"
   ]
  },
  {
   "cell_type": "markdown",
   "metadata": {},
   "source": [
    "## Enelogarítmico\n",
    "\n",
    "Tan bueno como el anterior, en este orden encontramos el algoritmo QuickSort. El ejemplo podemos verlo en Wikipedia en este enlace: https://en.wikipedia.org/wiki/Quicksort\n",
    "\n",
    "No se incluye el código debido a las distintas versiones, estudios y discusiones de este algoritmo. Pero compartiremos el comportamiento de este orden de complejidad:\n",
    "\n",
    "<img src='Imagenes/imagen-7.png'>\n",
    "\n",
    "## Exponencial\n",
    "\n",
    "Es una de las peores complejidades algorítmicas. Sube demasiado a medida que crece los datos de entrada. Puede verse en la Figura como crece una función de este tipo. Un ejemplo de este código es la\n",
    "solución de Fibonacci, el cual genera bucles 2 recursividades en cada ejecución.\n",
    "\n",
    "Ejemplo:"
   ]
  },
  {
   "cell_type": "code",
   "execution_count": null,
   "metadata": {},
   "outputs": [],
   "source": [
    "def exponencial(n):\n",
    "    if n==1 or n==2:\n",
    "        return 1\n",
    "    return exponencial(n-1)+exponencial(n-2)"
   ]
  },
  {
   "cell_type": "markdown",
   "metadata": {},
   "source": [
    "<img src='Imagenes/imagen-8.png'>"
   ]
  },
  {
   "cell_type": "markdown",
   "metadata": {},
   "source": [
    "---\n",
    "\n",
    "## Comparación\n",
    "  \n",
    "Para resaltar el nivel de importancia de categorizar un algoritmo en un orden de complejidad, tenemos que ver en realidad hasta qué punto pueden ser complejos los algoritmos. Para compararlos entre sí supongamos que todos ellos requieren 1 hora de ordenador para resolver un problema de tamaño N=100.\n",
    "\n",
    "| O(f(n)) | \tN=100  | t=2h |\tN=200 |\n",
    "----------|------------|------|-------|\n",
    "|log n\t| 1h   | 10000\t | 1.15 h |\n",
    "|n\t|1h\t|200\t|2h|\n",
    "|n log n|\t1h|\t199|\t2.30h|\n",
    "|n^2|\t1h|\t141|\t4h|\n",
    "|n^3|\t1h|\t126|\t8h|\n",
    "|2^n|\t1h|\t101|\t10.5h|\n",
    "\n",
    "Como podemos observar, a medida que aumenta la complejidad, el tiempo necesario para completar la tarea crece mucho, pudiendo llegar a aumentar enormemente en algunos casos en cuanto hay más datos a manejar.\n",
    "\n",
    "Si nos encontramos con una función con complejidad cuadrática `(𝑂(𝑛**2))` o exponencial `(𝑂(𝑛**n))`, por regla general será señal de que el algoritmo necesita una revisión urgente, y mejor no utilizarlo.\n",
    "\n",
    "Lo interesante de esta notación es que nos permite comparar varios algoritmos equivalentes sin preocuparnos de hacer pruebas de rendimiento que dependen del hardware utilizado. Es decir, ante resultados equivalentes podemos elegir el algoritmo de mayor rendimiento, que lo será siempre independientemente del hardware si el conjunto de datos es lo suficientemente grande (en conjuntos pequeños un hardware más rápido puede dar resultados más rápidos para un algoritmo menos eficiente, pero a medida que el conjunto crece ya no será así).\n",
    "\n",
    "Por eso, a partir de ahora, cuando veamos que una función documenta explícitamente su complejidad usando la notación Big-O, prestaremos mucha atención y deberemos tener en cuenta las implicaciones que puede tener en nuestra aplicación el hecho de utilizarla. Del mismo modo, cuando creemos un algoritmo para resolver un problema en nuestra aplicación, es interesante anotar en la documentación del mismo (aunque sea en los comentarios de la cabecera) cuál es la complejidad algorítmica del mismo en notación Big-O. Eso ayudará a cualquier programador que venga detrás, tanto a usarlo como a tener que optimizarlo, y sabrá cuál es la lógica a batir.\n",
    "\n",
    "Aquí tenemos una  tabla muy completa: [http://bigocheatsheet.com/] con la complejidad de los principales algoritmos para estructuras de datos, ordenación de matrices, operaciones en grafos y operaciones de montón (heap)."
   ]
  }
 ],
 "metadata": {
  "language_info": {
   "name": "python"
  }
 },
 "nbformat": 4,
 "nbformat_minor": 2
}
