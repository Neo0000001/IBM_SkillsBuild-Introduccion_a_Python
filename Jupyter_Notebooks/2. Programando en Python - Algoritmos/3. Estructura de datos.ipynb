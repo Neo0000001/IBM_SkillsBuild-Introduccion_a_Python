{
 "cells": [
  {
   "cell_type": "markdown",
   "metadata": {},
   "source": [
    "# IBM SkillsBuild | Introducción a Python\n",
    "\n",
    "# Programando en Python: Estructuras de datos\n",
    "\n",
    "---\n",
    "\n",
    "## Índice\n",
    "\n",
    "1. Introducción\n",
    "\n",
    "2. Listas\n",
    "\n",
    "3. Métodos de las listas\n",
    "\n",
    "4. Listas anidadas\n",
    "\n",
    "5. Tuplas\n",
    "   * ¿Cuándo utilizar una tupla en lugar de una lista?\n",
    "   * Acceso a elementos de tupla\n",
    "   * Indexación Negativa\n",
    "   * Rango de índices\n",
    "   * Rango de índices negativos\n",
    "   * Cambiar valores de tupla\n",
    "   * Recorrer una tupla\n",
    "   * Comprobar si el artículo existe\n",
    "   * Longitud de la tupla\n",
    "   * Agregar artículos\n",
    "   * Crear tupla con un artículo\n",
    "   * Eliminar elementos\n",
    "   * Une dos tuplas\n",
    "   * El constructor tuple()\n",
    "   * Métodos de las tuplas\n",
    "\n",
    "6. Diccionarios\n",
    "\n",
    "7. Métodos de los diccionarios\n",
    "\n",
    "8. Bytes y Bytearray\n",
    "    * ¿Qué son los bytes en Python?\n",
    "\n",
    "9. Sets, Conjuntos\n",
    "   * Establecer métodos\n",
    "\n",
    "---\n",
    "\n",
    "## Introducción\n",
    "\n",
    "Hasta ahora hemos visto cómo guardar un dato en una variable para poder trabajar posteriormente con él. Ahora vamos a ver las estructuras que posee Python para poder trabajar con colecciones de datos. Las estructuras de datos en Python se pueden entender como un tipo de dato compuesto, debido a que en una misma variable podemos almacenar no solo un dato, sino infinidad de ellos. Dichas estructuras pueden tener diferentes características y funcionalidades. Hay cuatro tipos de estructuras de recopilación de datos en el lenguaje de programación Python:\n",
    "\n",
    "* Lista (list): es una colección ordenada y modificable. Permite miembros duplicados.\n",
    "* Tupla (tuple): es una colección ordenada e inmutable. Permite miembros duplicados.\n",
    "* Conjunto (Set): es una colección que no está ordenada ni indexada. No hay miembros duplicados.\n",
    "* Diccionario (Dictionary): es una colección desordenada, modificable e indexada. No hay miembros duplicados.\n",
    "\n",
    "Al elegir un tipo de colección, es útil comprender las propiedades de ese tipo. Elegir el tipo correcto para un conjunto de datos en particular podría significar un aumento en la eficiencia y seguridad.\n",
    "\n",
    "## Listas\n",
    "\n",
    "La lista es un tipo de colección ordenada y modificable. Es decir, una secuencia de valores de cualquier tipo, ordenados y de tamaño variable. Las listas en Python se representan con el tipo list y la sintaxis que se utiliza para definirlas consiste en indicar una lista de objetos separados entre comas y encerrados entre corchetes: [obj1, obj2, ..., objn]. Las listas son estructuras de datos que nos permiten almacenar gran cantidad de valores (equivalentes a los arrays en otros lenguajes de programación). Se pueden expandir dinámicamente añadiendo nuevos elementos, es decir, la cantidad de valores que contendrán podrá variar a lo largo de la ejecución del programa. Las listas pueden contener cualquier tipo de dato: números, cadenas, booleanos, otras listas e incluso funciones y objetos. Se pueden mezclar diferentes tipos de datos. Las listas son mutables.\n",
    "\n",
    "Una de las características importantes de las listas es que se corresponden con una colección ordenada de objetos. El orden en el que se especifican los elementos cuando se define una lista es relevante y se mantiene durante toda su vida.\n",
    "\n",
    "## Sintaxis de las listas\n",
    "\n",
    "Crear una lista es tan sencillo como indicar entre corchetes y separados por comas, los valores que queremos incluir en la lista:\n",
    "\n",
    "```python\n",
    "nombre_lista = [elem1, elem2, elem3…]\n",
    "\n",
    "```\n",
    "\n"
   ]
  },
  {
   "cell_type": "markdown",
   "metadata": {},
   "source": [
    "Se pueden mezclar elementos de distinto tipo:"
   ]
  },
  {
   "cell_type": "code",
   "execution_count": null,
   "metadata": {},
   "outputs": [],
   "source": [
    "mi_lista = [\"Angel\", 43, 667767250]\n",
    "mi_lista2 = [22, True, \"una lista\", [1, 2]]\n"
   ]
  },
  {
   "cell_type": "markdown",
   "metadata": {},
   "source": [
    "Para acceder a cada uno de los elementos de la lista, escribimos el nombre de la lista e indicamos el índice del elemento entre corchetes:"
   ]
  },
  {
   "cell_type": "code",
   "execution_count": null,
   "metadata": {},
   "outputs": [],
   "source": [
    "print(mi_lista[0])  # Imprime: Angel\n"
   ]
  },
  {
   "cell_type": "markdown",
   "metadata": {},
   "source": [
    "Si queremos acceder a un elemento de una lista incluida dentro de otra lista, utilizamos dos veces este operador:"
   ]
  },
  {
   "cell_type": "code",
   "execution_count": null,
   "metadata": {},
   "outputs": [],
   "source": [
    "mi_lista = [\"una lista\", [1, 2]]\n",
    "mi_var = mi_lista[1][0]  # mi_var vale 1\n"
   ]
  },
  {
   "cell_type": "markdown",
   "metadata": {},
   "source": [
    "También podemos utilizar este operador para modificar un elemento de la lista si lo colocamos en la parte izquierda de una asignación:"
   ]
  },
  {
   "cell_type": "code",
   "execution_count": null,
   "metadata": {},
   "outputs": [],
   "source": [
    "mi_lista = [22, True]\n",
    "mi_lista[0] = 99  # miLista valdrá [99, True]\n"
   ]
  },
  {
   "cell_type": "markdown",
   "metadata": {},
   "source": [
    "Para imprimir toda la lista:"
   ]
  },
  {
   "cell_type": "code",
   "execution_count": null,
   "metadata": {},
   "outputs": [],
   "source": [
    "print(mi_lista[:])\n"
   ]
  },
  {
   "cell_type": "markdown",
   "metadata": {},
   "source": [
    "Se puede declarar una lista vacía, sin elementos. Como en Java, el primer elemento de la lista está en el índice o posición cero.\n",
    "\n",
    "Nota: Si pongo índices negativos, Python cuenta desde el final hasta el principio empezando por -1, es decir, en mi caso el elemento “Angel” podría ser la posición [0] o la [-3]. Como en los strings."
   ]
  },
  {
   "cell_type": "code",
   "execution_count": null,
   "metadata": {},
   "outputs": [],
   "source": [
    "lista2 = lista[-2:]\n"
   ]
  },
  {
   "cell_type": "markdown",
   "metadata": {},
   "source": [
    "Me crea una sublista con los elementos [43, 667767250]."
   ]
  },
  {
   "cell_type": "markdown",
   "metadata": {},
   "source": [
    "---\n",
    "\n",
    "## Métodos de las listas\n",
    "\n",
    "|Método|\tDescripción|\n",
    "|------|---------------|\n",
    "|append()\t|Añade un elemento al final de la lista.|\n",
    "|clear()\t|Borra los elementos de la lista.|\n",
    "|copy()\t|Devuelve una copia de la lista.|\n",
    "|count()\t|Devuelve el número de veces que se encuentra un elemento en la lista.|\n",
    "|extend()\t|Añade los elementos de una lista a otra.|\n",
    "|index()\t|Devuelve el índice del primer elemento cuyo valor es el especificado.|\n",
    "|insert()\t|Añade un elemento en la posición especificada.|\n",
    "|pop()\t|Borra el elemento en la posición especificada y devuelve el elemento eliminado.|\n",
    "|remove()\t|Elimina el elemento con el valor especificado.|\n",
    "|reverse()\t|Invierte el orden de la lista.|\n",
    "|sort()\t|Ordena la lista.|\n",
    "\n",
    "Los métodos más usados son: len(), append(), pop(), insert() y remove(). Como las listas son colecciones mutables, muchos de los métodos de éstas la modifican in-place en lugar de crear una lista nueva, como por ejemplo sort() o reverse().\n",
    "\n",
    "Ejemplos:\n"
   ]
  },
  {
   "cell_type": "code",
   "execution_count": null,
   "metadata": {},
   "outputs": [],
   "source": [
    "mi_lista1 = [\"Angel\", \"Maria\", \"Manolo\", \"Antonio\", \"Pepe\"]\n",
    "mi_lista2 = [\"Maria\", 2, 5.56, True]  # Se puede mezclar diferentes elementos\n",
    "print(mi_lista1[1])  # Imprime: Maria\n",
    "print(mi_lista1[0:2])  # Imprime: [\"Angel\", \"Maria\"]\n",
    "\n",
    "# Tres números (inicio:fin:salto)\n",
    "print(mi_lista1[0:5:2])  # Imprime: [\"Angel\", \"Manolo\", \"Pepe\"]\n"
   ]
  },
  {
   "cell_type": "markdown",
   "metadata": {},
   "source": [
    "##  Listas anidadas\n",
    "\n",
    "Una lista puede contener cualquier tipo de objeto. Esto incluye otra lista. Una lista puede contener sublistas, que a su vez pueden contener sublistas, y así hasta una profundidad arbitraria. Estas operaciones sirven para matrices pequeñas y operaciones sencillas. Sin embargo, si queremos operar con matrices grandes o en problemas complejos, Python dispone de librerías para este tipo de usos. El principal ejemplo es Numpy, un proyecto de código abierto con gran respaldo de la comunidad científica y de numerosas organizaciones privadas. El proyecto Numpy es uno de los principales responsables del tremendo éxito de Python en el campo de Data Science."
   ]
  },
  {
   "cell_type": "markdown",
   "metadata": {},
   "source": [
    "---\n",
    "\n",
    "## Tuplas\n",
    "\n",
    "Las tuplas son un tipo de dato complejo y particular del lenguaje de programación Python. Una tupla es un objeto idéntico a una lista excepto por las siguientes propiedades:\n",
    "\n",
    "* Al igual que las listas, definen una colección ordenada de objetos, sin embargo, utilizan la sintaxis (obj1, obj2, ..., objn) en lugar de [obj1, obj2, ..., objn]\n",
    "* Las tuplas son inmutables, es decir, no se pueden modificar después de su creación.\n",
    "* No permiten añadir, eliminar, mover elementos (no append, extend, remove)\n",
    "* Sí permiten extraer porciones, pero el resultado de la extracción es una tupla nueva.\n",
    "* No permiten búsquedas (no index)\n",
    "* Permiten comprobar si un elemento se encentra en la tupla.\n",
    "\n",
    "Las tuplas se representan dentro de Python con el tipo de dato tuple.\n",
    "\n",
    "### ¿Qué utilidad o ventaja presentan las tuplas respecto a las listas?\n",
    "\n",
    "* Más rápidas\n",
    "* Manos espacio (mayor optimización)\n",
    "* Formatean string\n",
    "* Pueden utilizarse como claves en un diccionario (las listas no)\n",
    "\n",
    "La sintaxis básica de una tupla sería:\n",
    "\n",
    "```python\n",
    "nombreTupla = (elem1, elem2, elem3...)\n",
    "\n",
    "```\n",
    "\n",
    "Los paréntesis son opcionales pero recomendables. Las posiciones son como en las listas, el elem1 está en la posición 0, el elem2 en la 1, etc.\n",
    "\n",
    "### Acceso a elementos de una tupla\n",
    "\n",
    "Puede acceder a los elementos de una tupla haciendo referencia al número de índice, entre corchetes. A continuación, se presentan algunos ejemplos y explicaciones detalladas:\n",
    "\n",
    "Acceso a elementos por índice\n",
    "Para acceder a un elemento específico en una tupla, use el índice del elemento. Recuerde que el primer elemento tiene el índice 0.\n",
    "\n",
    "Ejemplo: Imprimir el segundo elemento en la tupla"
   ]
  },
  {
   "cell_type": "code",
   "execution_count": null,
   "metadata": {},
   "outputs": [],
   "source": [
    "thistuple = (\"apple\", \"banana\", \"cherry\")\n",
    "print(thistuple[1])  # Imprimirá: banana\n"
   ]
  },
  {
   "cell_type": "markdown",
   "metadata": {},
   "source": [
    "### Rango de índices\n",
    "\n",
    "Puede especificar un rango de índices para acceder a una subsección de la tupla. Al especificar un rango, el valor de retorno será una nueva tupla con los elementos dentro del rango especificado.\n",
    "\n",
    "Ejemplo: Devolver el tercer, cuarto y quinto elemento"
   ]
  },
  {
   "cell_type": "code",
   "execution_count": null,
   "metadata": {},
   "outputs": [],
   "source": [
    "thistuple = (\"apple\", \"banana\", \"cherry\", \"orange\", \"kiwi\", \"melon\", \"mango\")\n",
    "print(thistuple[2:5])  # Imprimirá: ('cherry', 'orange', 'kiwi')\n"
   ]
  },
  {
   "cell_type": "markdown",
   "metadata": {},
   "source": [
    "Nota: La búsqueda comenzará en el índice 2 (incluido) y finalizará en el índice 5 (no incluido).\n",
    "\n",
    "### Indexación negativa\n",
    "\n",
    "La indexación negativa significa comenzar desde el final de la tupla. Por ejemplo, -1 refiere al último elemento, -2 refiere al penúltimo elemento, y así sucesivamente.\n",
    "\n",
    "Ejemplo: Imprimir el último elemento de la tupla"
   ]
  },
  {
   "cell_type": "code",
   "execution_count": null,
   "metadata": {},
   "outputs": [],
   "source": [
    "thistuple = (\"apple\", \"banana\", \"cherry\")\n",
    "print(thistuple[-1])  # Imprimirá: cherry\n"
   ]
  },
  {
   "cell_type": "markdown",
   "metadata": {},
   "source": [
    "### Rango de índices negativos\n",
    "\n",
    "Puede especificar índices negativos si desea comenzar la búsqueda desde el final de la tupla.\n",
    "\n",
    "Ejemplo: Este ejemplo devuelve los elementos del índice -4 (incluido) al índice -1 (excluido)"
   ]
  },
  {
   "cell_type": "code",
   "execution_count": null,
   "metadata": {},
   "outputs": [],
   "source": [
    "thistuple = (\"apple\", \"banana\", \"cherry\", \"orange\", \"kiwi\", \"melon\", \"mango\")\n",
    "print(thistuple[-4:-1])  # Imprimirá: ('orange', 'kiwi', 'melon')\n"
   ]
  },
  {
   "cell_type": "markdown",
   "metadata": {},
   "source": [
    "### Cambiar valores de una tupla\n",
    "\n",
    "Una vez que se crea una tupla, no puede cambiar sus valores porque las tuplas son inmutables. Sin embargo, hay una solución alternativa: puede convertir la tupla en una lista, cambiar la lista y luego volver a convertir la lista en una tupla.\n",
    "\n",
    "Ejemplo: Cambiar valores de una tupla (alternativa)"
   ]
  },
  {
   "cell_type": "code",
   "execution_count": null,
   "metadata": {},
   "outputs": [],
   "source": [
    "thistuple = (\"apple\", \"banana\", \"cherry\")\n",
    "# Convertir la tupla en una lista\n",
    "temp_list = list(thistuple)\n",
    "# Cambiar un valor\n",
    "temp_list[1] = \"orange\"\n",
    "# Convertir la lista de nuevo en una tupla\n",
    "thistuple = tuple(temp_list)\n",
    "print(thistuple)  # Imprimirá: ('apple', 'orange', 'cherry')\n"
   ]
  },
  {
   "cell_type": "markdown",
   "metadata": {},
   "source": [
    "Recuerde que este método es una solución alternativa para modificar los valores en una tupla, ya que las tuplas en sí no permiten cambios directos."
   ]
  },
  {
   "cell_type": "markdown",
   "metadata": {},
   "source": [
    "### Recorrer una tupla\n",
    "\n",
    "Puedes recorrer los elementos de la tupla utilizando un bucle for.\n",
    "\n",
    "Ejemplo: Iterar a través de los elementos e imprimir los valores."
   ]
  },
  {
   "cell_type": "code",
   "execution_count": null,
   "metadata": {},
   "outputs": [],
   "source": [
    "thistuple = (\"apple\", \"banana\", \"cherry\")\n",
    "\n",
    "for x in thistuple:\n",
    "    print(x)"
   ]
  },
  {
   "cell_type": "markdown",
   "metadata": {},
   "source": [
    "### Longitud de la tupla\n",
    "\n",
    "Para determinar cuántos elementos tiene una tupla, usa la función len().\n",
    "\n",
    "Ejemplo: Imprimir el número de elementos en la tupla"
   ]
  },
  {
   "cell_type": "code",
   "execution_count": null,
   "metadata": {},
   "outputs": [],
   "source": [
    "thistuple = (\"apple\", \"banana\", \"cherry\")\n",
    "print(len(thistuple))  # Imprimirá: 3\n"
   ]
  },
  {
   "cell_type": "markdown",
   "metadata": {},
   "source": [
    "### Agregar elementos a una tupla\n",
    "\n",
    "Una vez que se crea una tupla, no puedes agregarle elementos. Las tuplas son inmutables, lo que significa que no se pueden cambiar después de su creación.\n",
    "\n",
    "Ejemplo: Intentar agregar un elemento a una tupla (esto generará un error)"
   ]
  },
  {
   "cell_type": "code",
   "execution_count": null,
   "metadata": {},
   "outputs": [],
   "source": [
    "thistuple = (\"apple\", \"banana\", \"cherry\")\n",
    "thistuple[3] = \"orange\"  # Esto generará un error\n",
    "print(thistuple)\n"
   ]
  },
  {
   "cell_type": "markdown",
   "metadata": {},
   "source": [
    "### Comprobar si un elemento existe en una tupla\n",
    "\n",
    "Para determinar si un elemento específico está presente en una tupla, usa la palabra clave in.\n",
    "\n",
    "Ejemplo: Comprobar si \"apple\" está presente en la tupla"
   ]
  },
  {
   "cell_type": "code",
   "execution_count": null,
   "metadata": {},
   "outputs": [],
   "source": [
    "thistuple = (\"apple\", \"banana\", \"cherry\")\n",
    "\n",
    "if \"apple\" in thistuple:\n",
    "    print(\"Yes, 'apple' is in the fruits tuple\")\n"
   ]
  },
  {
   "cell_type": "markdown",
   "metadata": {},
   "source": [
    "### Crear una tupla con un solo elemento\n",
    "\n",
    "Para crear una tupla con un solo elemento, debes agregar una coma después del elemento. De lo contrario, Python no reconocerá la variable como una tupla.\n",
    "\n",
    "Ejemplo: Crear una tupla con un solo elemento (recuerda la coma)"
   ]
  },
  {
   "cell_type": "code",
   "execution_count": null,
   "metadata": {},
   "outputs": [],
   "source": [
    "# Tupla con un solo elemento\n",
    "thistuple = (\"apple\",)\n",
    "print(type(thistuple))  # Imprimirá: <class 'tuple'>\n",
    "\n",
    "# NO es una tupla\n",
    "thistuple = (\"apple\")\n",
    "print(type(thistuple))  # Imprimirá: <class 'str'>\n"
   ]
  },
  {
   "cell_type": "markdown",
   "metadata": {},
   "source": [
    "Recuerda siempre agregar la coma al final del único elemento para que Python reconozca la variable como una tupla."
   ]
  },
  {
   "cell_type": "markdown",
   "metadata": {},
   "source": [
    "### Eliminar elementos\n",
    "\n",
    "Nota: No puedes eliminar elementos en una tupla. Las tuplas son inmutables, por lo que no puedes eliminar elementos de ellas. Sin embargo, puedes eliminar la tupla completa.\n",
    "\n",
    "El constructor tuple()\n",
    "También es posible usar el constructor tuple() para crear una tupla.\n",
    "\n",
    "Ejemplo: Usando el método tuple() para hacer una tupla."
   ]
  },
  {
   "cell_type": "code",
   "execution_count": null,
   "metadata": {},
   "outputs": [],
   "source": [
    "thistuple = (\"apple\", \"banana\", \"cherry\")\n",
    "del thistuple\n",
    "print(thistuple)  # Esto generará un error porque la tupla ya no existe\n"
   ]
  },
  {
   "cell_type": "markdown",
   "metadata": {},
   "source": [
    "Ejemplo: Crear una tupla utilizando el constructor tuple()."
   ]
  },
  {
   "cell_type": "code",
   "execution_count": null,
   "metadata": {},
   "outputs": [],
   "source": [
    "thistuple = tuple((\"apple\", \"banana\", \"cherry\"))  # Observa los paréntesis dobles\n",
    "print(thistuple)\n"
   ]
  },
  {
   "cell_type": "markdown",
   "metadata": {},
   "source": [
    "### Unir dos tuplas\n",
    "\n",
    "Para unir dos o más tuplas, puedes usar el operador +.\n",
    "\n",
    "Ejemplo: Unir dos tuplas."
   ]
  },
  {
   "cell_type": "code",
   "execution_count": null,
   "metadata": {},
   "outputs": [],
   "source": [
    "tuple1 = (\"a\", \"b\", \"c\")\n",
    "tuple2 = (1, 2, 3)\n",
    "tuple3 = tuple1 + tuple2\n",
    "print(tuple3)\n"
   ]
  },
  {
   "cell_type": "markdown",
   "metadata": {},
   "source": [
    "### Métodos de las tuplas\n",
    "\n",
    "Python tiene dos métodos integrados que puedes utilizar en tuplas.\n",
    "\n",
    "* count():\tDevuelve el número de veces que se repite un valor específico en una tupla\n",
    "\n",
    "* index():\tBusca en la tupla un valor específico y devuelve la posición donde se encontró\n",
    "\n",
    "También es posible definir una tupla sin poner los paréntesis, lo que se conoce como \"empaquetado de tupla\".\n",
    "\n",
    "Ejemplo:"
   ]
  },
  {
   "cell_type": "code",
   "execution_count": null,
   "metadata": {},
   "outputs": [],
   "source": [
    "miTupla = \"Angel\", 4, 5.345, True, 4"
   ]
  },
  {
   "cell_type": "markdown",
   "metadata": {},
   "source": [
    "El desempaquetado de tupla permite asignar todos los elementos de una tupla a diferentes variables:"
   ]
  },
  {
   "cell_type": "code",
   "execution_count": null,
   "metadata": {},
   "outputs": [],
   "source": [
    "miTupla = (\"Angel\", 4, 5.345, True, 4)\n",
    "nombre, num1, num2, valor1, num3 = miTupla\n"
   ]
  },
  {
   "cell_type": "markdown",
   "metadata": {},
   "source": [
    "Solo con esto ya has asignado los valores de miTupla.\n",
    "\n",
    "Una tupla unitaria se define colocando una coma al final:"
   ]
  },
  {
   "cell_type": "code",
   "execution_count": null,
   "metadata": {},
   "outputs": [],
   "source": [
    "tuplaUnitaria = (\"Sara\",)"
   ]
  },
  {
   "cell_type": "markdown",
   "metadata": {},
   "source": [
    "Operaciones comunes:"
   ]
  },
  {
   "cell_type": "code",
   "execution_count": null,
   "metadata": {},
   "outputs": [],
   "source": [
    "print(miTupla[2])  # Acceder al elemento en la posición 2, igual que en las listas\n",
    "miLista = list(miTupla)  # Convertir una tupla en una lista\n",
    "miTupla2 = tuple(miLista)  # Convertir una lista en una tupla\n",
    "print(\"Angel\" in miTupla)  # ¿Está \"Angel\" en miTupla?, devuelve True o False\n",
    "print(miTupla.count(4))  # ¿Cuántas veces se encuentra el elemento 4 en miTupla?\n",
    "print(len(miTupla))  # Longitud de miTupla\n",
    "\n",
    "thistuple = (\"apple\", \"banana\", \"cherry\", \"apple\")\n",
    "print(thistuple.count(\"apple\"))  # Devuelve: 2\n"
   ]
  },
  {
   "cell_type": "markdown",
   "metadata": {},
   "source": [
    "## ¿Cuándo utilizar una tupla en lugar de una lista?\n",
    "\n",
    "Hay determinados casos de uso en los que puede ser recomendable utilizar una tupla en lugar de una lista:\n",
    "\n",
    "* La ejecución del programa es más rápida cuando se manipula una tupla que cuando se trata de una lista equivalente. (Esto probablemente no se note cuando la lista o tupla es pequeña).\n",
    "* Si los valores de la colección van a permanecer constantes durante la vida del programa, el uso de una tupla en lugar de una lista protege contra la modificación accidental.\n",
    "* Hay otro tipo de datos de Python que presentaremos próximamente llamado diccionario, que requiere como uno de sus componentes un valor inmutable. Una tupla puede ser utilizada para este propósito, mientras que una lista no puede serlo.\n"
   ]
  },
  {
   "cell_type": "markdown",
   "metadata": {},
   "source": [
    "---\n",
    "\n",
    "## Diccionarios en Python\n",
    "\n",
    "Los diccionarios, también conocidos como matrices asociativas, son colecciones de datos que relacionan claves con valores. En Python, los diccionarios se escriben entre llaves y tienen pares clave-valor. Las claves deben ser inmutables, como números, cadenas o tuplas. Los valores pueden ser de cualquier tipo, incluidos números, strings, listas y otros diccionarios.\n",
    "\n",
    "Características de los diccionarios:\n",
    "\n",
    "Desordenados: Los elementos almacenados no están ordenados.\n",
    "Modificables: Se pueden agregar, eliminar y cambiar elementos.\n",
    "Indexables: Se pueden acceder a los elementos a través de sus claves.\n",
    "\n",
    "Ejemplo de creación y impresión de un diccionario:"
   ]
  },
  {
   "cell_type": "code",
   "execution_count": null,
   "metadata": {},
   "outputs": [],
   "source": [
    "dic = {\n",
    "    \"Nombre\": \"Santiago\",\n",
    "    \"Apellido\": \"Hernandez\",\n",
    "    \"Pais\": \"España\",\n",
    "    \"Ciudad\": \"Madrid\"\n",
    "}\n",
    "print(dic)\n"
   ]
  },
  {
   "cell_type": "markdown",
   "metadata": {},
   "source": [
    "### Creación de diccionarios usando la función dict()"
   ]
  },
  {
   "cell_type": "code",
   "execution_count": null,
   "metadata": {},
   "outputs": [],
   "source": [
    "dic2 = dict(\n",
    "    Nombre=\"Santiago\",\n",
    "    Apellido=\"Hernandez\",\n",
    "    Pais=\"España\",\n",
    "    Ciudad=\"Madrid\"\n",
    ")\n"
   ]
  },
  {
   "cell_type": "markdown",
   "metadata": {},
   "source": [
    "### Métodos de los diccionarios en Python\n",
    "\n",
    "* `clear()`: Borra todos los elementos de un diccionario\n",
    "\n",
    "* `copy()`: Devuelve una copia de un diccionario\n",
    "\n",
    "* `fromkeys()`: Devuelve un diccionario con las claves y valores especificados\n",
    "\n",
    "* `get()`: Devuelve el valor de una clave\n",
    "\n",
    "* `items()`: Devuelve una lista que contiene una tupla por cada par clave-valor\n",
    "\n",
    "* `keys()`: Devuelve una lista que contiene las claves del diccionario\n",
    "\n",
    "* `pop()`: Borra el elemento con la clave especificada\n",
    "\n",
    "* `popitem()`: Borra el último par clave-valor insertado\n",
    "\n",
    "* `setdefault()`: Devuelve el valor de la clave especificada. Si no existe, inserta la clave con el valor especificado\n",
    "\n",
    "* `update()`: Actualiza el diccionario con el par clave-valor que se especifique\n",
    "\n",
    "* `values()`: Devuelve una lista con los valores del diccionario\n",
    "\n",
    "En Python, los diccionarios son similares a los hashtables en Java o los arrays asociativos en PHP."
   ]
  },
  {
   "cell_type": "markdown",
   "metadata": {},
   "source": [
    "---\n",
    "\n",
    "## Bytes y Bytearray en Python\n",
    "\n",
    "Los bytes y bytearrays en Python son tipos de datos utilizados para representar secuencias de bytes. Un byte es una ubicación de memoria de 8 bits. Ambos tipos son inmutables, lo que significa que una vez creados, no pueden ser modificados.\n",
    "\n",
    "### Bytes\n",
    "\n",
    "Los objetos bytes son secuencias inmutables de bytes, conceptualmente similares a las cadenas. Su importancia radica en que cualquier tipo de dato escrito en disco se guarda como una secuencia de bytes. Las cadenas de texto y los números enteros se convierten en secuencias de bytes para su almacenamiento.\n",
    "\n",
    "### Bytearrays\n",
    "\n",
    "Los bytearrays son objetos que también representan secuencias de bytes, pero a diferencia de los objetos bytes, son mutables. Esto significa que se pueden modificar después de su creación.\n",
    "\n",
    "### Uso de bytes y bytearrays\n",
    "\n",
    "Los bytes y bytearrays se utilizan principalmente para almacenar y trabajar con datos binarios, como imágenes, archivos y datos serializados. Son útiles para trabajar con datos masivos y extraer información relevante de ellos.\n",
    "\n",
    "Tanto los bytes como los bytearrays permiten realizar operaciones como intersecciones, uniones y diferencias, de manera similar a otros tipos de datos como conjuntos. Sin embargo, no pueden incluir objetos mutables como listas, diccionarios o incluso otros conjuntos."
   ]
  },
  {
   "cell_type": "markdown",
   "metadata": {},
   "source": [
    "---\n",
    "\n",
    "## Conjuntos (sets)\n",
    "\n",
    "El tipo de datos set en Python hace referencia a un conjunto de datos desordenado y no indexado. Los conjuntos están formados por elementos únicos y utilizan llaves {} para ser definidos. Los conjuntos son mutables.\n",
    "\n",
    "Algunas características de los sets:\n",
    "\n",
    "* No permite elementos duplicados.\n",
    "* No están ordenados, es decir, no mantienen un orden interno en los elementos.\n",
    "* No son indexados.\n",
    "* Son mutables.\n",
    "\n",
    "### Crear un set\n",
    "\n",
    "Se puede crear un set con elementos únicos, de la siguiente forma:"
   ]
  },
  {
   "cell_type": "code",
   "execution_count": null,
   "metadata": {},
   "outputs": [],
   "source": [
    "miSet = {1, 2, 3}\n",
    "print(miSet)\n",
    "# Imprimirá: {1, 2, 3}\n"
   ]
  },
  {
   "cell_type": "markdown",
   "metadata": {},
   "source": [
    "Otra forma de crear un set es utilizando el constructor set():"
   ]
  },
  {
   "cell_type": "code",
   "execution_count": null,
   "metadata": {},
   "outputs": [],
   "source": [
    "miSet = set([1, 2, 3])\n",
    "print(miSet)\n",
    "# Imprimirá: {1, 2, 3}\n"
   ]
  },
  {
   "cell_type": "markdown",
   "metadata": {},
   "source": [
    "Para verificar el tipo de dato de un set, puedes utilizar la función type():"
   ]
  },
  {
   "cell_type": "code",
   "execution_count": null,
   "metadata": {},
   "outputs": [],
   "source": [
    "print(type(miSet))\n",
    "# Imprimirá: <class 'set'>\n"
   ]
  },
  {
   "cell_type": "markdown",
   "metadata": {},
   "source": [
    "### Métodos para conjuntos en Python\n",
    "\n",
    "Python dispone de una variedad de métodos integrados que se pueden utilizar para manipular conjuntos. Estos métodos permiten realizar operaciones como la adición de elementos, la eliminación de elementos, la intersección y la unión de conjuntos, entre otras.\n",
    "\n",
    "|Método\t|Descripción|\n",
    "--------|-----------|\n",
    "|add()\t|Añade un elemento al set\n",
    "|clear()\t|Borra todos los elementos del set\n",
    "|copy()\t|Devuelve una copia del set\n",
    "|difference()\t|Devuelve un set que contiene las diferencias entre dos o más sets\n",
    "|difference\\_update()\t|Borra los elementos del set que están incluidos en otro\n",
    "|discard()\t|Borra el elemento especificado\n",
    "|intersection()\t|Devuelve un set que es la intersección resultante de otros dos\n",
    "|intersection\\_update()\t|Borra los elementos del set que no están presentes en otro\n",
    "|isdisjoint()\t|Informa si dos sets tienen una intersección o no\n",
    "|issubset()\t|Informa si otro set contiene a este set o no\n",
    "|issuperset()\t|Informa si este set contiene a otro set o no\n",
    "|pop()\t|Borra un elemento del set, no podremos elegir cuál.\n",
    "|remove()\t|Borra un elemento específico\n",
    "|symmetric\\_difference()\t|Devuelve un set con las diferencias simétricas de dos sets\n",
    "|symmetric\\_difference\\_update()\t|Inserta las diferencias simétricas de este set y otro\n",
    "|union()\t|Devuelve un set con la unión de dos sets\n",
    "|update()\t|Actualiza el set con la unión de este set y otros"
   ]
  }
 ],
 "metadata": {
  "language_info": {
   "name": "python"
  }
 },
 "nbformat": 4,
 "nbformat_minor": 2
}
