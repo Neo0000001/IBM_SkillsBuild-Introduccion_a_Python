{
 "cells": [
  {
   "cell_type": "markdown",
   "metadata": {},
   "source": [
    "# IBM SkillsBuild | Introducción a Python\n",
    "\n",
    "# Programando en Python: Ejemplo de Complejidad y Notación Big-O\n",
    "\n",
    "---\n",
    "\n",
    "## Índice\n",
    "\n",
    "1. Generar una lista de 100 millones de números aleatorios\n",
    "2. Complejidad Constante O(k) - Constant Time\n",
    "3. Complejidad O(n) - Linear Time\n",
    "4. Complejidad O(n²) - Quadratic Time\n",
    "5. Complejidad O(log(n)) - Logarithmic Time\n",
    "6. Complejidad O(log(log(n))) - Logarithmic from Logarithmic Time\n",
    "7. Cálculo de la Complejidad Algorítmica del Ejemplo\n",
    "\n",
    "## Generar una lista de 100 millones de números aleatorios"
   ]
  },
  {
   "cell_type": "code",
   "execution_count": null,
   "metadata": {},
   "outputs": [],
   "source": [
    "import numpy as np\n",
    "x = list(np.random.randint(low=1, high=500000, size=99999999))\n"
   ]
  },
  {
   "cell_type": "markdown",
   "metadata": {},
   "source": [
    "## Complejidad Constante O(k) - Constant Time\n",
    "\n",
    "La complejidad constante indica que la operación tiene un tiempo de ejecución constante, independientemente del tamaño de la entrada. Este tipo de complejidad suele darse en operaciones básicas como acceder a un elemento de una matriz o ejecutar cálculos sencillos."
   ]
  },
  {
   "cell_type": "code",
   "execution_count": null,
   "metadata": {},
   "outputs": [],
   "source": [
    "%%time\n",
    "def constante(x:list) -> list:\n",
    "    return x\n",
    "\n",
    "\n",
    "constante(x)\n",
    "\n",
    "# Wall time: 0 ns"
   ]
  },
  {
   "cell_type": "markdown",
   "metadata": {},
   "source": [
    "## Complejidad O(n) - Linear Time\n",
    "\n",
    "La complejidad lineal significa que el tiempo de ejecución de la operación aumenta linealmente con el tamaño de la entrada. Las operaciones que iteran a través de una colección, como buscar un elemento en una lista sin ordenar, son ejemplos de complejidad lineal."
   ]
  },
  {
   "cell_type": "code",
   "execution_count": null,
   "metadata": {},
   "outputs": [],
   "source": [
    "%%time\n",
    "def iterador_normal(x:list) -> list:\n",
    "\n",
    "    contador = len(x)\n",
    "\n",
    "    while(contador > 0):\n",
    "        contador -= 1\n",
    "\n",
    "    return x\n",
    "\n",
    "\n",
    "iterador_normal(x)\n",
    "\n",
    "## Wall time: 5.31 s"
   ]
  },
  {
   "cell_type": "markdown",
   "metadata": {},
   "source": [
    "## Complejidad O(n²) - Quadratic Time\n",
    "\n",
    "La complejidad cuadrática implica que el tiempo de ejecución de la operación aumenta cuadráticamente con el tamaño de la entrada. Este tipo de complejidad se observa en algoritmos como el ordenamiento de burbuja o la inserción, donde se realizan iteraciones anidadas sobre una colección de datos."
   ]
  },
  {
   "cell_type": "code",
   "execution_count": null,
   "metadata": {},
   "outputs": [],
   "source": [
    "%%time\n",
    "def iterador_anidado(x: list) -> list:\n",
    "    contador_externo = len(x) // 1000\n",
    "    contador_interno = len(x) // 1000\n",
    "\n",
    "    while contador_externo > 0:\n",
    "        contador_externo -= 1\n",
    "        for i in range(contador_interno):\n",
    "            i\n",
    "\n",
    "    return x\n",
    "\n",
    "\n",
    "iterador_anidado(x)\n",
    "\n",
    "# Wall time: 5min 29s\n"
   ]
  },
  {
   "cell_type": "markdown",
   "metadata": {},
   "source": [
    "## Complejidad O(log(n)) - Logarithmic T\n",
    "\n",
    "La complejidad logarítmica describe una operación cuyo tiempo de ejecución aumenta logarítmicamente con el tamaño de la entrada. El algoritmo de búsqueda binaria en una lista ordenada es un ejemplo de complejidad logarítmica."
   ]
  },
  {
   "cell_type": "code",
   "execution_count": null,
   "metadata": {},
   "outputs": [],
   "source": [
    "%%time\n",
    "def iterador_multiplicado(x: list) -> list:\n",
    "    iterador = len(x)\n",
    "    incremento = 1\n",
    "\n",
    "    while iterador > 0:\n",
    "        iterador -= incremento\n",
    "        incremento *= (incremento + 1)\n",
    "\n",
    "    return x\n",
    "\n",
    "iterador_multiplicado(x)\n",
    "\n",
    "# Wall time: 0 ns\n"
   ]
  },
  {
   "cell_type": "markdown",
   "metadata": {},
   "source": [
    "## Complejidad O(log(n)) - Logarithmic Time\n",
    "\n",
    "La complejidad logarítmica describe una operación cuyo tiempo de ejecución aumenta logarítmicamente con el tamaño de la entrada. El algoritmo de búsqueda binaria en una lista ordenada es un ejemplo de complejidad logarítmica."
   ]
  },
  {
   "cell_type": "code",
   "execution_count": null,
   "metadata": {},
   "outputs": [],
   "source": [
    "%%time\n",
    "def iterador_dividido(x: list) -> list:\n",
    "    iterador = -len(x)\n",
    "    incremento = 1\n",
    "\n",
    "    while iterador < 0:\n",
    "        iterador /= incremento\n",
    "        incremento += 1\n",
    "\n",
    "    return x\n",
    "\n",
    "iterador_dividido(x)\n",
    "\n",
    "# Wall time: 0 ns\n"
   ]
  },
  {
   "cell_type": "markdown",
   "metadata": {},
   "source": [
    "## Complejidad O(log(log(n))) - Logarithmic from Logarithmic Time\n",
    "\n",
    "Esta complejidad indica que el tiempo de ejecución crece doblemente logarítmicamente con el tamaño de la entrada. Los algoritmos que exhiben esta complejidad son raros, pero se pueden encontrar en situaciones específicas como ciertas estructuras de datos y problemas matemáticos."
   ]
  },
  {
   "cell_type": "code",
   "execution_count": null,
   "metadata": {},
   "outputs": [],
   "source": [
    "%%time\n",
    "import math\n",
    "\n",
    "\n",
    "def iterador_incremento_exponencial(x: list) -> list:\n",
    "    iterador = len(x)\n",
    "    incremento = 1\n",
    "\n",
    "    while iterador > 0:\n",
    "        iterador -= pow(incremento, 2)\n",
    "        incremento += 1\n",
    "\n",
    "    return x\n",
    "\n",
    "iterador_incremento_exponencial(x)\n",
    "\n",
    "# Wall time: 0 ns\n"
   ]
  },
  {
   "cell_type": "markdown",
   "metadata": {},
   "source": [
    "## Cálculo de la Complejidad Algorítmica del Ejemplo"
   ]
  },
  {
   "cell_type": "code",
   "execution_count": null,
   "metadata": {},
   "outputs": [],
   "source": [
    "import numpy as np\n",
    "\n",
    "y = list(np.random.randint(low=1, high=500000, size=999))\n",
    "\n",
    "\n",
    "%%time\n",
    "def calculo_bit_o_ejemplo(y: list) -> str:\n",
    "    iterador = -len(y)  # k\n",
    "    incremento = 1  # k\n",
    "    q_list = y  # k\n",
    "\n",
    "    while iterador < 0:  # log(n)\n",
    "        iterador /= incremento  # k\n",
    "        incremento += 1  # k\n",
    "\n",
    "    for p in y:  # n\n",
    "        for q in y:  # n -> n * n\n",
    "            for r in y:  # n -> n * n * n\n",
    "                \n",
    "    return \"La Complejidad es n*n*n, n cubo\"\n",
    "\n",
    "\n",
    "calculo_bit_o_ejemplo(y)\n",
    "\n",
    "# Wall time: 14.7 s\n",
    "# 'La Complejidad es n*n*n, n cubo'\n"
   ]
  },
  {
   "cell_type": "markdown",
   "metadata": {},
   "source": [
    "## Ejemplos de complejidad y tiempos de ejecución\n",
    "\n",
    "1. O(k) - Constant Time: La operación tiene un tiempo de ejecución constante sin importar el tamaño de la entrada.\n",
    "2. O(n) - Linear Time: La operación tiene un tiempo de ejecución que aumenta linealmente con el tamaño de la entrada.\n",
    "3. O(n²) - Quadratic Time: La operación tiene un tiempo de ejecución que aumenta cuadráticamente con el tamaño de la entrada.\n",
    "4. O(log(n)) - Logarithmic Time: La operación tiene un tiempo de ejecución que aumenta logarítmicamente con el tamaño de la entrada.\n",
    "5. O(log(log(n))) - Logarithmic from Logarithmic Time: La operación tiene un tiempo de ejecución que aumenta doblemente logarítmicamente con el tamaño de la entrada.\n",
    "\n",
    "Estos ejemplos ilustran diferentes complejidades algorítmicas y cómo se pueden implementar y medir en Python."
   ]
  }
 ],
 "metadata": {
  "language_info": {
   "name": "python"
  }
 },
 "nbformat": 4,
 "nbformat_minor": 2
}
