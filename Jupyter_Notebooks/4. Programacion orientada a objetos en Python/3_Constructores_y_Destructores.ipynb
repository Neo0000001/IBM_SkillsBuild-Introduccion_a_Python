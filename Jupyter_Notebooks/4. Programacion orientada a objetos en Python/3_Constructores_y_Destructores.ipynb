{
 "cells": [
  {
   "cell_type": "markdown",
   "metadata": {},
   "source": [
    "# IBM SkillsBuild | Introducción a Python\n",
    "\n",
    "# POO con Python - Constructores y destructores\n",
    "\n",
    "---\n",
    "\n",
    "## Índice\n",
    "\n",
    "* Constructores\n",
    "* Destructores\n",
    "\n",
    "---\n",
    "\n",
    "## Constructores\n",
    "\n",
    "Un constructor se define como un método especial con el que damos un estado inicial a nuestros objetos. Siguiendo con el ejemplo de nuestra clase Coche, podemos crear un constructor con el que demos un estado inicial a los objetos de clase Coche que creemos, de tal forma que cada coche creado ya disponga de una serie de atributos y métodos “por defecto”. Luego podremos cambiarlos si queremos, pero “de fábrica” todos los coches saldrán con los atributos y métodos que pongamos en el constructor.\n",
    "\n",
    "<img src='Imagenes/imagen_13.png'>\n",
    "\n",
    "La sintaxis para crear un constructor es:\n",
    "\n",
    "```python\n",
    "def __init__(self):\n",
    "\n",
    "```\n",
    "\n",
    "Recordemos que hemos mencionado que un constructor es un método, por lo tanto, una función. Dentro de dicha función deberemos poner los atributos y métodos iniciales que queremos que nuestras instancias de clase tengan.\n",
    "\n",
    "Pasemos el ejemplo gráfico del coche a código:"
   ]
  },
  {
   "cell_type": "code",
   "execution_count": null,
   "metadata": {},
   "outputs": [],
   "source": [
    "# Creación de la clase Coche\n",
    "class Coche():\n",
    "    # Declaración del constructor de la clase Coche\n",
    "    def __init__(self):\n",
    "        self.largo = 250\n",
    "        self.ancho = 120\n",
    "        self.ruedas = 4\n",
    "        self.peso = 900\n",
    "        self.color = \"rojo\"\n",
    "        self.is_enMarcha = False\n",
    "\n",
    "    # Declaración de métodos\n",
    "    def arrancar(self):\n",
    "        self.is_enMarcha = True\n",
    "\n",
    "    def estado(self):\n",
    "        if (self.is_enMarcha == True):\n",
    "            return \"El coche está arrancado\"\n",
    "        else:\n",
    "            return \"El coche está parado\"\n",
    "\n",
    "\n",
    "# Declaración de una instancia de clase, objeto de clase o ejemplar de clase.\n",
    "coche_1 = Coche()\n",
    "\n",
    "# Acceso a un atributo de la clase Coche. Nomenclatura del punto.\n",
    "coche_1.ruedas = 7\n",
    "print(\"El largo del coche es de\", coche_1.largo, \"cm.\")\n",
    "coche_1.arrancar()\n",
    "print(coche_1.estado())\n"
   ]
  },
  {
   "cell_type": "markdown",
   "metadata": {},
   "source": [
    "Hemos creado la clase Coche y un constructor con el que le damos un estado inicial a los objetos que creemos de dicha clase. En nuestro caso todos los coches que creemos van a tener:\n",
    "\n",
    "* largo = 250\n",
    "* ancho = 120\n",
    "* ruedas = 4\n",
    "* peso = 900\n",
    "* color = \"rojo\"\n",
    "* is_enMarcha = False\n",
    "\n",
    "Como mencionamos anteriormente, este será el estado inicial. Podemos cambiarlo posteriormente y decir, por ejemplo, que coche_1.color = “verde” y desde ese momento el color de coche_1 pasará a valer verde, pero por defecto era rojo como el de todos los coches que creemos con nuestra clase Coche.\n",
    "\n",
    "Toda clase de Python debe tener un constructor, es obligatorio. Pero, entonces, ¿cómo hemos creado nosotros anteriormente los ejemplos de las clases Coche de capítulos anteriores? Si no usamos constructores, ¿estaban mal programadas? La respuesta es no. En los ejemplos anteriores no usamos constructores, pero ello no produjo ningún fallo debido a que, si nosotros no creamos un constructor, Python nos crea uno por defecto. Lo crea vacío, pero lo crea.\n",
    "\n",
    "De modo que, como norma general, siempre crearemos nosotros el constructor de nuestras clases, pero si no lo hacemos, Python lo creará por nosotros. Eso sí, lo crea vacío, sin atributos ni métodos por defecto.\n",
    "\n",
    "En nuestro ejemplo de la clase Coche, hemos dado una serie de atributos fijos a todos los ejemplares de coche que creemos. Pero podemos crear nuestro constructor de forma que sea más flexible y acepte que decidamos lo que va a valer cada uno de esos atributos cuando instanciemos un objeto coche.\n",
    "\n",
    "Es decir, al constructor le diremos los atributos que tiene que recibir un ejemplar de coche, sin darle valor de momento a dichos atributos y será cuando instanciemos dicho ejemplar de coche cuando le diremos lo que vale cada atributo. Es lo que se denomina un constructor con parámetros. Veámoslo con un ejemplo:\n",
    "\n"
   ]
  },
  {
   "cell_type": "code",
   "execution_count": 2,
   "metadata": {},
   "outputs": [],
   "source": [
    "class Coche:\n",
    "    # Declaración del constructor con parámetros\n",
    "    def __init__(self, largo, ancho, ruedas, peso, color, is_enMarcha):\n",
    "        self.ancho = ancho\n",
    "        self.ruedas = ruedas\n",
    "        self.peso = peso\n",
    "        self.color = color\n",
    "        self.is_enMarcha = is_enMarcha\n",
    "\n",
    "\n",
    "# Declaración de dos instancias de clase pasándoles los parámetros requeridos en el constructor.\n",
    "coche_1 = Coche(400, 160, 4, 1200, \"amarillo\", True)\n",
    "coche_2 = Coche(420, 150, 4, 1500, \"verde\", False)\n"
   ]
  },
  {
   "cell_type": "markdown",
   "metadata": {},
   "source": [
    "Como vemos en el ejemplo, hemos creado una clase Coche y en su constructor hemos dicho que, cuando se cree una instancia de Coche, se le deben pasar obligatoriamente el valor de los parámetros; largo, ancho, ruedas, peso, color, is_enMarcha. Estamos obligados a pasar dichos parámetros (y en el mismo orden exacto) al instanciar un ejemplar de coche, de lo contrario, nos dará error.\n",
    "\n",
    "Si cambiásemos la declaración de coche_2 y no le pasásemos un parámetro obligatorio, por ejemplo is_enMarcha nos saldría un mensaje como el siguiente:"
   ]
  },
  {
   "cell_type": "code",
   "execution_count": null,
   "metadata": {},
   "outputs": [],
   "source": [
    "coche_2 = Coche(420, 150, 4, 1500, \"verde\")"
   ]
  },
  {
   "cell_type": "markdown",
   "metadata": {},
   "source": [
    "```python\n",
    "---------------------------------------------------------------------------\n",
    "TypeError                                 Traceback (most recent call last)\n",
    "Cell In[3], line 1\n",
    "----> 1 coche_2 = Coche(420, 150, 4, 1500, \"verde\")\n",
    "\n",
    "TypeError: Coche.__init__() missing 1 required positional argument: 'is_enMarcha'\n",
    "\n",
    "```\n",
    "\n",
    "\n",
    "Como vemos, el programa ha fallado y se nos muestra explícitamente el motivo del fallo. En nuestro caso nos dice que nos falta un argumento (is_enMarcha) que está en el constructor, pero nosotros no lo hemos puesto en el ejemplar de coche.\n",
    "\n",
    "Así pues, el método constructor nos permitirá asignar atributos cada vez que creemos un objeto a partir de esa clase haciéndolo obligatorio. Y además nos permitirá llamar métodos de la clase sin instanciar, entre otras cosas.\n",
    "\n",
    "---\n",
    "\n",
    "## Destructores\n",
    "\n",
    "Así como existe un método constructor, existe un método destructor cuyo cometido consiste en eliminar instancias de una clase. Es decir, elimina un objeto.\n",
    "\n",
    "El método destructor es el método `__del__()`"
   ]
  },
  {
   "cell_type": "code",
   "execution_count": null,
   "metadata": {},
   "outputs": [],
   "source": [
    "class Book():\n",
    "  \"\"\"Clase para trabajar con libros\"\"\"\n",
    "  def __init__(self, title, author = \"\", electronic = False):\n",
    "    self.title = title\n",
    "    self.author = author\n",
    "    self.is_electronic = electronic\n",
    "\n",
    "  def __del__(self):\n",
    "    print(\"Acabas de llamar al método destructor. El objeto acaba de ser eliminado\")\n"
   ]
  },
  {
   "cell_type": "markdown",
   "metadata": {},
   "source": [
    "Para eliminar un objeto, utilizaos la palabra reservada `del`"
   ]
  },
  {
   "cell_type": "code",
   "execution_count": null,
   "metadata": {},
   "outputs": [],
   "source": [
    "book = Book(\"Lazarillo de Tormes\")\n",
    "book.title\n",
    "\n",
    "del book"
   ]
  },
  {
   "cell_type": "markdown",
   "metadata": {},
   "source": [
    "Si intentásemos acceder al objeto book, obtendríamos error pues ha dejado de ser una instancia de la clase Book porque lo hemos eliminado."
   ]
  }
 ],
 "metadata": {
  "kernelspec": {
   "display_name": "Python 3",
   "language": "python",
   "name": "python3"
  },
  "language_info": {
   "codemirror_mode": {
    "name": "ipython",
    "version": 3
   },
   "file_extension": ".py",
   "mimetype": "text/x-python",
   "name": "python",
   "nbconvert_exporter": "python",
   "pygments_lexer": "ipython3",
   "version": "3.12.4"
  }
 },
 "nbformat": 4,
 "nbformat_minor": 2
}
