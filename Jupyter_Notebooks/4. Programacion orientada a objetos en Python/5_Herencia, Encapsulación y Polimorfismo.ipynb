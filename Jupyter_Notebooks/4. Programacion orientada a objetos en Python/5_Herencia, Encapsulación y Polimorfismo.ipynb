{
 "cells": [
  {
   "cell_type": "markdown",
   "metadata": {},
   "source": [
    "# IBM SkillsBuild | Introducción a Python\n",
    "\n",
    "# POO con Python - Herencia, Encapsulación y Polimorfismo\n",
    "\n",
    "---\n",
    "\n",
    "## Índice\n",
    "\n",
    "- Introducción\n",
    "- Herencia múltiple\n",
    "- Super()\n",
    "- Encapsulación\n",
    "- Polimorfismo\n",
    "\n",
    "---\n",
    "\n",
    "## Introducción\n",
    "\n",
    "La herencia en programación es un concepto que se asemeja perfectamente al de herencia en la vida real.\n",
    "\n",
    "Supongamos que tenemos una familia compuesta por unos abuelos, que poseen una casa, unos hijos, que tienen un coche y unos nietos que poseen, por ejemplo, una moto y una bicicleta.\n",
    "\n",
    "<img src ='Imagenes/imagen_44.png'>\n",
    "\n",
    "Cuando los abuelos fallezcan, los hijos pasarán a tener la casa de los abuelos como patrimonio junto al coche que ya poseían.\n",
    "\n",
    "<img src='Imagenes/imagen_45.png'>\n",
    "\n",
    "Y cuando los padres fallezcan, sus hijos heredarán tanto la casa como el coche de sus padres, de modo, que al final, cada hijo tendrá como patrimonio lo que ya poseía más el patrimonio heredado de sus padres que a su vez lo heredaron de sus abuelos.\n",
    "\n",
    "<img src='Imagenes/imagen_46.png'>\n",
    "\n",
    "Pues la herencia en Python se comporta igual que en la vida real. Podemos tener uno o varios objetos \"hijo\" que herede de uno o varios objetos \"padre\" de forma que los hijos heredan los atributos y los métodos de los padres y pueden usarlos como si fuesen suyos propios. A esto lo llamamos una jerarquía de herencia.\n",
    "\n",
    "La herencia en programación nos proporciona dos ventajas muy claras:\n",
    "\n",
    "* Reutilización de código: Si tenemos dos objetos que van a tener propiedades y atributos idénticos, podemos hacer que uno de ellos herede del otro y nos ahorramos tener que implementar todos los métodos y atributos en ambos objetos.\n",
    "\n",
    "* Simplificación: Cuando utilizamos la herencia el código se simplifica sustancialmente.\n",
    "\n",
    "A la hora de pasar todo esto a código, en Python, para indicar que una clase hereda de otra, la sintaxis sería la siguiente:\n",
    "\n",
    "```python\n",
    "\n",
    "Class Coche(Vehiculo):\n",
    "    pass\n",
    "\n",
    "```\n",
    "\n",
    "Nota: Usaremos la palabra clave `pass` cuando no deseemos agregar otras `propiedades` o `métodos` a la `clase`, es decir, cuando vayamos a dejar la clase vacía (de momento).\n",
    "Aquí estamos indicando que la clase Coche hereda de Vehículo. Se heredan atributos y métodos, incluido el constructor.\n",
    "\n",
    "Vamos a ver otro ejemplo de jerarquía de herencia. Supongamos que tenemos una clase padre vehículo con las siguientes propiedades y métodos:\n",
    "\n",
    "```text\n",
    "Vehículo\n",
    "\n",
    "Propiedades:\n",
    "\n",
    "Marca\n",
    "Modelo\n",
    "Color = \"negro\"\n",
    "Arrancado = False\n",
    "Parado = True\n",
    "\n",
    "Métodos:\n",
    "\n",
    "Arrancar()\n",
    "Parar()\n",
    "Resumen()\n",
    "\n",
    "```\n",
    "\n",
    "Ahora necesitamos crear dos clases hijas, Coche y Moto que heredarán de Vehículo.\n",
    "\n",
    "<img src='Imagenes/imagen_47.png'>\n",
    "\n",
    "Posteriormente crearemos una `instancia` de la clase Coche y otra de la clase Moto.\n",
    "\n",
    "Vamos a pasar esta jerarquía de herencia a código:\n"
   ]
  },
  {
   "cell_type": "code",
   "execution_count": 2,
   "metadata": {},
   "outputs": [
    {
     "name": "stdout",
     "output_type": "stream",
     "text": [
      "Marca: Renault \n",
      " Modelo: Megane \n",
      " Color: Negro \n",
      " Está arrancado: True \n",
      " Está parado: False\n",
      "Marca: Kawasaki \n",
      " Modelo: Ninja \n",
      " Color: Negro \n",
      " Está arrancado: False \n",
      " Está parado: True\n"
     ]
    }
   ],
   "source": [
    "class Vehiculo():\n",
    "    \n",
    "    def __init__(self, marca, modelo):\n",
    "        self.marca = marca\n",
    "        self.modelo = modelo\n",
    "        self.color = \"Negro\"\n",
    "        self.arrancado = False\n",
    "        self.parado = True\n",
    "\n",
    "    def arrancar(self):\n",
    "        self.arrancado = True\n",
    "        self.parado = False\n",
    "\n",
    "    def parar(self):\n",
    "        self.parado = True\n",
    "        self.arrancado = False\n",
    "\n",
    "    def resumen(self):\n",
    "        print(\"Marca:\", self.marca, \"\\n\", \"Modelo:\", self.modelo, \"\\n\", \"Color:\", self.color, \"\\n\", \"Está arrancado:\", self.arrancado,\"\\n\", \"Está parado:\", self.parado)\n",
    "\n",
    "\n",
    "miCoche = Vehiculo(\"Renault\", \"Megane\")\n",
    "\n",
    "miCoche.arrancar()\n",
    "\n",
    "miCoche.resumen()\n",
    "\n",
    "\n",
    "class Moto(Vehiculo):\n",
    "    pass\n",
    "\n",
    "\n",
    "miMoto = Moto(\"Kawasaki\", \"Ninja\")\n",
    "\n",
    "miMoto.resumen()"
   ]
  },
  {
   "cell_type": "markdown",
   "metadata": {},
   "source": [
    "Veamos un segundo ejemplo en el que nuestra jerarquía de clases tenga una clase \"abuelo\" una clase \"hija\" y una clase \"nieta\".\n",
    "\n",
    "En esta ocasión vamos a crear una clase Vehículo de la que heredará una clase Moto y que a su vez será padre de una clase Kwad, es decir, gráficamente sería algo como:\n",
    "\n",
    "<img src='Imagenes/imagen_48.png'>\n",
    "\n",
    "Pasemos el ejemplo a código:"
   ]
  },
  {
   "cell_type": "code",
   "execution_count": 5,
   "metadata": {},
   "outputs": [
    {
     "name": "stdout",
     "output_type": "stream",
     "text": [
      "El modelo es un coche \n",
      " Marca: Renault \n",
      " Modelo: Megane \n",
      " Color: negro \n",
      " Está arrancado: True \n",
      " Está parado: False\n",
      "El modelo es una moto \n",
      " Marca: Kawasaki \n",
      " Modelo: Ninja \n",
      " Color: negro \n",
      " Está arrancado: False \n",
      " Está parado: True \n",
      " Tiene carenado: False\n",
      "El modelo es una moto \n",
      " Marca: Linhai \n",
      " Modelo: LH 500 \n",
      " Color: negro \n",
      " Está arrancado: False \n",
      " Está parado: True \n",
      " Tiene carenado: False\n"
     ]
    }
   ],
   "source": [
    "class Vehiculo():\n",
    "    \n",
    "    def __init__(self, marca, modelo):\n",
    "        self.marca = marca\n",
    "        self.modelo = modelo\n",
    "        self.color = \"negro\"\n",
    "        self.arrancado = False\n",
    "        self.parado = True\n",
    "\n",
    "    def arrancar(self):\n",
    "        self.arrancado = True\n",
    "        self.parado = False\n",
    "\n",
    "    def parar(self):\n",
    "        self.parado = True\n",
    "        self.arrancado = False\n",
    "\n",
    "    def resumen(self):\n",
    "        print(\n",
    "            \"El modelo es un coche\", \"\\n\", \"Marca:\", self.marca, \"\\n\", \"Modelo:\", self.modelo, \"\\n\", \"Color:\", self.color, \"\\n\", \"Está arrancado:\", self.arrancado,\"\\n\", \"Está parado:\", self.parado\n",
    "        )\n",
    "\n",
    "\n",
    "miCoche = Vehiculo(\"Renault\", \"Megane\")\n",
    "miCoche.arrancar()\n",
    "miCoche.resumen()\n",
    "\n",
    "\n",
    "class Moto(Vehiculo):\n",
    "\n",
    "    is_carenado = False\n",
    "\n",
    "    # Método propio de la clase Moto, no heredado del padre.\n",
    "    def poner_carenado(self):\n",
    "        self.is_carenado = True\n",
    "\n",
    "    # La clase Moto sobrescribe el método resumen() heredado del padre\n",
    "\n",
    "    def resumen(self):\n",
    "        print(\n",
    "            \"El modelo es una moto\", \"\\n\", \"Marca:\", self.marca, \"\\n\", \"Modelo:\", self.modelo, \"\\n\", \"Color:\", self.color, \"\\n\", \"Está arrancado:\", self.arrancado,\"\\n\", \"Está parado:\", self.parado,\n",
    "        \"\\n\", \"Tiene carenado:\", self.is_carenado\n",
    "        )\n",
    "\n",
    "    \n",
    "miMoto = Moto(\"Kawasaki\", \"Ninja\")\n",
    "miMoto.resumen()\n",
    "\n",
    "\n",
    "class kwad(Moto):\n",
    "    pass\n",
    "\n",
    "\n",
    "miKwad = kwad(\"Linhai\", \"LH 500\")\n",
    "miKwad.resumen()"
   ]
  },
  {
   "cell_type": "markdown",
   "metadata": {},
   "source": [
    "Como podemos ver en este ejemplo, la clase Moto, a pesar de haber heredado el método resumen() lo ha reescrito con nuevas características. Es lo que se denomina sobreescritura de métodos. Es decir, que una clase hija herede un método de una clase padre no significa que esté obligada a usarlo siempre tal cual lo heredó, lo puede modificar según sus necesidades. Si no lo modifica, lo heredará tal cual está implementado en el padre, como es el caso de la clase Kwad, que ha heredado el método resumen() de la clase Moto tal y como está implementado, sin modificarlo.\n",
    "\n",
    "---"
   ]
  },
  {
   "cell_type": "markdown",
   "metadata": {},
   "source": [
    "## Herencia múltiple\n",
    "\n",
    "Como hemos comentado anteriormente, Python admite la herencia múltiple, es decir, admite que una clase herede de dos o más clases. O dicho de otro modo, que una clase \"hija\" pueda heredar de dos o más clases \"padre\". No todos los lenguajes de programación orientada a objetos soportan esta característica.\n",
    "\n",
    "La sintaxis a usar en este caso es simplemente poner entre paréntesis y separados por una coma las clases padre de las que heredará nuestra clase hija.\n",
    "\n",
    "En el siguiente ejemplo la clase bicicleta eléctrica hereda de vehículos y de vehículos eléctricos:"
   ]
  },
  {
   "cell_type": "code",
   "execution_count": null,
   "metadata": {},
   "outputs": [],
   "source": [
    "class B_electrica(Vehiculo, V_electrico:\n",
    "    pass"
   ]
  },
  {
   "cell_type": "markdown",
   "metadata": {},
   "source": [
    "Simplemente poniendo entre paréntesis las clases de las que hereda, nuestra clase hija ya tiene todos los métodos y las propiedades de ambas clases.  \n",
    "Muy importante: Se da preferencia siempre a la primera clase que se indique entre paréntesis.\n",
    "\n",
    "Hereda el constructor de la primera clase que pusimos en el paréntesis, y en caso de que haya métodos comunes, también hereda el del primero.  \n",
    "Para sobrescribir un método heredado de la clase padre, simplemente volvemos a escribir el método con todos sus argumentos y añadimos el nuevo argumento.  \n",
    "\n",
    "Por ejemplo, suponiendo que tenemos un método `estado()` de la clase padre “vehículo\""
   ]
  },
  {
   "cell_type": "code",
   "execution_count": null,
   "metadata": {},
   "outputs": [],
   "source": [
    "def estado(self):  \n",
    "    print(\"Marca\", self.marca, \"Modelo\", self.modelo)"
   ]
  },
  {
   "cell_type": "markdown",
   "metadata": {},
   "source": [
    "Si quisiéramos sobrescribir dicho método en una clase hija “coche” y añadir el método “cilindrada”, que se supone que ya he instanciado:"
   ]
  },
  {
   "cell_type": "code",
   "execution_count": null,
   "metadata": {},
   "outputs": [],
   "source": [
    "def cilindrada(self):  \n",
    "    self.cilindrada = 3000  \n",
    "\n",
    "def estado(self):  \n",
    "    print(\"Marca\", self.marca, \"Modelo\", self.modelo, \"Cilindrada\", self.cilindrada)  \n"
   ]
  },
  {
   "cell_type": "markdown",
   "metadata": {},
   "source": [
    "Podemos ver cómo hemos sobrescrito el método `estado()` del padre para añadir el atributo `cilindrada`, que es propio del hijo y no existe en el padre.\n",
    "\n",
    "---\n",
    "\n",
    "## Super()  \n",
    "\n",
    "Esta función nos permite invocar y conservar un método o atributo de una clase padre (primaria) desde una clase hija (secundaria) sin tener que nombrarla explícitamente.  \n",
    "Esto nos brinda la ventaja de poder cambiar el nombre de la clase padre (base) o hija (secundaria) cuando queramos y aun así mantener un código funcional, sencillo y mantenible.  \n",
    "\n",
    "Supongamos que queremos que una clase hija o secundaria herede los atributos de la clase padre.  \n",
    "Si nosotros no recurrimos a la función `super()`, o llamamos al constructor `__init__` especificando los atributos, deberemos reescribirlos, lo cual en una clase, por ejemplo, con 20 atributos sería una pérdida de tiempo enorme.  \n",
    "\n",
    "Para personalizar el constructor del padre de acuerdo a las necesidades del hijo se usa `super()`.  \n"
   ]
  },
  {
   "cell_type": "code",
   "execution_count": 6,
   "metadata": {},
   "outputs": [
    {
     "name": "stdout",
     "output_type": "stream",
     "text": [
      "El nombre es Angel , tiene 43 años, y es de Malaga\n",
      "El nombre es Manolo , tiene 33 años, y es de Madrid\n",
      "Salario: 2000 , antiguedad: 2017\n"
     ]
    }
   ],
   "source": [
    "class Persona(): \n",
    "\n",
    "    def __init__(self, nombre, edad, lugar):  \n",
    "        self.nombre = nombre  \n",
    "        self.edad = edad  \n",
    "        self.lugar = lugar  \n",
    "\n",
    "    def descripcion(self):  \n",
    "        print(\"El nombre es\", self.nombre, \", tiene\", self.edad, \"años, y es de\", self.lugar)  \n",
    "\n",
    "\n",
    "class Empleado(Persona):  \n",
    "\n",
    "    def __init__(self, salario, antiguedad, nombre_emp, edad_emp, lugar_epm):\n",
    "        super().__init__(nombre_emp, edad_emp, lugar_epm)\n",
    "        self.salario = salario  \n",
    "        self.antiguedad = antiguedad  \n",
    "\n",
    "    def descripcion(self):  \n",
    "        super().descripcion()  \n",
    "        print(\"Salario:\", self.salario, \", antiguedad:\", self.antiguedad)\n",
    "        \n",
    "\n",
    "# Crear objetos e invocar métodos\n",
    "Angel = Persona(\"Angel\", 43, \"Malaga\")  \n",
    "Angel.descripcion()  \n",
    "\n",
    "Empleado1 = Empleado(2000, 2017, \"Manolo\", 33, \"Madrid\")  \n",
    "Empleado1.descripcion()\n"
   ]
  },
  {
   "cell_type": "markdown",
   "metadata": {},
   "source": [
    "Veamos otro ejemplo de uso de super():\n",
    "\n",
    "Jerarquía de clases sin usar super(), sobrescribiendo los atributos del padre:"
   ]
  },
  {
   "cell_type": "code",
   "execution_count": 7,
   "metadata": {},
   "outputs": [
    {
     "name": "stdout",
     "output_type": "stream",
     "text": [
      "Marrones Negras Larga\n"
     ]
    }
   ],
   "source": [
    "class Padre():  # Creamos la clase Padre\n",
    "\n",
    "    def __init__(self, ojos, cejas):  \n",
    "        # Definimos los Atributos en el constructor de la clase  \n",
    "        self.ojos = ojos  \n",
    "        self.cejas = cejas \n",
    "\n",
    "\n",
    "class Hijo(Padre):  # Creamos clase hija que hereda de Padre\n",
    "    \n",
    "    def __init__(self, ojos, cejas, cara):  \n",
    "        # Definimos los atributos en el constructor  \n",
    "        self.ojos = ojos  # Sobreescribimos cada atributo  \n",
    "        self.cejas = cejas  \n",
    "        self.cara = cara  # Especificamos el nuevo atributo para Hijo  \n",
    "\n",
    "Tomas = Hijo('Marrones', 'Negras', 'Larga')  # Instanciamos  \n",
    "print(Tomas.ojos, Tomas.cejas, Tomas.cara)  # Imprimimos los atributos del objeto  \n"
   ]
  },
  {
   "cell_type": "markdown",
   "metadata": {},
   "source": [
    "Mismo ejemplo llamando al constructor de la clase padre:"
   ]
  },
  {
   "cell_type": "code",
   "execution_count": 8,
   "metadata": {},
   "outputs": [
    {
     "name": "stdout",
     "output_type": "stream",
     "text": [
      "Marrones Negras Larga\n"
     ]
    }
   ],
   "source": [
    "class Padre(object):  # Creamos la clase Padre  \n",
    "\n",
    "    def __init__(self, ojos, cejas):  \n",
    "        # Definimos los Atributos  \n",
    "        self.ojos = ojos  \n",
    "        self.cejas = cejas\n",
    "\n",
    "\n",
    "class Hijo(Padre):  # Creamos clase hija que hereda de Padre\n",
    "    \n",
    "    def __init__(self, ojos, cejas, cara):  \n",
    "        # Creamos el constructor de la clase especificando atributos  \n",
    "        Padre.__init__(self, ojos, cejas)  # Especificamos la clase y llamamos a su constructor + Atributos  \n",
    "        self.cara = cara  # Especificamos el nuevo atributo para Hijo  \n",
    "\n",
    "Tomas = Hijo('Marrones', 'Negras', 'Larga')  \n",
    "print(Tomas.ojos, Tomas.cejas, Tomas.cara)  \n"
   ]
  },
  {
   "cell_type": "markdown",
   "metadata": {},
   "source": [
    "Utilizando `super()`. De esta forma es casi el mismo código, pero no necesitamos especificar la clase padre, por lo que podremos cambiarle el nombre en cualquier momento y nuestro código seguirá funcional.  "
   ]
  },
  {
   "cell_type": "code",
   "execution_count": 9,
   "metadata": {},
   "outputs": [
    {
     "name": "stdout",
     "output_type": "stream",
     "text": [
      "Marrones Negras Larga\n"
     ]
    }
   ],
   "source": [
    "class Padre(object):  # Creamos la clase Padre \n",
    "\n",
    "    def __init__(self, ojos, cejas):  \n",
    "        # Definimos los Atributos  \n",
    "        self.ojos = ojos  \n",
    "        self.cejas = cejas  \n",
    "\n",
    "\n",
    "class Hijo(Padre):  # Creamos clase hija que hereda de Padre  \n",
    "\n",
    "    def __init__(self, ojos, cejas, cara):  \n",
    "        # Creamos el constructor de la clase especificando atributos  \n",
    "        super().__init__(ojos, cejas)  # Solicitamos a `super` llamar de la clase padre esos atributos  \n",
    "        self.cara = cara  # Especificamos el nuevo atributo para Hijo \n",
    "        \n",
    "\n",
    "Tomas = Hijo('Marrones', 'Negras', 'Larga')  \n",
    "print(Tomas.ojos, Tomas.cejas, Tomas.cara)  \n"
   ]
  },
  {
   "cell_type": "markdown",
   "metadata": {},
   "source": [
    "De todas estas opciones debemos quedarnos con el uso de `super()` como forma de programar más correcta.  \n",
    "Nota: En el caso de la Herencia Múltiple `super()` no nos sirve. Debemos llamar a los constructores de ambas clases especificándolas por su nombre, y si cambiamos el nombre u orden de la clase, deberemos especificarlo.  \n",
    "\n",
    "---\n",
    "\n",
    "## Encapsulación  \n",
    "\n",
    "En la mayoría de lenguajes que usan el paradigma de la POO nos encontramos con el concepto de encapsulación. Este consiste en poder ocultar los atributos o métodos de una clase para que no se puedan cambiar salvo mediante otros métodos que dispongamos nosotros. Es decir, la encapsulación consiste en denegar el acceso a los atributos y métodos internos de la clase desde el exterior.  \n",
    "\n",
    "Supongamos que tenemos una clase Coche con un atributo que sea `color = \"negro\"`. Cualquiera podría cambiar ese atributo simplemente poniendo `color = \"rojo\"`, por ejemplo. A veces no nos interesa que un atributo se pueda cambiar. Una forma de “blindarlo” para que no se pueda cambiar su valor es mediante la encapsulación.  \n",
    "\n",
    "Tendremos la posibilidad de especificar unos modificadores a nuestros atributos que permitirán o no que su valor se pueda cambiar.  \n",
    "\n",
    "Como norma general tendremos tres modificadores de acceso:  \n",
    "- **Public**: Los atributos `public` serán accesibles y modificables desde cualquier parte de nuestro código. Es el valor por defecto y sería el equivalente a no poner nada.  \n",
    "- **Protected**: Podemos acceder a él desde la misma clase y clases hijas.  \n",
    "- **Private**: Accesible únicamente desde su clase.  \n",
    "\n",
    "Pero todo esto que hemos explicado no se aplica a Python. En Python no se especifican métodos o atributos privados ni públicos. Esto es así porque en Python todos los atributos de una clase son públicos. Es decir, técnicamente en Python no existe la encapsulación.  \n",
    "\n",
    "No obstante, si queremos tener algún atributo o método “oculto” a la interfaz pública, es posible indicarlo con la siguiente convención:\n",
    "\n",
    "1. Por defecto, todos los atributos son públicos. Python asume que “Aquí todos somos adultos” y sabemos leer la documentación de nuestro código y utilizarlo bien.\n",
    "\n",
    "2. Si queremos indicar que algún atributo miembro de una clase es privado, lo haremos añadiendo el símbolo ‘_’ delante del nombre del atributo. Por ejemplo:  \n",
    "   `MiClase._atributoPrivado`. Esto no hace que el atributo sea privado como en otros lenguajes de programación, es solo una indicación al programador, para que sepa que debe usarlo (aunque si quiere, puede hacerlo).\n",
    "   \n",
    "3. Si queremos una “protección extra” utilizaremos 2 guiones ‘__’, en lugar de uno:  \n",
    "   `MiClase.__otroAtribPrivado`. Esto además hará que el intérprete no lo muestre cuando llamemos a la función `help()` para obtener más información de la clase, etc.\n",
    "\n",
    "Por lo tanto, Python proporciona una implementación conceptual de modificadores de acceso público, protegido y privado, pero no como otros lenguajes como C#, Java, C++, etc. Es simplemente una encapsulación “simulada”.  \n",
    "\n",
    "Para acceder a esos datos encapsulados se deberían crear métodos públicos que hagan de interfaz. En otros lenguajes, les llamaríamos getters y setters, y es lo que da lugar a las propiedades, que no son más que atributos protegidos con interfaces de acceso:"
   ]
  },
  {
   "cell_type": "code",
   "execution_count": 10,
   "metadata": {},
   "outputs": [
    {
     "name": "stdout",
     "output_type": "stream",
     "text": [
      "Mi coche tiene 9 ruedas.\n"
     ]
    }
   ],
   "source": [
    "class Coche:\n",
    "\n",
    "    # Método constructor  \n",
    "    def __init__(self):  \n",
    "        self.__largo = 250  \n",
    "        self.__ancho = 120  \n",
    "        self.__ruedas = 4  \n",
    "        self.__peso = 900  \n",
    "        self.__color = \"rojo\"  \n",
    "        self.__is_enMarcha = False\n",
    "        \n",
    "    # Declaración de métodos  \n",
    "    def arrancar(self):  # self hace referencia a la instancia de clase.  \n",
    "        self.is_enMarcha = True  # Es como si pusiésemos miCoche.is_enMarcha = True  \n",
    "\n",
    "    def estado(self):  \n",
    "        if self.is_enMarcha == True:  \n",
    "            return \"El coche está arrancado\"  \n",
    "        else:  \n",
    "            return \"El coche está parado\"  \n",
    "        \n",
    "# Declaración de una instancia de clase, objeto de clase o ejemplar de clase.  \n",
    "\n",
    "miCoche = Coche()  \n",
    "\n",
    "miCoche.__ruedas = 9  \n",
    "print(\"Mi coche tiene\", miCoche.__ruedas, \"ruedas.\")  "
   ]
  },
  {
   "cell_type": "markdown",
   "metadata": {},
   "source": [
    "En este ejemplo hemos creado una clase Coche con una serie de atributos privados: largo, ancho, ruedas, peso, color, is_enMarcha. En otro lenguaje de programación con encapsulación real no podríamos cambiar los valores de dichos atributos.\n",
    "\n",
    "En Python sí podríamos, pero como los hemos declarado como privados, vamos a entender que el programador no quiere que el valor de dichos métodos se cambie manualmente y para ello nos ha ofrecido un método, `arrancar()`, que cambia el valor del atributo `is_enMarcha`. Se supone que, si quisiésemos cambiar el valor de ese atributo, lo ideal es usar el método implementado para tal efecto y no hacerlo de forma manual.\n",
    "\n",
    "---\n",
    "\n",
    "## Polimorfismo  \n",
    "\n",
    "Si hablamos de herencia, tenemos que hablar de polimorfismo. Este término se refiere a la capacidad de que todos los objetos pertenecientes a una misma familia de clases, es decir, que heredan de la misma clase, pueden ser llamados con los métodos de la clase padre que han sobrecargado, pero se comportarán con las llamadas a sus propios métodos sobrecargados.  \n",
    "\n",
    "El polimorfismo es una propiedad de la herencia por la que objetos de distintas subclases pueden responder a una misma acción.  \n",
    "\n",
    "El polimorfismo está implícito en Python, ya que todas las clases son subclases de una superclase común llamada `Object`.  \n",
    "\n",
    "Por ejemplo, la siguiente función aplica una rebaja al precio de un producto:  \n"
   ]
  },
  {
   "cell_type": "code",
   "execution_count": 3,
   "metadata": {},
   "outputs": [],
   "source": [
    "def rebajar_producto(producto, rebaja):  \n",
    "    producto.pvp = producto.pvp - (producto.pvp / 100 * rebaja)"
   ]
  },
  {
   "cell_type": "markdown",
   "metadata": {},
   "source": [
    "Gracias al polimorfismo no tenemos que comprobar si un objeto tiene o no el atributo pvp, simplemente intentamos acceder y si existe, ¡premio!:"
   ]
  },
  {
   "cell_type": "code",
   "execution_count": null,
   "metadata": {},
   "outputs": [],
   "source": [
    "print(producto, \"\\n\")  \n",
    "rebajar_producto(producto, 10)  \n",
    "print(producto)\n"
   ]
  },
  {
   "cell_type": "markdown",
   "metadata": {},
   "source": [
    "Ejemplo 2:"
   ]
  },
  {
   "cell_type": "code",
   "execution_count": null,
   "metadata": {},
   "outputs": [],
   "source": [
    "class Cuadrado(Poligono):  \n",
    "\n",
    "    def __init__(self, lado, color=None):  \n",
    "        Poligono.__init__(self, 4, color)  \n",
    "        self.lado = lado  \n",
    "\n",
    "    def show(self):  \n",
    "        super().show()  \n",
    "        print('lado:', self.lado)\n",
    "        \n",
    "\n",
    "c1 = Cuadrado(2, 'verde')  # Declaramos un cuadrado\n",
    "\n",
    "poligonos = t1, t2, c1  # Tupla con dos Triángulo y un Cuadrado\n",
    "\n",
    "for poligono in poligonos:  \n",
    "    poligono.show()  \n",
    "    print()\n"
   ]
  },
  {
   "cell_type": "markdown",
   "metadata": {},
   "source": [
    "En este ejemplo estamos, primero definiendo la clase Cuadrado, que hereda de Poligono. Creamos una tupla con dos Triangulo y un Cuadrado y recorriéndola con un bucle for. Como vemos, llamamos al método show de cada elemento de la tupla. Como es lógico, cada llamada produce el resultado específico para el tipo de polígono al que pertenece. Notad que esto en Python es trivial ya\n",
    "que siempre tratamos directamente con referencias a objetos, así que la llamada a show es siempre la correspondiente a la del objeto referenciado.\n",
    "\n",
    "Ejemplo 3:"
   ]
  },
  {
   "cell_type": "code",
   "execution_count": 2,
   "metadata": {},
   "outputs": [
    {
     "name": "stdout",
     "output_type": "stream",
     "text": [
      "<class '__main__.Empleado'>\n",
      "Empleado: [Nombre: Juan, Sueldo: 5000]\n",
      "<class '__main__.Gerente'>\n",
      "Gerente [Departamento: Sistemas] Empleado: [Nombre: Karla, Sueldo: 6000]\n"
     ]
    }
   ],
   "source": [
    "class Empleado:\n",
    "\n",
    "    def __init__(self, nombre, sueldo):\n",
    "        self.nombre = nombre\n",
    "        self.sueldo = sueldo\n",
    "\n",
    "    def __str__(self):\n",
    "        return f'Empleado: [Nombre: {self.nombre}, Sueldo: {self.sueldo}]'\n",
    "    \n",
    "    def mostrar_detalles(self):\n",
    "        return str(self)  # Mejor usar str(self) que self.__str__()\n",
    "    \n",
    "    \n",
    "class Gerente(Empleado):\n",
    "\n",
    "    def __init__(self, nombre, sueldo, departamento):\n",
    "        super().__init__(nombre, sueldo)\n",
    "        self.departamento = departamento\n",
    "        \n",
    "    def __str__(self):\n",
    "        return f'Gerente [Departamento: {self.departamento}] {super().__str__()}'\n",
    "    \n",
    "    # def mostrar_detalles(self):\n",
    "    #     return str(self)\n",
    "\n",
    "def imprimir_detalles(objeto):\n",
    "    # print(objeto)\n",
    "    print(type(objeto))\n",
    "    print(objeto.mostrar_detalles())\n",
    "    \n",
    "\n",
    "# Crear instancias y probar el código\n",
    "empleado = Empleado('Juan', 5000)\n",
    "imprimir_detalles(empleado)\n",
    "\n",
    "gerente = Gerente('Karla', 6000, 'Sistemas')\n",
    "imprimir_detalles(gerente)\n"
   ]
  }
 ],
 "metadata": {
  "kernelspec": {
   "display_name": "Python 3",
   "language": "python",
   "name": "python3"
  },
  "language_info": {
   "codemirror_mode": {
    "name": "ipython",
    "version": 3
   },
   "file_extension": ".py",
   "mimetype": "text/x-python",
   "name": "python",
   "nbconvert_exporter": "python",
   "pygments_lexer": "ipython3",
   "version": "3.12.5"
  }
 },
 "nbformat": 4,
 "nbformat_minor": 2
}
