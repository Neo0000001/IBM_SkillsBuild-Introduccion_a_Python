{
 "cells": [
  {
   "cell_type": "markdown",
   "metadata": {},
   "source": [
    "# IBM SkillsBuild | Introducción a Python\n",
    "\n",
    "# Conceptos básicos y sintaxis de Python\n",
    "\n",
    "---\n",
    "\n",
    "# Entrada y salida de datos en Python\n",
    "\n",
    "## Índice\n",
    "\n",
    "1. Introducción\n",
    "2. Cómo recibir información del usuario en Python\n",
    "3. Cómo pedir varios valores de una sola vez\n",
    "4. Entrada de datos en listas, conjuntos, tuplas, etc.\n",
    "5. Solicitando elementos de List/Set uno por uno\n",
    "6. Uso de los métodos map() y list() / set()\n",
    "7. Entrada de datos en una tupla\n",
    "8. Salida de datos en Python\n",
    "9. Salida de datos con formato\n",
    "10. Uso del operador %\n",
    "\n",
    "---\n",
    "\n",
    "## Introducción\n",
    "\n",
    "A continuación, veremos primero diferentes formas en las que podemos recibir información de los usuarios y luego mostrar la salida.\n",
    "\n",
    "---\n",
    "\n",
    "## Cómo recibir información del usuario en Python\n",
    "\n",
    "A veces, podemos necesitar que el usuario introduzca un valor por consola. Para hacer esto, Python proporciona una función input(). Sintaxis: input('prompt'), donde prompt es una cadena opcional (un mensaje) que se mostrará en el momento de realizar la petición de entrada.\n",
    "\n",
    "Ejemplo 1: Pedir al usuario que introduzca su nombre."
   ]
  },
  {
   "cell_type": "code",
   "execution_count": null,
   "metadata": {},
   "outputs": [],
   "source": [
    "nombre = input('Introduce tu nombre: ')\n",
    "\n",
    "print(\"Hola, \" + nombre)\n",
    "print(type(nombre))\n"
   ]
  },
  {
   "cell_type": "markdown",
   "metadata": {},
   "source": [
    "Nota: Python toma todo aquello que el usuario introduzca por medio de un input() como un string. Para convertirlo a cualquier otro tipo de datos, tenemos que convertir la entrada explícitamente. Por ejemplo, para convertir la entrada a int o float, tenemos que usar los métodos int() y float() respectivamente.\n",
    "\n",
    "Ejemplo 2: Solicitar un número y sumarle una unidad.\n"
   ]
  },
  {
   "cell_type": "code",
   "execution_count": null,
   "metadata": {},
   "outputs": [],
   "source": [
    "num = int(input('Introduce un número: '))\n",
    "add = num + 1\n",
    "\n",
    "print(add)\n"
   ]
  },
  {
   "cell_type": "markdown",
   "metadata": {},
   "source": [
    "---\n",
    "\n",
    "## Cómo pedir varios valores de una sola vez\n",
    "\n",
    "Podemos tomar múltiples entradas a la vez, usando el método map()."
   ]
  },
  {
   "cell_type": "code",
   "execution_count": null,
   "metadata": {},
   "outputs": [],
   "source": [
    "a, b, c = map(int, input(\"Introduzca los números: \").split())\n",
    "print(\"Los números son: \", end = \" \")\n",
    "print(a, b, c)\n"
   ]
  },
  {
   "cell_type": "markdown",
   "metadata": {},
   "source": [
    "---\n",
    "\n",
    "## Entrada de datos en listas, conjuntos, tuplas, etc.\n",
    "\n",
    "En el caso de List y Set, la entrada puede tomarse del usuario de dos maneras.\n",
    "\n",
    "* Solicitando los elementos List/Set uno por uno usando los métodos append()/add().\n",
    "* Usando los métodos map() y list()/set().\n",
    "\n",
    "Solicitando elementos de List/Set uno por uno:"
   ]
  },
  {
   "cell_type": "code",
   "execution_count": null,
   "metadata": {},
   "outputs": [],
   "source": [
    "List = list()\n",
    "Set = set()\n",
    "\n",
    "l = int(input(\"Introduzca el tamaño de la lista: \"))\n",
    "s = int(input(\"Introduzca el tamaño del Set: \"))\n",
    "\n",
    "print(\"Introduzca los elementos de la lista:\")\n",
    "\n",
    "for i in range(0, l):\n",
    "    List.append(int(input()))\n",
    "\n",
    "print(\"Introduzca los elementos del Set: \")\n",
    "\n",
    "for i in range(0, s):\n",
    "    Set.add(int(input()))\n",
    "    \n",
    "print(list)\n",
    "print(set)\n"
   ]
  },
  {
   "cell_type": "markdown",
   "metadata": {},
   "source": [
    "---\n",
    "\n",
    "## Uso de los métodos map() y list()/set():"
   ]
  },
  {
   "cell_type": "code",
   "execution_count": null,
   "metadata": {},
   "outputs": [],
   "source": [
    "List = list(map(int, input(\"Introduzca los elementos de la lista:\").split()))\n",
    "Set = set(map(int, input(\"Introduzca los elementos del Set: \").split()))\n",
    "\n",
    "print(List)\n",
    "print(Set)\n"
   ]
  },
  {
   "cell_type": "markdown",
   "metadata": {},
   "source": [
    "---\n",
    "\n",
    "## Entrada de datos en una tupla\n",
    "\n",
    "Sabemos que las tuplas son inmutables, no hay métodos disponibles para agregar elementos a las tuplas. Para agregar un nuevo elemento a una tupla, primero deberemos convertir la tupla en lista, luego agregaremos el elemento a la lista y nuevamente convertiremos la lista en una tupla."
   ]
  },
  {
   "cell_type": "code",
   "execution_count": null,
   "metadata": {},
   "outputs": [],
   "source": [
    "T = (2, 3, 4, 5, 6)\n",
    "\n",
    "print(\"Tupla inicial\")\n",
    "print(T)\n",
    "\n",
    "L = list(T)\n",
    "L.append(int(input(\"Introduzca el nuevo elemento: \")))\n",
    "L = tuple(L)\n",
    "\n",
    "print(\"Tupla final\")\n",
    "print(T)\n"
   ]
  },
  {
   "cell_type": "markdown",
   "metadata": {},
   "source": [
    "---\n",
    "\n",
    "## Salida de datos en Python\n",
    "\n",
    "Python proporciona la función print() para mostrar la salida a los dispositivos de salida estándar. Sintaxis: print(valor).\n",
    "\n",
    "Ejemplo: salida de impresión de Python"
   ]
  },
  {
   "cell_type": "code",
   "execution_count": null,
   "metadata": {},
   "outputs": [],
   "source": [
    "# Demostración de la función print()\n",
    "print(\"GFG\")\n",
    "\n",
    "# Demostración de la función print() con espacios\n",
    "print('G', 'F', 'G')\n"
   ]
  },
  {
   "cell_type": "markdown",
   "metadata": {},
   "source": [
    "En el ejemplo anterior, podemos ver que en el caso de la segunda declaración de impresión hay un espacio entre cada letra y la declaración de impresión siempre agrega un carácter de nueva línea al final de la cadena. Esto se debe a que después de cada carácter se imprime el parámetro sep y al final de la cadena se imprime el parámetro end. Intentemos cambiar este parámetro sep y end.\n",
    "\n",
    "Ejemplo: Salida de Python Print con parámetro personalizado de separación y finalización\n",
    "\n"
   ]
  },
  {
   "cell_type": "code",
   "execution_count": null,
   "metadata": {},
   "outputs": [],
   "source": [
    "print(\"GFG\", end = \"@\")\n",
    "print('G', 'F', 'G', sep = \"#\")\n"
   ]
  },
  {
   "cell_type": "markdown",
   "metadata": {},
   "source": [
    "---\n",
    "\n",
    "## Salida de datos con formato\n",
    "\n",
    "La salida de datos con formato en Python se puede hacer de diversas formas.\n",
    "\n",
    "Uso de literales de cadena formateados\n",
    "\n",
    "Podemos usar literales de cadena con formato, comenzando una cadena con f o F antes de abrir comillas o comillas triples. En esta cadena, podemos escribir expresiones de Python entre { } que pueden referirse a una variable o cualquier valor literal.\n",
    "\n",
    "Ejemplo: formato de cadenas de Python usando una cadena F"
   ]
  },
  {
   "cell_type": "code",
   "execution_count": null,
   "metadata": {},
   "outputs": [],
   "source": [
    "# Declaramos una variable\n",
    "name = \"Antonio\"\n",
    "# Salida\n",
    "print(f'hola {name}!. Qué tal?')\n"
   ]
  },
  {
   "cell_type": "markdown",
   "metadata": {},
   "source": [
    "---\n",
    "\n",
    "## Usando format()\n",
    "\n",
    "También podemos usar la función format() para formatear nuestra salida para que se vea presentable. Las llaves { } funcionan como marcadores de posición. Podemos especificar el orden en que aparecen las variables en la salida.\n",
    "\n",
    "Ejemplo: formato de cadena de Python usando la función format()"
   ]
  },
  {
   "cell_type": "code",
   "execution_count": null,
   "metadata": {},
   "outputs": [],
   "source": [
    "# Declaramos de variables\n",
    "a = 20\n",
    "b = 10\n",
    "\n",
    "# Suma\n",
    "sum = a + b\n",
    "\n",
    "# Resta\n",
    "sub = a - b\n",
    "\n",
    "# Salida\n",
    "print('El valor de a es {} y b es {}'.format(a, b))\n",
    "print('{2} es la suma de {0} y {1}'.format(a, b, sum))\n",
    "print('{sub_value} es la resta de {value_a} y {value_b}'.format(value_a=a, value_b=b, sub_value=sub))\n"
   ]
  },
  {
   "cell_type": "markdown",
   "metadata": {},
   "source": [
    "---\n",
    "\n",
    "## Uso del operador %\n",
    "\n",
    "Podemos usar el operador '%' para formatear la salida. Los valores de '%' se reemplazan con cero o más valores de elementos. El formateo usando '%' es similar al de 'printf' en el lenguaje de programación C.\n",
    "\n",
    "Ejemplo:"
   ]
  },
  {
   "cell_type": "code",
   "execution_count": null,
   "metadata": {},
   "outputs": [],
   "source": [
    "# Entrada de datos\n",
    "num = int(input(\"Introduzca un número: \"))\n",
    "add = num + 5\n",
    "# Salida\n",
    "print(\"La suma es %d\" % add)\n"
   ]
  },
  {
   "cell_type": "markdown",
   "metadata": {},
   "source": [
    "Así, este material cubre una amplia gama de técnicas para manejar la entrada y salida de datos en Python, desde la simple recepción de datos del usuario hasta la formateada presentación de la salida. Estas habilidades son fundamentales para cualquier programador que desee interactuar con los usuarios y presentar información de manera efectiva en sus programas.\n"
   ]
  }
 ],
 "metadata": {
  "language_info": {
   "name": "python"
  }
 },
 "nbformat": 4,
 "nbformat_minor": 2
}
