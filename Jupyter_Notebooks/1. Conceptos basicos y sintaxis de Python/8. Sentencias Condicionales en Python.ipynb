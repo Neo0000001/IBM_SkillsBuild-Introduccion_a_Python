{
 "cells": [
  {
   "cell_type": "markdown",
   "metadata": {},
   "source": [
    "# IBM SkillsBuild | Introducción a Python\n",
    "\n",
    "# Conceptos básicos y sintaxis de Python\n",
    "\n",
    "---\n",
    "\n",
    "# Sentencias condicionales en Python\n",
    "\n",
    "## Índice\n",
    "\n",
    "1. Introducción\n",
    "\n",
    "2. Control de Flujo en Python\n",
    "* La sentencia if\n",
    "  * Sintaxis y anidamiento en Python\n",
    "  * Múltiples ramas condicionales\n",
    "  * Expresiones condicionales\n",
    "\n",
    "* Bucle while\n",
    "  * Bucles y las sentencias continue, break, pass y los bloques else\n",
    "  * Sentencia break\n",
    "  * Sentencia continue\n",
    "  * La sentencia pass\n",
    "  * Bloques else al finalizar bucles\n",
    "  \n",
    "* El bucle for\n",
    "  * Asignación en tuplas\n",
    "  * Vistas en diccionarios\n",
    "  * Bucles for y contadores\n",
    "  * Iteradores\n",
    "    * Objetos iterables\n",
    "    * El protocolo de iteración de Python\n",
    "    * La función next\n",
    "    * Iteradores e iterables\n",
    "    * La función iter\n",
    "    * Creando nuestros propios iteradores\n",
    "\n",
    "---\n",
    "\n",
    "## Introducción\n",
    "\n",
    "Python también dispone de modificadores de flujo de ejecución como condicionales y bucles con los que poder tomar decisiones o repetir código un número de veces.\n",
    "\n",
    "## Control de Flujo en Python\n",
    "\n",
    "En esta unidad vamos a conocer las sentencias condicionales.\n",
    "\n",
    "### La sentencia if\n",
    "\n",
    "La primera sentencia que nos permite controlar el flujo de nuestro programa es la sentencia if. Esta sentencia nos permite ejecutar trozos de código condicionalmente, tal y como vemos en el siguiente diagrama de flujo:\n",
    "\n",
    "<img src='Imagenes/imagen-1.png'>\n",
    "\n",
    "Sintaxis:"
   ]
  },
  {
   "cell_type": "code",
   "execution_count": null,
   "metadata": {},
   "outputs": [],
   "source": [
    "CONDICION = True\n",
    "\n",
    "if CONDICION:\n",
    "    print('Se ejecuta si CONDICION es TRUE')\n",
    "    print('También se ejecuta')\n",
    "\n",
    "print('Ya estamos fuera del if')\n"
   ]
  },
  {
   "cell_type": "markdown",
   "metadata": {},
   "source": [
    "Veamos un ejemplo:"
   ]
  },
  {
   "cell_type": "code",
   "execution_count": null,
   "metadata": {},
   "outputs": [],
   "source": [
    "a = 10\n",
    "b = 3\n",
    "\n",
    "if a > b:\n",
    "    print('SI se cumple la condición')  # Bloque indentado 4 espacios\n",
    "    \n",
    "print('Ya estamos fuera del if')\n"
   ]
  },
  {
   "cell_type": "markdown",
   "metadata": {},
   "source": [
    "Como vemos, la sentencia if tiene una sintaxis que nos resultará familiar. Básicamente se trata de realizar una evaluación de una expresión que devuelve un booleano (en este caso a > b). Si la expresión devuelve TRUE entonces entramos en un bloque de código específico (el primer print del ejemplo). Si la expresión devuelve FALSE, no entramos en ese bloque de código.\n",
    "\n",
    "---\n",
    "\n",
    "### Sintaxis y anidamiento en Python\n",
    "\n",
    "A diferencia de otros lenguajes cercanos a C, Python elimina bastantes elementos para aumentar la legibilidad del código. Por ejemplo, la misma sentencia en C++ sería lo siguiente:\n",
    "\n",
    "```c++\n",
    "if (a > b) {\n",
    "    printf(\"a es mayor que b\");\n",
    "}\n",
    "\n",
    "```\n",
    "\n",
    "Mientras que, en Python, el mismo código sería:\n",
    "\n",
    "```python\n",
    "if a > b:  # if en Python\n",
    "    print('a es mayor que b')\n",
    "\n",
    "```\n",
    "\n",
    "Las principales diferencias consisten en que Python añade los dos puntos (:) al final de la evaluación condicional para indicar que va a empezar un bloque nuevo. Además, elimina:\n",
    "\n",
    "* Paréntesis en la evaluación. En Python son opcionales.\n",
    "* Llaves que encierran el bloque. Python no utiliza llaves para separar bloques de código. En su lugar, la anidación se indica mediante el uso de bloques indentados, normalmente por cuatro (4) espacios.\n",
    "* Punto y coma. En Python es opcional y se usa normalmente para delimitar varias sentencias en una misma línea (una práctica nada recomendada).\n",
    "\n",
    "Cuando se diseñó Python, se hizo pensando en la legibilidad de su código, por lo que se apostó por simplificar el número de elementos que pueblan cada sentencia. Además, el hecho de eliminar llaves para separar bloques de código, implicó que se utilizara la indentación como medio de separar bloques de código. Esto fuerza a que los programadores tengan que tener cuidado de la indentación al escribir, lo que produce que el código sea más ordenado y coherente, aumentando así su legibilidad. Esto fuerza a que siempre seamos coherentes con las indentaciones, cosa que no pasa en otros lenguajes de programación donde el hecho de usar llaves lleva a muchos programadores a ser descuidados con las indentaciones, por lo que muchas veces vemos distintas estrategias de indentación en un mismo programa. A pesar de ser una de las características que más molestan a los recién llegados, esta es una de las muchas decisiones de diseño del lenguaje donde se puede apreciar su elegancia.\n",
    "\n",
    "La anidación de bloques se hace en grupos de 4 espacios. Así, si tenemos múltiples anidaciones, iremos aumentando 4 espacios en cada bloque.\n",
    "\n",
    "<img src='Imagenes/imagen-2.png'>\n",
    "\n",
    "En un diagrama de flujo esto correspondería con:\n",
    "\n",
    "<img src='Imagenes/imagen-3.png'>\n",
    "\n",
    "---\n",
    "\n",
    "## Múltiples ramas condicionales\n",
    "\n",
    "Una vez entendido el concepto básico de la sentencia if, vamos a ver cómo podemos crear múltiples ramas condicionales utilizando las palabras clave else y elif (abreviatura de \"else if\").\n",
    "\n",
    "Ejemplo:\n",
    "\n"
   ]
  },
  {
   "cell_type": "code",
   "execution_count": null,
   "metadata": {},
   "outputs": [],
   "source": [
    "a = 10\n",
    "b = 3\n",
    "\n",
    "if a > b:\n",
    "    print('Se ha cumplido la condición')\n",
    "else:\n",
    "    print('No se ha cumplido la condición')\n",
    "    \n",
    "print('Ya estamos fuera del if')\n"
   ]
  },
  {
   "cell_type": "markdown",
   "metadata": {},
   "source": [
    "En este caso vemos cómo, mediante la palabra clave else, podemos ejecutar un bloque de código si no se ha cumplido la condición evaluada en la expresión del if. La palabra clave else se encuentra al mismo nivel que el if al que enlaza.\n",
    "\n",
    "Si queremos evaluar más condiciones, utilizamos la palabra clave elif.\n",
    "\n",
    "Ejemplo:"
   ]
  },
  {
   "cell_type": "code",
   "execution_count": null,
   "metadata": {},
   "outputs": [],
   "source": [
    "a = 10\n",
    "b = 10\n",
    "\n",
    "if a > b:\n",
    "    print('A es mayor que B')\n",
    "elif a == b:\n",
    "    print('A es igual a B')\n",
    "else:\n",
    "    print('A es menor que B')\n",
    "    \n",
    "print('Ya hemos salido del condicional')\n"
   ]
  },
  {
   "cell_type": "markdown",
   "metadata": {},
   "source": [
    "La palabra clave elif nos permite hacer evaluaciones alternativas a la del if. Si la evaluación del if devuelve False, entonces se evalúa el bloque del elif y se ejecuta su código asociado si la condición es True. Podemos utilizar tantos elif como necesitemos. Si ninguna de las evaluaciones de if o elif se cumple, se ejecutará el bloque else.\n",
    "\n",
    "---\n",
    "\n",
    "## Expresiones condicionales\n",
    "\n",
    "Si hemos programado en C/C++ o JavaScript, es muy probable que conozcamos el operador ternario: (a > b) ? 20 : 30. Este operador devuelve 20 si a es mayor que b, o 30 si no lo es. En Python, tenemos un operador equivalente pero con una sintaxis más legible:\n",
    "\n",
    "Ejemplo:"
   ]
  },
  {
   "cell_type": "code",
   "execution_count": null,
   "metadata": {},
   "outputs": [],
   "source": [
    "a = 10\n",
    "b = 3\n",
    "\n",
    "resultado = 20 if a > b else 30\n",
    "\n",
    "print(resultado)\n"
   ]
  },
  {
   "cell_type": "markdown",
   "metadata": {},
   "source": [
    "Esta expresión se llama expresión condicional u operador ternario. A diferencia de la sentencia if, este operador es una expresión en sí misma y no una sentencia. La notación es la siguiente:\n",
    "\n",
    "```python\n",
    "x = true_value if condición else false_value\n",
    "\n",
    "```\n",
    "\n"
   ]
  },
  {
   "cell_type": "markdown",
   "metadata": {},
   "source": [
    "A pesar de que la expresión se lee de izquierda a derecha, realmente se evalúa en el siguiente orden:\n",
    "\n",
    "1. Primero se evalúa condición.\n",
    "2. Si es verdadera, se devuelve true_value.\n",
    "3. Si es falsa, se devuelve false_value.\n",
    "\n",
    "Es una manera muy reducida de escribir condicionales y es equivalente al siguiente bloque de código:\n",
    "\n",
    "```python\n",
    "if condición:\n",
    "    x = true_value\n",
    "else:\n",
    "    x = false_value\n",
    "\n",
    "```\n"
   ]
  },
  {
   "cell_type": "markdown",
   "metadata": {},
   "source": [
    "Es conveniente no abusar de estas expresiones y utilizarlas sólo cuando estemos escribiendo evaluaciones pequeñas que no requieran mucho texto ni condiciones complejas de entender. Además, aunque no sea necesario, es recomendable envolver esta expresión entre paréntesis para mejorar su legibilidad:\n",
    "\n",
    "```python\n",
    "x = (true_value if condición else false_value)\n",
    "\n",
    "```\n",
    "\n",
    "\n"
   ]
  },
  {
   "cell_type": "markdown",
   "metadata": {},
   "source": [
    "---\n",
    "\n",
    "## Ejemplos prácticos de condicionales en Python\n",
    "\n",
    "__Ejemplo 1__\n",
    "\n",
    "Un usuario introduce texto desde teclado y queremos averiguar si es un número entero. Si es entero, lo añadiremos a una variable tipo lista de números enteros.\n",
    "\n",
    "Para resolver este ejercicio hay varias cosas que aún no hemos visto:\n",
    "\n",
    "__Cómo introducir texto desde teclado__\n",
    "\n",
    "Se realiza con la sentencia:"
   ]
  },
  {
   "cell_type": "code",
   "execution_count": null,
   "metadata": {},
   "outputs": [],
   "source": [
    "a = input('Introduce un número: ')\n"
   ]
  },
  {
   "cell_type": "markdown",
   "metadata": {},
   "source": [
    "Lo que introduzcamos por teclado se almacenará en la variable a y será siempre de tipo string, como podemos comprobar con el siguiente código:"
   ]
  },
  {
   "cell_type": "code",
   "execution_count": null,
   "metadata": {},
   "outputs": [],
   "source": [
    "print(type(a))"
   ]
  },
  {
   "cell_type": "markdown",
   "metadata": {},
   "source": [
    "__Cómo saber si un texto se corresponde a un número__\n",
    "\n",
    "Para ello, utilizamos la siguiente instrucción:"
   ]
  },
  {
   "cell_type": "code",
   "execution_count": null,
   "metadata": {},
   "outputs": [],
   "source": [
    "if a.isdigit():\n",
    "    print(f'{a} es un número entero')\n",
    "else:\n",
    "    print(f'{a} no es un número entero')\n"
   ]
  },
  {
   "cell_type": "markdown",
   "metadata": {},
   "source": [
    "Cuando veamos los bucles, veremos que podemos utilizar este método para crear una lista de números sin correr el riesgo de generar errores cuando el usuario introduce algún carácter no numérico.\n",
    "\n",
    "__Ejemplo 2__\n",
    "\n",
    "Tenemos un diccionario en el que asociamos los números de los documentos de identidad de ciertas personas con su edad. Queremos realizar un programa en el que el usuario introduzca el número de un documento de identidad. Si dicho número ya está en el diccionario, debe mostrar la edad; en caso contrario, debe solicitarnos que introduzcamos la edad, que posteriormente añadiremos al diccionario.\n",
    "\n",
    "Código de ejemplo:"
   ]
  },
  {
   "cell_type": "code",
   "execution_count": null,
   "metadata": {},
   "outputs": [],
   "source": [
    "personas = {'12345678': 30, '87654321': 25}\n",
    "\n",
    "doc_id = input('Introduce el número de documento de identidad: ')\n",
    "\n",
    "if doc_id in personas:\n",
    "    print(f'La edad de la persona con documento {doc_id} es {personas[doc_id]} años')\n",
    "else:\n",
    "    edad = int(input('Introduce la edad: '))\n",
    "    personas[doc_id] = edad\n",
    "    print(f'Documento {doc_id} añadido con edad {edad} años')\n"
   ]
  },
  {
   "cell_type": "markdown",
   "metadata": {},
   "source": [
    "__Ejemplo 3__\n",
    "\n",
    "¿Cómo haríamos si quisiéramos guardar este diccionario en un archivo y posteriormente abrirlo siempre que queramos consultarlo? Para ello, usamos el paquete Path y Pickle (los veremos más detalladamente en otro momento). Pickle nos ofrece procedimientos para poder leer y escribir diccionarios en archivos. El paquete Path lo utilizamos para comprobar si el archivo existe.\n",
    "\n",
    "__Leer un archivo y guardarlo en un diccionario:__"
   ]
  },
  {
   "cell_type": "code",
   "execution_count": null,
   "metadata": {},
   "outputs": [],
   "source": [
    "import pickle\n",
    "from pathlib import Path\n",
    "\n",
    "file_path = Path('personas.pkl')\n",
    "\n",
    "if file_path.exists():\n",
    "    with open(file_path, 'rb') as file:\n",
    "        personas = pickle.load(file)\n",
    "else:\n",
    "    personas = {}\n",
    "\n",
    "print(personas)\n"
   ]
  },
  {
   "cell_type": "markdown",
   "metadata": {},
   "source": [
    "__Escribir un diccionario en un archivo:__"
   ]
  },
  {
   "cell_type": "code",
   "execution_count": null,
   "metadata": {},
   "outputs": [],
   "source": [
    "import pickle\n",
    "from pathlib import Path\n",
    "\n",
    "personas = {'12345678': 30, '87654321': 25}\n",
    "\n",
    "with open('personas.pkl', 'wb') as file:\n",
    "    pickle.dump(personas, file)\n"
   ]
  },
  {
   "cell_type": "markdown",
   "metadata": {},
   "source": [
    "Nota: Como verás, hemos puesto los nombres de variables y comentarios en inglés; esta es la práctica habitual en programación.\n",
    "\n",
    "---\n",
    "\n",
    "## Bucle while\n",
    "\n",
    "Con estos tres ejemplos hemos podido ver el uso de los condicionales y además hemos podido repasar los temas anteriores. A continuación, veremos los bucles y los combinaremos con sentencias condicionales.\n",
    "\n",
    "Otra de las sentencias más utilizadas en un programa son los bucles while. Al igual que en otros lenguajes de programación, el bucle while repite un trozo de código iterativamente mientras se cumpla una determinada condición.\n",
    "\n",
    "Ejemplo:"
   ]
  },
  {
   "cell_type": "code",
   "execution_count": null,
   "metadata": {},
   "outputs": [],
   "source": [
    "a = 0\n",
    "\n",
    "while a < 3:\n",
    "    print(a, end=' ')  # Acabamos con espacios en lugar de salto de línea\n",
    "    a += 1  # Equivalente a: a = a + 1\n",
    "    \n",
    "print('\\nHemos salido fuera del while')\n"
   ]
  },
  {
   "cell_type": "markdown",
   "metadata": {},
   "source": [
    "Al comenzar cada iteración, la expresión de inicio del while es evaluada. Si la expresión se cumple (devuelve True), se vuelve a entrar en el while. Si no se cumple (devuelve False), el while deja de ejecutarse y pasamos a la siguiente sentencia tras el while.\n",
    "\n",
    "Así es como se expresaría en un diagrama de flujo:\n",
    "\n",
    "<img src='Imagenes/imagen-4.png'>\n",
    "\n",
    "---\n",
    "\n",
    "## Bucles y las sentencias continue, break, pass y los bloques else\n",
    "\n",
    "Ahora que sabemos cómo realizar bucles en Python, vamos a ver algunas sentencias que nos permiten alterar el flujo natural de los mismos. Éstas son las siguientes sentencias:\n",
    "\n",
    "* `break`: Interrumpe el flujo y sale fuera del bucle.\n",
    "* `continue`: Salta al comienzo de la siguiente iteración del bucle.\n",
    "* `pass`: No hace nada. Es una sentencia vacía.\n",
    "* `else`: Se ejecuta al finalizar un bucle solo si el bucle ha finalizado con normalidad, es decir, sin haber ejecutado un break.\n",
    "\n",
    "### Sentencia break\n",
    "\n",
    "Veamos algunos ejemplos de estas sentencias, empezando por la sentencia break.\n",
    "\n",
    "Ejemplo:"
   ]
  },
  {
   "cell_type": "code",
   "execution_count": null,
   "metadata": {},
   "outputs": [],
   "source": [
    "a = 5\n",
    "\n",
    "while a:\n",
    "    print(a, end=' ')\n",
    "    if a == 2:\n",
    "        break\n",
    "\n",
    "    a -= 1\n",
    "    \n",
    "print('\\nFuera del Bucle.')\n",
    "print(f'Valor de \"a\": {a}')\n"
   ]
  },
  {
   "cell_type": "markdown",
   "metadata": {},
   "source": [
    "Como vemos, esta sentencia interrumpe inmediatamente el bucle y sale a la siguiente sentencia del código. Notemos que en este caso la expresión que estamos evaluando es la propia variable a. Esto puede parecer raro al principio, pero es una forma muy elegante de evaluar expresiones en este tipo de sentencias. Ten en cuenta que en el while siempre se evalúa una expresión booleana. Es decir, que en realidad estamos evaluando bool(a) que, al ser a un entero, devuelve False cuando a == 0 y True en cualquier otro caso.\n",
    "\n",
    "### Sentencia continue\n",
    "\n",
    "La sentencia continue se usa dentro de los bucles para saltar a la siguiente iteración del bucle sin ejecutar el resto del código dentro del bucle para la iteración actual.\n",
    "\n",
    "Ejemplo:"
   ]
  },
  {
   "cell_type": "code",
   "execution_count": null,
   "metadata": {},
   "outputs": [],
   "source": [
    "a = 5\n",
    "\n",
    "while a:\n",
    "    a -= 1\n",
    "    if a % 2 == 0:\n",
    "        continue\n",
    "\n",
    "    print(a, end=' ')\n",
    "    \n",
    "print('\\nFin del bucle.')\n"
   ]
  },
  {
   "cell_type": "markdown",
   "metadata": {},
   "source": [
    "En este caso, cada vez que a es un número par, la sentencia continue hace que el bucle salte directamente al inicio de la siguiente iteración, omitiendo el print(a, end=' '). Esto significa que sólo los números impares son impresos.\n",
    "\n",
    "### Sentencia pass\n",
    "\n",
    "La sentencia pass no hace nada. Se utiliza como un marcador de posición cuando se requiere una sintaxis, pero no se desea ejecutar ningún código.\n",
    "\n",
    "Ejemplo:"
   ]
  },
  {
   "cell_type": "code",
   "execution_count": null,
   "metadata": {},
   "outputs": [],
   "source": [
    "a = 5\n",
    "\n",
    "while a:\n",
    "    a -= 1\n",
    "    if a % 2 == 0:\n",
    "        pass  # No se hace nada aquí, solo se continúa el bucle\n",
    "    else:\n",
    "        print(a, end=' ')\n",
    "        \n",
    "print('\\nFin del bucle.')\n"
   ]
  },
  {
   "cell_type": "markdown",
   "metadata": {},
   "source": [
    "Aquí, la sentencia pass no afecta al flujo del programa, simplemente permite que el bucle continúe su ejecución.\n",
    "\n",
    "### Bloque else en bucles\n",
    "\n",
    "Python permite añadir un bloque else a un bucle while o for. Este bloque else se ejecuta sólo si el bucle termina normalmente, es decir, sin que se haya ejecutado un break.\n",
    "\n",
    "Ejemplo:"
   ]
  },
  {
   "cell_type": "code",
   "execution_count": null,
   "metadata": {},
   "outputs": [],
   "source": [
    "a = 5\n",
    "\n",
    "while a:\n",
    "    a -= 1\n",
    "    print(a, end=' ')\n",
    "    if a == 2:\n",
    "        break\n",
    "else:\n",
    "    print('El bucle ha terminado sin interrupciones.')\n",
    "    \n",
    "print('\\nFin del bucle.')\n"
   ]
  },
  {
   "cell_type": "markdown",
   "metadata": {},
   "source": [
    "En este caso, el bloque else no se ejecuta porque el bucle se interrumpió con un break.\n",
    "\n",
    "---\n",
    "\n",
    "## Bucle for\n",
    "\n",
    "El bucle for en Python se utiliza para iterar sobre una secuencia (que puede ser una lista, una tupla, un diccionario, un conjunto o una cadena). Es más utilizado que el while cuando se conoce de antemano el número de iteraciones o se quiere recorrer una colección de elementos.\n",
    "\n",
    "Ejemplo:"
   ]
  },
  {
   "cell_type": "code",
   "execution_count": null,
   "metadata": {},
   "outputs": [],
   "source": [
    "for i in range(5):\n",
    "    print(i, end=' ')\n",
    "    \n",
    "print('\\nFin del bucle.')\n"
   ]
  },
  {
   "cell_type": "markdown",
   "metadata": {},
   "source": [
    "El bucle for en este ejemplo itera desde 0 hasta 4, ya que la función range(5) genera una secuencia de números desde 0 hasta 4 (sin incluir el 5).\n",
    "\n",
    "---\n",
    "\n",
    "### Bucles anidados\n",
    "\n",
    "Python permite anidar bucles, es decir, colocar un bucle dentro de otro. Esto es útil cuando se necesita recorrer matrices o tablas.\n",
    "\n",
    "Ejemplo:"
   ]
  },
  {
   "cell_type": "code",
   "execution_count": null,
   "metadata": {},
   "outputs": [],
   "source": [
    "for i in range(3):\n",
    "    for j in range(3):\n",
    "        print(f'({i}, {j})', end=' ')\n",
    "        \n",
    "    print()\n"
   ]
  },
  {
   "cell_type": "markdown",
   "metadata": {},
   "source": [
    "Aquí, el bucle exterior for i in range(3) se ejecuta tres veces, y por cada iteración de i, el bucle interior for j in range(3) también se ejecuta tres veces, produciendo todas las combinaciones posibles de (i, j).\n",
    "\n",
    "---\n",
    "\n",
    "### Ejemplos prácticos de bucles en Python\n",
    "\n",
    "__Ejemplo 1: Calcular la suma de una lista de números__\n",
    "\n",
    "Podemos usar un bucle for para sumar todos los elementos de una lista.\n",
    "\n",
    "Código:"
   ]
  },
  {
   "cell_type": "code",
   "execution_count": null,
   "metadata": {},
   "outputs": [],
   "source": [
    "numeros = [1, 2, 3, 4, 5]\n",
    "suma = 0\n",
    "\n",
    "for numero in numeros:\n",
    "    suma += numero\n",
    "    \n",
    "print(f'La suma de los números es: {suma}')\n"
   ]
  },
  {
   "cell_type": "markdown",
   "metadata": {},
   "source": [
    "__Ejemplo 2: Encontrar el valor máximo en una lista__\n",
    "\n",
    "Podemos usar un bucle for para encontrar el valor máximo en una lista de números.\n",
    "\n",
    "Código:"
   ]
  },
  {
   "cell_type": "code",
   "execution_count": null,
   "metadata": {},
   "outputs": [],
   "source": [
    "numeros = [1, 5, 3, 9, 2]\n",
    "maximo = numeros[0]\n",
    "\n",
    "for numero in numeros:\n",
    "    if numero > maximo:\n",
    "        maximo = numero\n",
    "        \n",
    "print(f'El valor máximo es: {maximo}')\n"
   ]
  },
  {
   "cell_type": "markdown",
   "metadata": {},
   "source": [
    "---\n",
    "\n",
    "## Conclusión\n",
    "\n",
    "Hemos cubierto las bases de las sentencias condicionales y los bucles en Python. Estas herramientas son esenciales para controlar el flujo de un programa y realizar tareas repetitivas de manera eficiente. Recuerda practicar estos conceptos con diferentes ejemplos para afianzar tu comprensión.\n",
    "\n",
    "---\n",
    "\n",
    "## Asignación en tuplas\n",
    "\n",
    "En Python, es posible asignar valores a múltiples variables a la vez utilizando tuplas. Esto es útil para simplificar el código y mejorar su legibilidad.\n",
    "\n",
    "Ejemplo:"
   ]
  },
  {
   "cell_type": "code",
   "execution_count": null,
   "metadata": {},
   "outputs": [],
   "source": [
    "a, b, c = 1, 2, 3\n",
    "\n",
    "print(a, b, c)\n"
   ]
  },
  {
   "cell_type": "markdown",
   "metadata": {},
   "source": [
    "Este código asigna los valores 1, 2 y 3 a las variables a, b y c, respectivamente, en una sola línea.\n",
    "\n",
    "---\n",
    "\n",
    "## Vistas en diccionarios\n",
    "\n",
    "Los diccionarios en Python tienen métodos que devuelven vistas de sus elementos, claves y valores. Estas vistas se actualizan automáticamente cuando el diccionario cambia.\n",
    "\n",
    "Ejemplo:"
   ]
  },
  {
   "cell_type": "code",
   "execution_count": null,
   "metadata": {},
   "outputs": [],
   "source": [
    "diccionario = {'a': 1, 'b': 2, 'c': 3}\n",
    "claves = diccionario.keys()\n",
    "valores = diccionario.values()\n",
    "elementos = diccionario.items()\n",
    "\n",
    "print(claves)\n",
    "print(valores)\n",
    "print(elementos)\n"
   ]
  },
  {
   "cell_type": "markdown",
   "metadata": {},
   "source": [
    "---\n",
    "\n",
    "## Bucles for y contadores\n",
    "\n",
    "Usar un bucle for junto con la función range() es común para ejecutar un bloque de código un número específico de veces. También podemos utilizar un contador dentro de los bucles para llevar un registro de las iteraciones.\n",
    "\n",
    "Ejemplo:"
   ]
  },
  {
   "cell_type": "code",
   "execution_count": null,
   "metadata": {},
   "outputs": [],
   "source": [
    "for i in range(5):\n",
    "    print(f'Iteración número: {i}')\n"
   ]
  },
  {
   "cell_type": "markdown",
   "metadata": {},
   "source": [
    "En este caso, i toma los valores desde 0 hasta 4, y se imprime el número de iteración en cada paso.\n",
    "\n",
    "---\n",
    "\n",
    "## Iteradores\n",
    "\n",
    "En Python, un iterador es un objeto que permite recorrer todos los elementos de una colección, como una lista o un diccionario. Los iteradores implementan dos métodos: `__iter__()` y `__next__()`.\n",
    "\n",
    "Ejemplo:"
   ]
  },
  {
   "cell_type": "code",
   "execution_count": null,
   "metadata": {},
   "outputs": [],
   "source": [
    "numeros = [1, 2, 3]\n",
    "iterador = iter(numeros)\n",
    "\n",
    "print(next(iterador))  # Salida: 1\n",
    "print(next(iterador))  # Salida: 2\n",
    "print(next(iterador))  # Salida: 3\n"
   ]
  },
  {
   "cell_type": "markdown",
   "metadata": {},
   "source": [
    "---\n",
    "\n",
    "## Objetos Iterables\n",
    "\n",
    "Un objeto iterable es un objeto que puede devolver un iterador, por ejemplo, listas, tuplas y cadenas.\n",
    "\n",
    "Ejemplo:"
   ]
  },
  {
   "cell_type": "code",
   "execution_count": null,
   "metadata": {},
   "outputs": [],
   "source": [
    "lista = [1, 2, 3]\n",
    "\n",
    "for elemento in lista:\n",
    "    print(elemento)\n"
   ]
  },
  {
   "cell_type": "markdown",
   "metadata": {},
   "source": [
    "---\n",
    "\n",
    "## El Protocolo de Iteración de Python\n",
    "\n",
    "El protocolo de iteración de Python consta de dos métodos:\n",
    "\n",
    "* `__iter__()`: Devuelve el iterador del objeto.\n",
    "* `__next__()`: Devuelve el siguiente elemento del iterador.\n",
    "\n",
    "Ejemplo:"
   ]
  },
  {
   "cell_type": "code",
   "execution_count": null,
   "metadata": {},
   "outputs": [],
   "source": [
    "class Contador:\n",
    "    def __init__(self, maximo):\n",
    "        self.maximo = maximo\n",
    "        self.actual = 0\n",
    "\n",
    "    def __iter__(self):\n",
    "        return self\n",
    "\n",
    "    def __next__(self):\n",
    "        if self.actual < self.maximo:\n",
    "            self.actual += 1\n",
    "            return self.actual\n",
    "        else:\n",
    "            raise StopIteration\n",
    "\n",
    "\n",
    "contador = Contador(5)\n",
    "\n",
    "for numero in contador:\n",
    "    print(numero)\n"
   ]
  },
  {
   "cell_type": "markdown",
   "metadata": {},
   "source": [
    "---\n",
    "\n",
    "## La función next\n",
    "\n",
    "La función next permite obtener el siguiente elemento de un iterador. Si el iterador se ha agotado, se levanta una excepción StopIteration.\n",
    "\n",
    "Ejemplo:"
   ]
  },
  {
   "cell_type": "code",
   "execution_count": 1,
   "metadata": {},
   "outputs": [
    {
     "name": "stdout",
     "output_type": "stream",
     "text": [
      "1\n",
      "2\n",
      "3\n",
      "No hay más elementos.\n"
     ]
    }
   ],
   "source": [
    "numeros = [1, 2, 3]\n",
    "iterador = iter(numeros)\n",
    "\n",
    "print(next(iterador))  # Salida: 1\n",
    "print(next(iterador))  # Salida: 2\n",
    "print(next(iterador))  # Salida: 3\n",
    "\n",
    "try:\n",
    "    print(next(iterador))  # Esto levantará una excepción StopIteration\n",
    "except StopIteration:\n",
    "    print(\"No hay más elementos.\")\n"
   ]
  },
  {
   "cell_type": "markdown",
   "metadata": {},
   "source": [
    "---\n",
    "\n",
    "## La función iter\n",
    "\n",
    "La función iter devuelve un iterador a partir de un objeto iterable.\n",
    "\n",
    "Ejemplo:"
   ]
  },
  {
   "cell_type": "code",
   "execution_count": 2,
   "metadata": {},
   "outputs": [
    {
     "name": "stdout",
     "output_type": "stream",
     "text": [
      "P\n",
      "y\n",
      "t\n"
     ]
    }
   ],
   "source": [
    "cadena = \"Python\"\n",
    "iterador = iter(cadena)\n",
    "\n",
    "print(next(iterador))  # Salida: P\n",
    "print(next(iterador))  # Salida: y\n",
    "print(next(iterador))  # Salida: t\n"
   ]
  },
  {
   "cell_type": "markdown",
   "metadata": {},
   "source": [
    "## Diferencia entre iterable e iterador\n",
    "\n",
    "En Python, es importante entender la diferencia entre un iterable y un iterador.\n",
    "\n",
    "* Iterable: Un objeto que contiene una colección de elementos y se puede recorrer. Ejemplos de objetos iterables son listas, tuplas, cadenas, y diccionarios. Estos objetos tienen un método `__iter__()` que devuelve un iterador.\n",
    "\n",
    "* Iterador: Un objeto que permite recorrer un iterable. Este objeto implementa los métodos `__iter__()` y `__next__()`. Cada llamada a `__next__()` devuelve el siguiente elemento del iterable. Cuando ya no hay más elementos, lanza una excepción StopIteration.\n",
    "\n",
    "### Ejemplo sencillo de iterable e iterador\n",
    "\n",
    "Vamos a ver un ejemplo práctico.\n",
    "\n",
    "Ejemplo de un iterable:\n"
   ]
  },
  {
   "cell_type": "code",
   "execution_count": null,
   "metadata": {},
   "outputs": [],
   "source": [
    "# Creamos una lista, que es un ejemplo de un iterable\n",
    "mi_lista = [1, 2, 3, 4]\n",
    "\n",
    "# Podemos recorrer la lista con un bucle for\n",
    "for elemento in mi_lista:\n",
    "    print(elemento)\n"
   ]
  },
  {
   "cell_type": "markdown",
   "metadata": {},
   "source": [
    "Explicación:\n",
    "\n",
    "1. mi_lista es un iterable (lista).\n",
    "2. Usamos un bucle for para recorrer cada elemento de mi_lista y lo imprimimos.\n",
    "\n",
    "Ejemplo de un iterador:"
   ]
  },
  {
   "cell_type": "code",
   "execution_count": null,
   "metadata": {},
   "outputs": [],
   "source": [
    "# Creamos una lista, que es un iterable\n",
    "mi_lista = [1, 2, 3, 4]\n",
    "\n",
    "# Convertimos la lista en un iterador\n",
    "mi_iterador = iter(mi_lista)\n",
    "\n",
    "# Utilizamos el método next() para obtener los elementos uno a uno\n",
    "print(next(mi_iterador))  # Salida: 1\n",
    "print(next(mi_iterador))  # Salida: 2\n",
    "print(next(mi_iterador))  # Salida: 3\n",
    "print(next(mi_iterador))  # Salida: 4\n",
    "\n",
    "# Si intentamos obtener otro elemento, lanzará una excepción StopIteration\n",
    "try:\n",
    "    print(next(mi_iterador))  # Esto fallará\n",
    "except StopIteration:\n",
    "    print(\"No hay más elementos.\")\n"
   ]
  },
  {
   "cell_type": "markdown",
   "metadata": {},
   "source": [
    "Explicación:\n",
    "\n",
    "1. mi_lista es un iterable.\n",
    "2. mi_iterador = iter(mi_lista) convierte el iterable en un iterador.\n",
    "3. Usamos next(mi_iterador) para obtener cada elemento de uno en uno.\n",
    "4. Después de recorrer todos los elementos, `next()` lanza una excepción `StopIteration`.\n",
    "\n",
    "__Visualización en ASCII Art__\n",
    "\n",
    "Aquí tienes una visualización en ASCII art que puede ayudarte a entender mejor la diferencia entre un iterable y un iterador:\n",
    "\n",
    "```scss\n",
    "+-------------+       +-------------+\n",
    "|  Iterable   |-----> |  Iterador   |\n",
    "|  [1, 2, 3]  |       |  next() -> 1|\n",
    "+-------------+       +-------------+\n",
    "                        next() -> 2\n",
    "                        next() -> 3\n",
    "                        next() -> StopIteration\n",
    "\n",
    "```\n",
    "\n",
    "\n",
    "* El iterable es como una caja que contiene elementos.\n",
    "* El iterador es como una mano que saca los elementos de la caja uno a uno hasta que no queda nada.\n"
   ]
  },
  {
   "cell_type": "markdown",
   "metadata": {},
   "source": [
    "---\n",
    "\n",
    "## Creando nuestros propios iteradores\n",
    "\n",
    "Podemos crear nuestros propios iteradores definiendo las clases con los métodos `__iter__` y `__next__`.\n",
    "\n",
    "Ejemplo:"
   ]
  },
  {
   "cell_type": "code",
   "execution_count": null,
   "metadata": {},
   "outputs": [],
   "source": [
    "class Contador:\n",
    "    def __init__(self, maximo):\n",
    "        self.maximo = maximo\n",
    "        self.actual = 0\n",
    "\n",
    "    def __iter__(self):\n",
    "        return self\n",
    "\n",
    "    def __next__(self):\n",
    "        if self.actual < self.maximo:\n",
    "            self.actual += 1\n",
    "            return self.actual\n",
    "        else:\n",
    "            raise StopIteration\n",
    "\n",
    "\n",
    "contador = Contador(3)\n",
    "\n",
    "for numero in contador:\n",
    "    print(numero)\n"
   ]
  },
  {
   "cell_type": "markdown",
   "metadata": {},
   "source": [
    "Con esto, cubrimos un amplio espectro de conceptos relacionados con las sentencias condicionales, bucles y el protocolo de iteración en Python. Estos conceptos son fundamentales para escribir código eficiente y legible."
   ]
  }
 ],
 "metadata": {
  "kernelspec": {
   "display_name": "Python 3",
   "language": "python",
   "name": "python3"
  },
  "language_info": {
   "codemirror_mode": {
    "name": "ipython",
    "version": 3
   },
   "file_extension": ".py",
   "mimetype": "text/x-python",
   "name": "python",
   "nbconvert_exporter": "python",
   "pygments_lexer": "ipython3",
   "version": "3.12.3"
  }
 },
 "nbformat": 4,
 "nbformat_minor": 2
}
