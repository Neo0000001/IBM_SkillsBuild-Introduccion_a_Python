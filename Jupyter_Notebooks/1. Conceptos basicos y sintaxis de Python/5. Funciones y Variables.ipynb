{
 "cells": [
  {
   "cell_type": "markdown",
   "metadata": {},
   "source": [
    "# IBM SkillsBuild | Introducción a Python\n",
    "\n",
    "# Conceptos básicos y sintaxis de Python\n",
    "\n",
    "---\n",
    "\n",
    "# Funciones y Variables\n",
    "\n",
    "## Índice\n",
    "\n",
    "1. Introducción\n",
    "\n",
    "2. Ventajas de utilizar las funciones\n",
    "   * Aumentan la reusabilidad de código y minimizan la redundancia (repetición)\n",
    "   * Permiten la descomposición procedural\n",
    "  \n",
    "3. Sintaxis básica de una función en Python\n",
    "\n",
    "4. Funciones y polimorfismo\n",
    "\n",
    "5. Funciones anidadas\n",
    "\n",
    "6. Recursividad\n",
    "\n",
    "7. Devolviendo múltiples valores simultáneamente\n",
    "\n",
    "8. Experimenta\n",
    "\n",
    "9. Ámbito de una función\n",
    "   * Ámbitos y sus propiedades\n",
    "   * Resolución de nombres. La regla LEGB\n",
    "\n",
    "10. Parámetros y argumentos\n",
    "    * Argumentos de las funciones\n",
    "    * Un vistazo a las distintas formas de paso de argumentos\n",
    "\n",
    "11. Consideraciones de diseño al programar con funciones\n",
    "    * Acoplamiento\n",
    "    * Cohesión\n",
    "\n",
    "12. Experimenta\n",
    "\n",
    "13. Definición de variables\n",
    "    * Asignar un valor a una variable en Python\n",
    "\n",
    "---\n",
    "\n",
    "## Introducción\n",
    "\n",
    "En esta unidad vamos a aprender cómo crear funciones en Python. Una función es un grupo de sentencias agrupadas de tal forma que pueden ser invocadas por un mismo nombre. Las funciones pueden devolver un resultado y ser parametrizadas para permitir que el resultado de las mismas sea diferente en función de cómo se la ha llamado.\n",
    "\n",
    "Las funciones son también la unidad estructural más básica que maximiza la reusabilidad de código, por lo que nos permite avanzar hacia nociones de diseño de software más ambiciosas que las vistas hasta ahora. Esto es gracias a que las funciones nos permiten separar nuestros programas en pequeños bloques más manejables que pueden ser reutilizados en diversas partes de nuestro software. El hecho de implementar nuestro código en funciones hace que este sea más reusable, más fácil de programar y permite que otros programadores puedan entender nuestro código más fácilmente.\n",
    "\n",
    "---\n",
    "\n",
    "## Ventajas de utilizar las funciones\n",
    "\n",
    "__Aumentan la reusabilidad de código y minimizan la redundancia (repetición)__\n",
    "\n",
    "Las funciones son la manera más simple y sencilla de empaquetar funcionalidades de manera que se puedan utilizar en diversas partes de un programa sin tener que repetir código. Nos permiten agrupar y generalizar código de manera que podamos utilizarlo arbitrariamente tantas veces como necesitemos. Esto convierte a las funciones en un elemento primordial de la factorización de código, lo que nos permite reducir la redundancia y, por lo tanto, reducir el esfuerzo necesario en mantener nuestro código.\n",
    "\n",
    "__Permiten la descomposición procedural__\n",
    "\n",
    "Es decir, permiten descomponer programas en pequeñas partes donde cada parte tiene un rol bien definido. Por lo general es más fácil programar pequeñas piezas de código y componerlas en programas más grandes que escribir todo el proceso de una sola vez.\n",
    "\n",
    "En esta unidad vamos a conocer la sintaxis necesaria para operar con funciones, aprenderemos el concepto de ámbito (scope) y veremos cómo parametrizar nuestras funciones para que sean más genéricas. Con todo esto estaremos preparados para iniciar un camino mucho más ambicioso en el mundo de la programación en Python y que continuaremos en las próximas unidades y cursos de esta especialización.\n",
    "\n",
    "---\n",
    "\n",
    "## Sintaxis básica de una función en Python\n",
    "\n",
    "La sintaxis necesaria para declarar una función es la siguiente:\n",
    "\n",
    "```python\n",
    "def nombre_de_la_función(arg1, arg2, ...argN):\n",
    "    sentencias\n",
    "    return   # El return es opcional\n",
    "\n",
    "```\n",
    "\n",
    "\n",
    "La declaración empieza con la sentencia `def` seguida del nombre que le queremos dar a la función. Seguidamente escribiremos un listado de 0 a N argumentos (también llamados parámetros de la función) encapsulados entre paréntesis y finalizamos la declaración con el carácter “`:`”.\n",
    "\n",
    "Tras esto, y en una nueva línea, escribiremos el cuerpo de nuestra función, que consistirá en un grupo de sentencias a ejecutar finalizando con la sentencia opcional `return` acompañada del valor a devolver.\n",
    "\n",
    "Para llamar a la función simplemente escribiremos el nombre de la misma seguida de los argumentos que le queremos pasar, encapsulados entre paréntesis. Veamos un par de ejemplos:"
   ]
  },
  {
   "cell_type": "code",
   "execution_count": null,
   "metadata": {},
   "outputs": [],
   "source": [
    "def suma(a, b):                     # Definimos la función \"suma\". Tiene 2 parámetros.\n",
    "    return a + b                    # \"return\" devuelve el resultado de la función.\n",
    "\n",
    "\n",
    "suma(2, 3)                          # Llamada a la función. Hay que pasarle dos parámetros.\n",
    "# Resultado: 5\n",
    "\n",
    "\n",
    "def en_pantalla(frase1, frase2):\n",
    "    print(frase1, frase2)           # \"return\" no es obligatorio\n",
    "\n",
    "\n",
    "en_pantalla('Me gusta', 'Python')   # Resultado: Me gusta Python\n"
   ]
  },
  {
   "cell_type": "markdown",
   "metadata": {},
   "source": [
    "Como puedes ver, no es necesario utilizar `return`. En las `funciones que no tienen return`, devuelven `None`."
   ]
  },
  {
   "cell_type": "code",
   "execution_count": null,
   "metadata": {},
   "outputs": [],
   "source": [
    "def suma(a, b):     # Definimos la función \"suma\". Tiene 2 parámetros.\n",
    "    return a + b    # \"return\" devuelve el resultado de la función.\n",
    "\n",
    "\n",
    "x = suma(2, 3)\n",
    "print(x)            # Guardamos el resultado en x\n"
   ]
  },
  {
   "cell_type": "markdown",
   "metadata": {},
   "source": [
    "---\n",
    "\n",
    "## Funciones y polimorfismo\n",
    "\n",
    "Hemos comentado que una de las ventajas del uso de funciones es que permiten la reusabilidad de código. Esto es más cierto aún en Python, donde muchos tipos de datos soportan polimorfismo, es decir, cada tipo de dato sabe cómo comportarse ante una gran variedad de operadores. Esto es directamente aplicable al uso de funciones, por lo que podemos encontrarnos casos como el siguiente:"
   ]
  },
  {
   "cell_type": "code",
   "execution_count": 6,
   "metadata": {},
   "outputs": [
    {
     "data": {
      "text/plain": [
       "'Me gusta Python'"
      ]
     },
     "execution_count": 6,
     "metadata": {},
     "output_type": "execute_result"
    }
   ],
   "source": [
    "def suma(a, b):                 # Definimos la función \"suma\". Tiene 2 parámetros.\n",
    "    return a + b                # \"return\" devuelve el resultado de la función.\n",
    "\n",
    "\n",
    "suma(2, 3)                      # Función con ints\n",
    "# Resultado = 5\n",
    "\n",
    "suma(2.7, 4.0)                  # Función con floats\n",
    "# Resultado = 6.7\n",
    "\n",
    "suma('Me gusta ', 'Python')     # Función con strings\n"
   ]
  },
  {
   "cell_type": "markdown",
   "metadata": {},
   "source": [
    "Esto es así porque en Python las funciones no tienen tipo (recordemos la unidad de Tipado Dinámico). En un gran número de casos, el tipo de salida de una función dependerá del tipo de los parámetros que le pasemos. Hay excepciones a esta regla, como por ejemplo que nosotros estemos forzando el tipo de salida en la sentencia return. Esta es una idea central en el lenguaje que le dota de una gran flexibilidad y de facilidades de reusar a la hora de programar. En Python, una función no tiene por qué preocuparse de los tipos de entrada y salida. Es el propio intérprete el que se encargará de verificar que los tipos que le pasamos a la función soportan los protocolos que hayamos codificado en el interior de la misma. De hecho, si no los soporta, el intérprete se encargará de generar una excepción, lo que nos evita la tarea de tener que hacer control de errores en nuestra función. Si lo hiciéramos, estaríamos restando flexibilidad a la función, cosa que no suele ser deseable, salvo que sea una decisión de diseño.\n",
    "\n",
    "---\n",
    "\n",
    "## Funciones anidadas\n",
    "\n",
    "Es posible crear funciones dentro de funciones."
   ]
  },
  {
   "cell_type": "code",
   "execution_count": 1,
   "metadata": {},
   "outputs": [
    {
     "name": "stdout",
     "output_type": "stream",
     "text": [
      "Python\n",
      "100\n"
     ]
    }
   ],
   "source": [
    "def f1(a):          # Función que \"encierra\" a f2 (enclosing)\n",
    "    print(a)\n",
    "    b = 100\n",
    "\n",
    "    def f2(x):      # Función anidada\n",
    "        print(x)    # Llamamos a f2 desde f1\n",
    "        \n",
    "    f2(b)\n",
    "\n",
    "\n",
    "f1('Python')        # Llamamos a f1\n"
   ]
  },
  {
   "cell_type": "markdown",
   "metadata": {},
   "source": [
    "Como vemos, es posible crear funciones dentro de otras funciones.\n",
    "\n",
    "---\n",
    "\n",
    "## Recursividad\n",
    "\n",
    "Al igual que en otros lenguajes de programación, en Python una función puede llamarse a sí misma, generando recursividad. Es importante tener en cuenta que no se genere una recursividad infinita, es decir, la función debe tener una condición de salida. Un ejemplo muy habitual de recursividad en programación es la función que calcula el factorial de un número (recordemos que el factorial de x es igual a x * (x - 1) * (x - 2) * … * 1)."
   ]
  },
  {
   "cell_type": "code",
   "execution_count": null,
   "metadata": {},
   "outputs": [],
   "source": [
    "def factorial(x):\n",
    "    if x > 1:\n",
    "        return x * factorial(x - 1)\n",
    "    else:\n",
    "        return 1\n",
    "\n",
    "\n",
    "factorial(5)\n"
   ]
  },
  {
   "cell_type": "markdown",
   "metadata": {},
   "source": [
    "En esta función vemos que la condición de salida de la recursividad se cumple cuando x es igual a 1.\n",
    "\n",
    "---\n",
    "\n",
    "### Devolviendo  múltiples valores simultáneamente\n",
    "\n",
    "Las funciones pueden devolver cualquier objeto con la sentencia return. Por ello, si combinamos el devolver una tupla con el desempaquetado extendido que permite Python, podemos simular la devolución de múltiples valores:"
   ]
  },
  {
   "cell_type": "code",
   "execution_count": 4,
   "metadata": {},
   "outputs": [
    {
     "name": "stdout",
     "output_type": "stream",
     "text": [
      "0 6\n"
     ]
    }
   ],
   "source": [
    "def maxmin(lista):\n",
    "    return max(lista), min(lista)   # Devuelve una tupla de 2 elementos\n",
    "\n",
    "\n",
    "l = [1, 3, 5, 6, 0]\n",
    "maximo, minimo = maxmin(l)          # Desempaqueta la tupla en 2 variables\n",
    "print(minimo, maximo, sep=' ')\n"
   ]
  },
  {
   "cell_type": "markdown",
   "metadata": {},
   "source": [
    "### Experimenta\n",
    "\n",
    "Realiza una función que realice la descomposición en factores de un número. Deberá devolver una lista con los factores de dicho número. Recordad que la descomposición en factores de un número consiste en hallar el conjunto de números primos cuya multiplicación dé dicho número como resultado.\n",
    "\n",
    "Pista: Lo primero que debe hacer la función es hallar todos los números primos hasta dicho número. Recordad también que un número es primo si el resto de dividirlo por cualquier número menor que él, excepto el 1, da distinto de 0.\n",
    "\n"
   ]
  },
  {
   "cell_type": "markdown",
   "metadata": {},
   "source": [
    "---\n",
    "\n",
    "## Ámbito de una función\n",
    "\n",
    "Las variables de una función no son visibles desde fuera de la misma y solo viven mientras se ejecuta la función. Para utilizar variables que sean accesibles a lo largo de todo el programa deberemos declararlas a un nivel superior (a nivel de script, por ejemplo).\n",
    "\n",
    "__Ámbitos y sus propiedades__\n",
    "\n",
    "Ámbito: En Python una variable es accesible dentro del bloque de código donde ha sido declarada. A este bloque se le llama ámbito de la variable. En general los ámbitos en Python son:\n",
    "\n",
    "* Locales: Variables declaradas dentro de una función, solo accesibles dentro de esa función.\n",
    "* Globales: Variables declaradas en el módulo, accesibles a lo largo del módulo (del script).\n",
    "* Variables no locales (enclosures): Variables declaradas dentro de una función que a su vez está declarada dentro de otra función. Serán accesibles a lo largo de las funciones anidadas.\n",
    "\n",
    "El valor de una variable puede leerse pero no modificarse. Para ello será necesario especificar de qué tipo de variable se trata. Esto puede realizarse mediante las palabras clave global y nonlocal. Estas palabras clave permiten la manipulación (lectura y escritura) de variables globales y no locales (enclosures) desde cualquier parte del código.\n",
    "\n",
    "---\n",
    "\n",
    "## Resolución de nombres: La regla LEGB\n",
    "\n",
    "En Python la resolución de nombres sigue la regla de búsqueda LEGB (Local-Enclosure-Global-Builtins). Es decir, cuando se evalúa una variable se sigue la regla:\n",
    "\n",
    "1. `Local`: Se busca en el ámbito local (dentro de la función).\n",
    "2. `Enclosure`: Se busca en el ámbito de la función contenedora.\n",
    "3. `Global`: Se busca en el ámbito global del módulo (o script).\n",
    "4. `Builtins`: Se busca en los nombres definidos por Python.\n",
    "\n",
    "Veamos un ejemplo:"
   ]
  },
  {
   "cell_type": "code",
   "execution_count": null,
   "metadata": {},
   "outputs": [],
   "source": [
    "a = 'Global'\n",
    "b = 'Global'\n",
    "\n",
    "\n",
    "def func1():\n",
    "    a = 'Enclosure'  # a es local a func1.\n",
    "\n",
    "    def func2():\n",
    "        b = 'Local'\n",
    "        print(a)\n",
    "        print(b)\n",
    "        \n",
    "    func2()\n",
    "\n",
    "\n",
    "func1()\n",
    "print(a)\n",
    "print(b)\n",
    "# Resultado: \n",
    "# Enclosure \n",
    "# Local \n",
    "# Global \n",
    "# Global\n"
   ]
  },
  {
   "cell_type": "markdown",
   "metadata": {},
   "source": [
    "Como vemos la resolución de nombres sigue la regla LEGB.\n",
    "\n",
    "---\n",
    "\n",
    "## Parámetros y Argumentos\n",
    "\n",
    "Las funciones son, en esencia, agrupaciones de código reutilizable. Este código puede ser parametrizado mediante el uso de variables. Así, por ejemplo, en lugar de tener una función que calcule la raíz cuadrada de 9 podemos crear una función que calcule la raíz cuadrada de cualquier número. Para ello definiremos una función que acepte uno o más parámetros.\n",
    "\n",
    "__Argumentos de las Funciones__\n",
    "\n",
    "Los argumentos de una función son, en esencia, variables locales a dicha función. Estas se inicializan con los valores que se pasan como argumentos en la llamada a la función.\n",
    "\n",
    "Por ejemplo:"
   ]
  },
  {
   "cell_type": "code",
   "execution_count": null,
   "metadata": {},
   "outputs": [],
   "source": [
    "def suma(a, b):\n",
    "    return a + b\n",
    "\n",
    "\n",
    "print(suma(2, 3))    # Resultado: 5\n",
    "print(suma(40, 30))  # Resultado: 70\n"
   ]
  },
  {
   "cell_type": "markdown",
   "metadata": {},
   "source": [
    "### Aspectos a Considerar al Pasar Argumentos\n",
    "\n",
    "* `Asignación Local`: Al pasarle un argumento a una función, estamos creando una asignación a una variable con el nombre del argumento en el ámbito local de la función.\n",
    "* `Inmutabilidad`: Asignar un nuevo valor al argumento desde dentro de la función no afecta al exterior.\n",
    "* `Mutabilidad`: Si le pasamos un objeto mutable a una función y esta lo modifica en su interior, puede afectar al exterior. Los argumentos en Python se pasan por referencia.\n",
    "\n",
    "Veamos algunos ejemplos para entender esto mejor:\n",
    "\n",
    "__Objetos Inmutables__"
   ]
  },
  {
   "cell_type": "code",
   "execution_count": null,
   "metadata": {},
   "outputs": [],
   "source": [
    "def suma(a, b):\n",
    "    a = 3\n",
    "    b = 4\n",
    "    return a + b\n",
    "\n",
    "\n",
    "a, b = 5, 10\n",
    "print(suma(a, b))  # Resultado: 7\n",
    "print(a, b)        # Resultado: 5, 10\n"
   ]
  },
  {
   "cell_type": "markdown",
   "metadata": {},
   "source": [
    "__Objetos Mutables__"
   ]
  },
  {
   "cell_type": "code",
   "execution_count": null,
   "metadata": {},
   "outputs": [],
   "source": [
    "def minimo(l):\n",
    "    l[0] = 1000\n",
    "    return min(l)\n",
    "\n",
    "\n",
    "l = [1, 2, 3]\n",
    "print(minimo(l))  # Resultado: 2\n",
    "print(l)          # Resultado: [1000, 2, 3]\n"
   ]
  },
  {
   "cell_type": "markdown",
   "metadata": {},
   "source": [
    "Para evitar modificar una lista pasada como argumento, podemos hacer una copia de la lista:"
   ]
  },
  {
   "cell_type": "code",
   "execution_count": null,
   "metadata": {},
   "outputs": [],
   "source": [
    "def minimo(l):\n",
    "    l[0] = 1000\n",
    "    return min(l)\n",
    "\n",
    "\n",
    "l = [1, 2, 3]\n",
    "print(minimo(l[:])) # Resultado: 2\n",
    "print(l)            # Resultado: [1, 2, 3]\n"
   ]
  },
  {
   "cell_type": "markdown",
   "metadata": {},
   "source": [
    "Para evitar modificar una lista pasada como argumento, podemos hacer una copia de la lista:"
   ]
  },
  {
   "cell_type": "code",
   "execution_count": null,
   "metadata": {},
   "outputs": [],
   "source": [
    "def minimo(l):\n",
    "    l[0] = 1000\n",
    "    return min(l)\n",
    "\n",
    "\n",
    "l = [1, 2, 3]\n",
    "\n",
    "print(minimo(l[:])) # Resultado: 2\n",
    "print(l)            # Resultado: [1, 2, 3]\n"
   ]
  },
  {
   "cell_type": "markdown",
   "metadata": {},
   "source": [
    "---\n",
    "\n",
    "## Formas de Paso de Argumentos\n",
    "\n",
    "### Por Posición\n"
   ]
  },
  {
   "cell_type": "code",
   "execution_count": null,
   "metadata": {},
   "outputs": [],
   "source": [
    "def f(a, b, c):\n",
    "    print(a, b, c)\n",
    "\n",
    "\n",
    "f(1, 2, 3) # Resultado: 1 2 3\n"
   ]
  },
  {
   "cell_type": "markdown",
   "metadata": {},
   "source": [
    "### Por Keywords (Palabras Clave)"
   ]
  },
  {
   "cell_type": "code",
   "execution_count": null,
   "metadata": {},
   "outputs": [],
   "source": [
    "def f(a, b, c):\n",
    "    print(a, b, c)\n",
    "\n",
    "\n",
    "f(c=12, a=10, b=100) # Resultado: 10 100 12\n"
   ]
  },
  {
   "cell_type": "markdown",
   "metadata": {},
   "source": [
    "### Valores por Defecto"
   ]
  },
  {
   "cell_type": "code",
   "execution_count": null,
   "metadata": {},
   "outputs": [],
   "source": [
    "def f(a, b=10, c=30):\n",
    "    print(a, b, c)\n",
    "\n",
    "\n",
    "f(1)          # Resultado: 1 10 30\n",
    "f(1, 12)      # Resultado: 1 12 30\n",
    "f(1, 12, 19)  # Resultado: 1 12 19\n"
   ]
  },
  {
   "cell_type": "markdown",
   "metadata": {},
   "source": [
    "## Número Arbitrario de Argumentos\n",
    "\n",
    "### Por Posición:"
   ]
  },
  {
   "cell_type": "code",
   "execution_count": null,
   "metadata": {},
   "outputs": [],
   "source": [
    "def f(*args):\n",
    "    print(args)\n",
    "\n",
    "\n",
    "f()             # Resultado: ()\n",
    "f(1)            # Resultado: (1,)\n",
    "f(1, 2)         # Resultado: (1, 2)\n",
    "f(1, 2, 3, 4)   # Resultado: (1, 2, 3, 4)\n"
   ]
  },
  {
   "cell_type": "markdown",
   "metadata": {},
   "source": [
    "### Por Keywords:"
   ]
  },
  {
   "cell_type": "code",
   "execution_count": null,
   "metadata": {},
   "outputs": [],
   "source": [
    "def f(**kargs):\n",
    "    print(kargs)\n",
    "\n",
    "\n",
    "f()                   # Resultado: {}\n",
    "f(a=1)                # Resultado: {'a': 1}\n",
    "f(a=1, b=2)           # Resultado: {'a': 1, 'b': 2}\n",
    "f(a=1, c=3, b=2)      # Resultado: {'a': 1, 'c': 3, 'b': 2}\n"
   ]
  },
  {
   "cell_type": "markdown",
   "metadata": {},
   "source": [
    "---\n",
    "\n",
    "## Desempaquetado de Argumentos\n",
    "\n",
    "### Posicionales:"
   ]
  },
  {
   "cell_type": "code",
   "execution_count": null,
   "metadata": {},
   "outputs": [],
   "source": [
    "def f(a, b, c, d):\n",
    "    print(a, b, c, d)\n",
    "\n",
    "\n",
    "argumentos = {'b': 20, 'a': 1, 'c': 300, 'd': 4000}\n",
    "\n",
    "f(**argumentos) # Resultado: 1 20 300 4000\n"
   ]
  },
  {
   "cell_type": "markdown",
   "metadata": {},
   "source": [
    "### Combinados:"
   ]
  },
  {
   "cell_type": "code",
   "execution_count": null,
   "metadata": {},
   "outputs": [],
   "source": [
    "argumentos = {'b': 200, 'c': 300, 'd': 400}\n",
    "f(10, **argumentos) # Resultado: 10 200 300 400\n"
   ]
  },
  {
   "cell_type": "markdown",
   "metadata": {},
   "source": [
    "## Argumentos Keyword-Only"
   ]
  },
  {
   "cell_type": "code",
   "execution_count": null,
   "metadata": {},
   "outputs": [],
   "source": [
    "def f(a, *, b, c):\n",
    "    print(a, b, c)\n",
    "\n",
    "\n",
    "f(1, b=10, c=100)  # Resultado: 1 10 100\n",
    "f(1, 10, 100)      # Error\n"
   ]
  },
  {
   "cell_type": "code",
   "execution_count": null,
   "metadata": {},
   "outputs": [],
   "source": [
    "def f(a, *b, c):\n",
    "    print(a, b, c)\n",
    "\n",
    "\n",
    "f(1, c=2)              # Resultado: 1 () 2\n",
    "f(1, 2, c=3)           # Resultado: 1 (2,) 3\n",
    "f(1, 2, 3, 4, 5, c=10) # Resultado: 1 (2, 3, 4, 5) 10\n"
   ]
  },
  {
   "cell_type": "markdown",
   "metadata": {},
   "source": [
    "---\n",
    "\n",
    "## Funciones Builtin"
   ]
  },
  {
   "cell_type": "code",
   "execution_count": null,
   "metadata": {},
   "outputs": [],
   "source": [
    "la = [1, 2, 3, 4, 5]\n",
    "lb = list('abcde')\n",
    "lc = list('ABCDE')\n",
    "zlist = list(zip(la, lb, lc)) # zip soporta cualquier número de argumentos posicionales\n",
    "print(zlist)\n",
    "\n",
    "a, b, c = zip(*zlist) # El * en zip desempaqueta lista de tuplas\n",
    "print(a, b, c, sep='\\n')\n"
   ]
  },
  {
   "cell_type": "markdown",
   "metadata": {},
   "source": [
    "---\n",
    "\n",
    "## Consideraciones de Diseño al Programar con Funciones\n",
    "\n",
    "Para un código bien diseñado:\n",
    "\n",
    "* `Alta Cohesión`: Cada función debe tener un único propósito.\n",
    "* `Bajo Acoplamiento`: Las funciones deben ser independientes entre sí.\n",
    "\n",
    "Directrices para Alta Cohesión y Bajo Acoplamiento:\n",
    "\n",
    "* `Entradas y Salidas Claras`: Las funciones deben recibir entradas solo por argumentos y retornar valores usando return.\n",
    "* `Variables Globales`: Evitar su uso a menos que sea absolutamente necesario.\n",
    "* `Argumentos Mutables`: Evitar modificarlos salvo que el código que llama lo espere.\n",
    "* `Módulos`: No cambiar atributos de otros módulos directamente."
   ]
  },
  {
   "cell_type": "markdown",
   "metadata": {},
   "source": [
    "---\n",
    "\n",
    "## Experimenta\n",
    "\n",
    "Crea una función log que acepte cualquier número de argumentos y los imprima en una misma línea con el prefijo 'LOG: '. Luego, modifica la función para permitir personalizar el prefijo y el separador entre argumentos."
   ]
  },
  {
   "cell_type": "code",
   "execution_count": null,
   "metadata": {},
   "outputs": [],
   "source": [
    "def log(*args, sep=' ', prefix='LOG: '):\n",
    "    print(prefix, sep.join(map(str, args)))\n",
    "\n",
    "    \n",
    "log('mensaje', 'de', 'prueba')  # Resultado: LOG: mensaje de prueba\n",
    "log('otro', 'mensaje', sep='-', prefix='INFO: ')  # Resultado: INFO: otro-mensaje\n"
   ]
  },
  {
   "cell_type": "markdown",
   "metadata": {},
   "source": [
    "---\n",
    "\n",
    "## Definición de Variables\n",
    "\n",
    "Las variables en Python se crean en el momento en que se les asigna un valor:"
   ]
  },
  {
   "cell_type": "code",
   "execution_count": null,
   "metadata": {},
   "outputs": [],
   "source": [
    "x = 15\n",
    "y = \"Ana\"\n",
    "\n",
    "print(x)  # Resultado: 15\n",
    "print(y)  # Resultado: Ana\n"
   ]
  },
  {
   "cell_type": "markdown",
   "metadata": {},
   "source": [
    "Podemos usarlas para almacenar y manipular datos fácilmente:"
   ]
  },
  {
   "cell_type": "code",
   "execution_count": null,
   "metadata": {},
   "outputs": [],
   "source": [
    "suma = 1 + 2\n",
    "print(suma)  # Resultado: 3\n"
   ]
  },
  {
   "cell_type": "markdown",
   "metadata": {},
   "source": [
    "Las variables en Python no necesitan ser declaradas con un tipo de dato específico y pueden cambiar de tipo de dato a lo largo del programa."
   ]
  },
  {
   "cell_type": "markdown",
   "metadata": {},
   "source": [
    "---\n",
    "\n",
    "## Conceptos Fundamentales\n",
    "\n",
    "Hemos visto cómo definir y usar funciones en Python. Las funciones nos permiten reutilizar código, reducir la redundancia y hacer nuestro código más modular y fácil de entender. También hemos aprendido cómo las variables tienen distintos ámbitos y cómo los argumentos de las funciones pueden ser pasados de distintas formas. Con estos conocimientos, estaremos preparados para escribir código más eficiente y organizado en Python.\n",
    "\n",
    "Las variables en Python son etiquetas que referencian datos almacenados en memoria. A diferencia de otros lenguajes, no requieren una declaración previa. Se crean simplemente al asignarles un valor. Esto permite una mayor flexibilidad y simplicidad al escribir código en Python.\n",
    "\n"
   ]
  }
 ],
 "metadata": {
  "kernelspec": {
   "display_name": "Python 3",
   "language": "python",
   "name": "python3"
  },
  "language_info": {
   "codemirror_mode": {
    "name": "ipython",
    "version": 3
   },
   "file_extension": ".py",
   "mimetype": "text/x-python",
   "name": "python",
   "nbconvert_exporter": "python",
   "pygments_lexer": "ipython3",
   "version": "3.12.3"
  }
 },
 "nbformat": 4,
 "nbformat_minor": 2
}
