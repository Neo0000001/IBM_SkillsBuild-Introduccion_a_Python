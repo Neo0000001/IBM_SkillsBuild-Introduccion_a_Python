{
 "cells": [
  {
   "cell_type": "markdown",
   "metadata": {},
   "source": [
    "# IBM SkillsBuild | Introducción a Python\n",
    "\n",
    "# Conceptos básicos y sintaxis de Python\n",
    "\n",
    "---\n",
    "\n",
    "# Sintaxis Python\n",
    "\n",
    "## Índice\n",
    "\n",
    "* Introducción\n",
    "* Cadenas, operadores aritméticos y el uso del condicional if\n",
    "* Comentarios\n",
    "* Identación y bloques de código\n",
    "* Múltiples líneas\n",
    "\n",
    "---\n",
    "\n",
    "## Introducción\n",
    "\n",
    "La sintaxis de Python es fundamental para poder empezar a usar el lenguaje creando nuestras primeras variables y estructuras de control. El término sintaxis hace referencia al conjunto de reglas que definen cómo se tiene que escribir el código en un determinado lenguaje de programación. Es decir, hace referencia a la forma en la que debemos escribir las instrucciones para que el ordenador, o más bien el lenguaje de programación, nos entienda.\n",
    "\n",
    "En la mayoría de lenguajes existe una sintaxis común, como por ejemplo el uso de = para asignar un dato a una variable, o el uso de {} para designar bloques de código, pero Python tiene ciertas particularidades.\n",
    "\n",
    "La sintaxis es a la programación lo que la gramática es a los idiomas. De la misma forma que la frase “Yo estamos aquí” no es correcta, el siguiente código en Python no sería correcto, ya que no respeta las normas del lenguaje:\n",
    "\n",
    "```python\n",
    "\n",
    "if ($variable) {\n",
    "    x = 9;\n",
    "}\n",
    "```\n"
   ]
  },
  {
   "cell_type": "markdown",
   "metadata": {},
   "source": [
    "Lo veremos a continuación en detalle, pero Python no soporta el uso de $ ni hace falta terminar las líneas con ; como en otros lenguajes, y tampoco hay que usar {} en estructuras de control como en el if.\n",
    "\n",
    "Por otro lado, de la misma forma que un idioma no se habla con simplemente saber todas sus palabras, en la programación no basta con saber la sintaxis de un lenguaje para programar correctamente en él. Es cierto que sabiendo la sintaxis podremos empezar a programar y a hacer lo que queramos, pero el uso de un lenguaje de programación va mucho más allá de la sintaxis.\n",
    "\n",
    "---\n",
    "\n",
    "## Cadenas, operadores aritméticos y el uso del condicional if\n",
    "\n",
    "Para empezar a perderle el miedo a la sintaxis de Python, vamos a ver un ejemplo donde usamos cadenas, operadores aritméticos y el condicional if.\n",
    "\n",
    "El siguiente código simplemente define tres valores a, b y c, realiza unas operaciones con ellos y muestra el resultado por pantalla:\n",
    "\n"
   ]
  },
  {
   "cell_type": "code",
   "execution_count": null,
   "metadata": {},
   "outputs": [],
   "source": [
    "# Definimos una variable x con una cadena\n",
    "x = \"El valor de (a+b)*c es\"\n",
    "# Podemos realizar múltiples asignaciones\n",
    "a, b, c = 4, 3, 2\n",
    "# Realizamos unas operaciones con a, b, c\n",
    "d = (a + b) * c\n",
    "# Definimos una variable booleana\n",
    "imprimir = True\n",
    "# Si imprimir, print()\n",
    "if imprimir:\n",
    "    print(x, d)\n",
    "# Salida: El valor de (a+b)*c es 14\n"
   ]
  },
  {
   "cell_type": "markdown",
   "metadata": {},
   "source": [
    "Como puedes observar, la sintaxis de Python es muy parecida al lenguaje natural o pseudocódigo, lo que hace que sea relativamente fácil de leer. Otra ventaja es que no necesitamos nada más, el código anterior puede ser ejecutado tal cual está. Si conoces otros lenguajes como C o Java, esto te resultará cómodo, ya que no es necesario crear la típica función main().\n",
    "\n",
    "---\n",
    "\n",
    "## Comentarios\n",
    "\n",
    "Los comentarios son bloques de texto usados para comentar el código. Es decir, para ofrecer a otros programadores o a nuestro yo futuro información relevante acerca del código que está escrito. A efectos prácticos, para Python es como si no existieran, ya que no son código propiamente dicho, solo anotaciones.\n",
    "\n",
    "Los comentarios se inician con # y todo lo que vaya después en la misma línea será considerado un comentario."
   ]
  },
  {
   "cell_type": "code",
   "execution_count": null,
   "metadata": {},
   "outputs": [],
   "source": [
    "# Esto es un comentario"
   ]
  },
  {
   "cell_type": "markdown",
   "metadata": {},
   "source": [
    "Al igual que en otros lenguajes de programación, podemos también comentar varias líneas de código. Para ello es necesario hacer uso de triples comillas, bien sean simples ''' o dobles \"\"\". Es necesario usarlas para abrir el bloque del comentario y para cerrarlo."
   ]
  },
  {
   "cell_type": "code",
   "execution_count": null,
   "metadata": {},
   "outputs": [],
   "source": [
    "# Con comillas simples\n",
    "'''\n",
    "Esto es un comentario\n",
    "de varias líneas\n",
    "de código\n",
    "'''\n",
    "\n",
    "# Con comillas dobles\n",
    "\"\"\"\n",
    "Esto es un comentario\n",
    "de varias líneas\n",
    "de código\n",
    "\n",
    "\"\"\""
   ]
  },
  {
   "cell_type": "markdown",
   "metadata": {},
   "source": [
    "Es interesante que, como programadores, nos acostumbremos a comentar todo lo posible nuestro código. La mayoría de los proyectos de cierta envergadura se hacen en equipo y dejar nuestro código comentado facilita la labor al compañero que venga después de nosotros. En el caso de que programemos en solitario, comentar el código también es una excelente idea, pues es probable que dentro de un tiempo (meses o años) tengamos que revisar o escalar nuestro código, y si lo dejamos bien comentado podremos retomar el trabajo donde lo dejamos con mucha mayor facilidad.\n",
    "\n",
    "---\n",
    "\n",
    "## Identación y bloques de código\n",
    "\n",
    "En la mayoría de los lenguajes de programación, los elementos que contienen código (como procedimientos, funciones, condicionales, bucles, etc.) hacen uso de paréntesis, corchetes y llaves para incluir dicho código. En Python no es así. En Python los bloques de código se representan con indentación, es decir, poniendo el código que hay dentro de uno de los elementos anteriormente mencionados, varios espacios a la derecha, y aunque hay un poco de debate con respecto a usar tabulador o espacios, la norma general es usar cuatro espacios.\n",
    "\n",
    "En el siguiente código tenemos un condicional if. Justo después tenemos un print() indentado con cuatro espacios. Por lo tanto, todo lo que tenga esa indentación pertenecerá al bloque del if.\n",
    "\n",
    "En Python:"
   ]
  },
  {
   "cell_type": "code",
   "execution_count": null,
   "metadata": {},
   "outputs": [],
   "source": [
    "if True:\n",
    "    print(\"True\")\n"
   ]
  },
  {
   "cell_type": "markdown",
   "metadata": {},
   "source": [
    "En otros lenguajes de programación la sintaxis sería algo como:\n",
    "\n",
    "```javascript\n",
    "if (True) {\n",
    "    print(\"True\");\n",
    "}\n",
    "```\n",
    "\n",
    "\n"
   ]
  },
  {
   "cell_type": "markdown",
   "metadata": {},
   "source": [
    "Esto es muy importante ya que el código anterior y el siguiente no son lo mismo. De hecho, el siguiente código daría un error ya que el if no contiene ningún bloque de código, y eso es algo que no se puede hacer en Python."
   ]
  },
  {
   "cell_type": "code",
   "execution_count": null,
   "metadata": {},
   "outputs": [],
   "source": [
    "if True:\n",
    "print(\"True\")\n"
   ]
  },
  {
   "cell_type": "markdown",
   "metadata": {},
   "source": [
    "Por otro lado, a diferencia de en otros lenguajes de programación, no es necesario utilizar ; para terminar cada línea."
   ]
  },
  {
   "cell_type": "code",
   "execution_count": null,
   "metadata": {},
   "outputs": [],
   "source": [
    "# Otros lenguajes como C\n",
    "# requieren de ; al final de cada línea\n",
    "x = 10;\n"
   ]
  },
  {
   "cell_type": "markdown",
   "metadata": {},
   "source": [
    "Sin embargo, en Python no es necesario, basta con un salto de línea.\n"
   ]
  },
  {
   "cell_type": "code",
   "execution_count": null,
   "metadata": {},
   "outputs": [],
   "source": [
    "x = 5; y = 10"
   ]
  },
  {
   "cell_type": "markdown",
   "metadata": {},
   "source": [
    "---\n",
    "\n",
    "## Múltiples líneas\n",
    "\n",
    "En algunas situaciones se puede dar el caso de que queramos tener una sola instrucción en varias líneas de código. Uno de los motivos principales podría ser que fuera demasiado larga, y de hecho en la especificación PEP8 se recomienda que las líneas no excedan los 79 caracteres.\n",
    "\n",
    "Haciendo uso de \\ se puede romper el código en varias líneas, lo que en determinados casos hace que el código sea mucho más legible."
   ]
  },
  {
   "cell_type": "code",
   "execution_count": null,
   "metadata": {},
   "outputs": [],
   "source": [
    "x = 1 + 2 + 3 + 4 + \\\n",
    "    5 + 6 + 7 + 8\n"
   ]
  },
  {
   "cell_type": "markdown",
   "metadata": {},
   "source": [
    "Si por el contrario estamos dentro de un bloque rodeado con paréntesis (), bastaría con saltar a la siguiente línea."
   ]
  },
  {
   "cell_type": "code",
   "execution_count": null,
   "metadata": {},
   "outputs": [],
   "source": [
    "x = (1 + 2 + 3 + 4 +\n",
    "     5 + 6 + 7 + 8)\n"
   ]
  },
  {
   "cell_type": "markdown",
   "metadata": {},
   "source": [
    "Se puede hacer lo mismo para llamadas a funciones:\n"
   ]
  },
  {
   "cell_type": "code",
   "execution_count": null,
   "metadata": {},
   "outputs": [],
   "source": [
    "def funcion(a, b, c):\n",
    "    return a + b + c\n",
    "\n",
    "d = funcion(10, 23, 3)\n"
   ]
  }
 ],
 "metadata": {
  "language_info": {
   "name": "python"
  }
 },
 "nbformat": 4,
 "nbformat_minor": 2
}
