{
 "cells": [
  {
   "cell_type": "markdown",
   "metadata": {},
   "source": [
    "# IBM SkillsBuild | Introducción a Python\n",
    "\n",
    "# Conceptos básicos y sintaxis de Python\n",
    "\n",
    "---\n",
    "\n",
    "# Excepciones\n",
    "\n",
    "## Índice\n",
    "\n",
    "1. Introducción\n",
    "2. Los roles de las excepciones en Python\n",
    "3. Nuestra primera excepción\n",
    "4. Capturando excepciones\n",
    "5. Lanzando excepciones manualmente\n",
    "6. La sentencia assert\n",
    "7. Creando nuestras propias excepciones\n",
    "8. Acciones de finalización y limpieza\n",
    "9. El bloque else en las excepciones\n",
    "\n",
    "---\n",
    "\n",
    "## Introducción\n",
    "\n",
    "Las excepciones son eventos que permiten controlar el flujo de un programa cuando ocurre un error. Pueden dispararse automáticamente, cuando ocurre un error, y bajo demanda en nuestro código. Es posible capturar una excepción para corregir el error que la ha originado o escalar la misma hacia arriba para que la intercepte otro código de más alto nivel.\n",
    "\n",
    "---\n",
    "\n",
    "## Los roles de las excepciones en Python\n",
    "\n",
    "* Manejo de errores: Se utilizan para informar de errores y/o de una situación anómala así como de detener el flujo de programa.\n",
    "\n",
    "* Notificación de eventos: Por ejemplo, terminar una búsqueda sin resultados sin tener que usar variables de control.\n",
    "\n",
    "* Manejo de casos especiales: Podemos dejar el manejo de algunas situaciones especiales que ocurren con poca frecuencia a excepciones.\n",
    "\n",
    "* Acciones de limpieza/finalización: Operaciones de limpieza que se ejecutan tanto como si ha habido errores como si no y que nos ayudan a asegurarnos que este tipo * de operaciones ocurren siempre, independientemente de que haya habido un error o no.\n",
    "\n",
    "En Python disponemos de 4 sentencias que podemos utilizar para manejar excepciones:\n",
    "\n",
    "* try/except: Intercepta y recupera excepciones disparadas por Python o por nuestro código.\n",
    "* try/finally: Realiza tareas de limpieza ocurran las excepciones o no.\n",
    "* raise: Dispara una excepción manualmente en el código.\n",
    "* assert: Dispara una excepción condicionalmente.\n",
    "\n",
    "---\n",
    "\n",
    "## Nuestra primera excepción\n",
    "\n",
    "A continuación, vamos a crear un código que generará una excepción si se le introduce un parámetro adecuado. Primero creamos una función, que devuelve el elemento que le pidamos de una secuencia según el índice que le pidamos.\n",
    "\n",
    "\n"
   ]
  },
  {
   "cell_type": "code",
   "execution_count": null,
   "metadata": {},
   "outputs": [],
   "source": [
    "def indexador(objeto, indice):\n",
    "    return objeto[indice]\n",
    "\n",
    "\n",
    "indexador('Python', 0)  # Resultado:\n"
   ]
  },
  {
   "cell_type": "markdown",
   "metadata": {},
   "source": [
    "Como vemos, si le pedimos un índice que existe en la secuencia nos devuelve el elemento alojado en ese índice. En cambio, si pedimos un índice demasiado grande, veremos que obtenemos un error de tipo IndexError."
   ]
  },
  {
   "cell_type": "code",
   "execution_count": null,
   "metadata": {},
   "outputs": [],
   "source": [
    "def indexador(objeto, indice):\n",
    "    return objeto[indice]\n",
    "\n",
    "\n",
    "indexador('Python', 10)  # Produce un error\n"
   ]
  },
  {
   "cell_type": "markdown",
   "metadata": {},
   "source": [
    "---\n",
    "\n",
    "## Capturando excepciones\n",
    "\n",
    "Para capturar excepciones utilizamos el bloque de sentencias try/except:"
   ]
  },
  {
   "cell_type": "code",
   "execution_count": null,
   "metadata": {},
   "outputs": [],
   "source": [
    "def indexador(objeto, indice):\n",
    "    return objeto[indice]\n",
    "\n",
    "\n",
    "try:\n",
    "    indexador('Python', 10)\n",
    "except IndexError:  # Captura IndexError\n",
    "    print('Has puesto un índice muy grande.')\n",
    "    print('Hemos salido del try - catch')\n"
   ]
  },
  {
   "cell_type": "markdown",
   "metadata": {},
   "source": [
    "En el bloque try se incluye el código propenso a causar la Excepción que queremos capturar en la sentencia except. La sentencia except está compuesta por la palabra clave que da nombre a la sentencia junto con la clase de la excepción que queremos capturar.\n",
    "\n",
    "---\n",
    "\n",
    "## Lanzando excepciones manualmente\n",
    "\n",
    "Podemos lanzar excepciones directamente en nuestro código utilizando la sentencia raise seguida del tipo de excepción que queremos lanzar.\n",
    "\n",
    "Por ejemplo:"
   ]
  },
  {
   "cell_type": "code",
   "execution_count": null,
   "metadata": {},
   "outputs": [],
   "source": [
    "raise IndexError\n"
   ]
  },
  {
   "cell_type": "markdown",
   "metadata": {},
   "source": [
    "Aquí acabamos de lanzar nuestra propia excepción de tipo IndexError. Eso sí, en este caso, al ver la traza del error, no tenemos ninguna información que nos oriente cual ha podido ser la causa del error.\n",
    "\n",
    "Si queremos añadir esa información, simplemente creamos una instancia de IndexError (o de la excepción que queramos lanzar) y en su constructor añadimos el mensaje a mostrar:"
   ]
  },
  {
   "cell_type": "code",
   "execution_count": null,
   "metadata": {},
   "outputs": [],
   "source": [
    "raise IndexError('Excepción lanzada manualmente')\n"
   ]
  },
  {
   "cell_type": "markdown",
   "metadata": {},
   "source": [
    "Ahora sí, vemos que en la última línea del error tenemos el mensaje explicativo del error.\n",
    "\n",
    "Por supuesto, es posible capturar nuestras propias excepciones lanzadas manualmente:\n",
    "\n"
   ]
  },
  {
   "cell_type": "code",
   "execution_count": null,
   "metadata": {},
   "outputs": [],
   "source": [
    "try:\n",
    "    raise IndexError('Excepción lanzada manualmente')\n",
    "except:\n",
    "    print('He capturado mi propia excepción')\n"
   ]
  },
  {
   "cell_type": "markdown",
   "metadata": {},
   "source": [
    "---\n",
    "\n",
    "## La sentencia assert\n",
    "\n",
    "Además de lanzar excepciones manualmente, es posible hacerlo condicionalmente. Para ello, Python proporciona la sentencia assert que nos permite lanzar una excepción si se cumple una condición determinada.\n",
    "\n",
    "Es muy común utilizar la sentencia assert durante el proceso de depuración, para asegurarnos que se cumplen ciertas condiciones previas.\n",
    "\n",
    "La sintaxis de assert es la siguiente:\n",
    "\n",
    "```python\n",
    "assert(condición), 'Mensaje de error'\n",
    "\n",
    "```\n",
    "\n"
   ]
  },
  {
   "cell_type": "markdown",
   "metadata": {},
   "source": [
    "Veamos un ejemplo:"
   ]
  },
  {
   "cell_type": "code",
   "execution_count": null,
   "metadata": {},
   "outputs": [],
   "source": [
    "a = 10\n",
    "b = 0\n",
    "\n",
    "assert(a > b), 'A tiene que ser mayor que B!'  # Si se cumple no salta el error\n",
    "\n",
    "print('Si se muestra esto es que no ha saltado el assert')\n"
   ]
  },
  {
   "cell_type": "markdown",
   "metadata": {},
   "source": [
    "En este caso, como se cumple la condición, no salta el assert, y el programa sigue ejecutándose normalmente. Veamos un caso en el que sí salta la excepción producida por el assert:"
   ]
  },
  {
   "cell_type": "code",
   "execution_count": null,
   "metadata": {},
   "outputs": [],
   "source": [
    "a = 10\n",
    "b = 0\n",
    "c = 5\n",
    "\n",
    "assert(a == c), 'A y C tienen que ser iguales!'\n"
   ]
  },
  {
   "cell_type": "markdown",
   "metadata": {},
   "source": [
    "---\n",
    "\n",
    "## Creando nuestras propias excepciones\n",
    "\n",
    "Hasta ahora hemos visto cómo capturar y lanzar excepciones incluidas en la librería estándar de Python. Sin embargo, en muchos casos es de gran utilidad crear nuestras propias excepciones.\n",
    "\n",
    "Si no os habíais fijado hasta ahora, las excepciones son clases. Por eso, si queremos crear nuestra propia excepción, sólo tenemos que crear una clase que herede de la clase base de todas las excepciones (Exception) o de cualquier otra excepción:"
   ]
  },
  {
   "cell_type": "code",
   "execution_count": null,
   "metadata": {},
   "outputs": [],
   "source": [
    "class miPropiaExcepcion(Exception):  # Las excepciones heredan de Exception\n",
    "    pass\n",
    "\n",
    "raise miPropiaExcepcion\n"
   ]
  },
  {
   "cell_type": "markdown",
   "metadata": {},
   "source": [
    "Acabamos de crear la clase MiPropiaExcepcion que hereda de Exception. Cuando una clase hereda de Exception, podemos incluirla dentro de una sentencia raise para lanzarla, así como dentro de un except para interceptarla:"
   ]
  },
  {
   "cell_type": "code",
   "execution_count": null,
   "metadata": {},
   "outputs": [],
   "source": [
    "class miPropiaExcepcion(Exception):  # Las excepciones heredan de Exception\n",
    "    pass\n",
    "\n",
    "\n",
    "try:\n",
    "    raise miPropiaExcepcion\n",
    "except miPropiaExcepcion:\n",
    "    print('He capturado mi propia excepción')\n"
   ]
  },
  {
   "cell_type": "markdown",
   "metadata": {},
   "source": [
    "---\n",
    "\n",
    "## Mejorando nuestras propias excepciones\n",
    "\n",
    "Nuestra excepción es muy básica. Vamos a mejorarla un poco para que pueda representar su propio mensaje de error:"
   ]
  },
  {
   "cell_type": "code",
   "execution_count": null,
   "metadata": {},
   "outputs": [],
   "source": [
    "class miError(Exception):\n",
    "    def __init__(self, valor):\n",
    "        self.valor = valor\n",
    "\n",
    "    def __str__(self):\n",
    "        return str(self.valor)\n",
    "\n",
    "\n",
    "raise miError('Mensaje de error')\n"
   ]
  },
  {
   "cell_type": "markdown",
   "metadata": {},
   "source": [
    "En este ejemplo, hemos creado un constructor de nuestra excepción que utilizamos para almacenar un objeto que luego pasamos al método __str__. Este método es un método especial de Python, llamado “método mágico”. En concreto, ``__str__` define cómo hay que representar una clase si se la quiere mostrar como un string (una cadena de texto), por ejemplo, para introducirla en un print, etc.\n",
    "\n",
    "En este caso, el método `__str__` permite mostrar el mensaje de error que queramos al lanzar nuestra excepción.\n",
    "\n",
    "---\n",
    "\n",
    "## Acciones de finalización y limpieza\n",
    "\n",
    "Cuando tenemos excepciones, hay situaciones en las que queremos hacer operaciones de limpieza o finalización sin importar si la excepción ha saltado o no. Este tipo de operaciones suelen ser, por ejemplo, asegurarnos que cerramos un fichero, una conexión, etc.\n",
    "\n",
    "Para esto tenemos la sentencia finally:"
   ]
  },
  {
   "cell_type": "code",
   "execution_count": null,
   "metadata": {},
   "outputs": [],
   "source": [
    "def indexador(objeto, indice):\n",
    "    return objeto[indice]\n",
    "\n",
    "\n",
    "try:\n",
    "    indexador('Python', 10)\n",
    "finally:\n",
    "    print('Esto se ejecuta incluso cuando salta la excepción')\n"
   ]
  },
  {
   "cell_type": "markdown",
   "metadata": {},
   "source": [
    "En este código hemos llamado a indexador de manera errónea y hemos producido una excepción. Normalmente, cuando esto ocurre, se detiene el flujo del programa. En este caso, al tener un bloque finally, lo que ocurre es que, justo antes de detenerse el flujo del programa, se ejecuta el código que está incluido en nuestro bloque finally.\n",
    "\n",
    "Notad que el código siguiente, aunque se le parece, NO se ejecutará:"
   ]
  },
  {
   "cell_type": "code",
   "execution_count": null,
   "metadata": {},
   "outputs": [],
   "source": [
    "def indexador(objeto, indice):\n",
    "    return objeto[indice]\n",
    "\n",
    "\n",
    "try:\n",
    "    indexador('Python', 10)\n",
    "    print('Este print no se ejecuta')\n",
    "finally:\n",
    "    print('Esto se ejecuta incluso cuando salta la excepción')\n"
   ]
  },
  {
   "cell_type": "markdown",
   "metadata": {},
   "source": [
    "En este caso, vemos que el print no se ha ejecutado ya que antes ha saltado la excepción y, por lo tanto, se ha detenido el flujo de ejecución del programa. Notad también que el finally se ejecuta siempre, salte o no salte la excepción, pero si la excepción ha saltado, el flujo del programa se detiene justo después del finally."
   ]
  },
  {
   "cell_type": "code",
   "execution_count": null,
   "metadata": {},
   "outputs": [],
   "source": [
    "def indexador(objeto, indice):\n",
    "    return objeto[indice]\n",
    "\n",
    "\n",
    "try:\n",
    "    indexador('Python', 10)\n",
    "finally:\n",
    "    print('Esto se ejecuta incluso cuando salta la excepción')\n",
    "    \n",
    "print('Este print tampoco se ejecuta')\n"
   ]
  },
  {
   "cell_type": "markdown",
   "metadata": {},
   "source": [
    "Es decir, que el finally solo asegura que el código de su bloque se va a ejecutar, pero no impide que el flujo del programa se detenga. Para eso, recordad que tenemos el bloque except:"
   ]
  },
  {
   "cell_type": "code",
   "execution_count": null,
   "metadata": {},
   "outputs": [],
   "source": [
    "def indexador(objeto, indice):\n",
    "    return objeto[indice]\n",
    "\n",
    "\n",
    "try:\n",
    "    indexador('Python', 10)\n",
    "except IndexError:\n",
    "    print('Capturamos la excepción')\n",
    "finally:\n",
    "    print('Esto se ejecuta incluso cuando salta la excepción')\n",
    "    \n",
    "print('¿Se ejecutará este print?')\n"
   ]
  },
  {
   "cell_type": "markdown",
   "metadata": {},
   "source": [
    "En este caso, indexador produce una excepción, que capturamos en el bloque except, por lo que ejecutamos el código dentro de ese bloque. Luego, ejecutamos el código finally y, tras ello, como no hay más excepciones, el flujo del programa continúa y se ejecuta el print final.\n",
    "\n",
    "---\n",
    "\n",
    "## El bloque else en las excepciones\n",
    "\n",
    "La última sentencia útil en el uso de excepciones es la sentencia else. En el caso de excepciones, la sentencia else se comporta de manera muy parecida a cómo lo hacía al ponerla tras un bucle: ejecuta el código de su bloque solo si NO salta la excepción en el bloque try/except:"
   ]
  },
  {
   "cell_type": "code",
   "execution_count": null,
   "metadata": {},
   "outputs": [],
   "source": [
    "def divide(x, y):\n",
    "    try:\n",
    "        resultado = x / y\n",
    "    except ZeroDivisionError:\n",
    "        print('No se puede dividir por cero')\n",
    "    else:\n",
    "        print('El resultado es:', resultado)\n",
    "    finally:\n",
    "        print('Ejecutamos el finally')\n",
    "\n",
    "\n",
    "divide(4, 2)\n",
    "divide(4, 0)\n"
   ]
  },
  {
   "cell_type": "markdown",
   "metadata": {},
   "source": [
    "En este ejemplo intentamos hacer una división, y controlamos dentro de un bloque try/except si hemos intentado hacer una división por 0. Si el usuario intenta dividir por 0, capturamos la excepción en el except. Si la operación es correcta, entonces mostramos el resultado en el bloque else.\n",
    "\n",
    "La ventaja del bloque else nos ahorra tener que evaluar si tenemos resultado o no (podríamos no haber obtenido un resultado en el caso de división por cero).\n",
    "\n",
    "Esto concluye la explicación sobre el manejo de excepciones en Python. Recuerda que el uso adecuado de excepciones no solo te permite controlar errores y situaciones anómalas, sino también escribir un código más robusto y fácil de mantener.\n",
    "\n",
    "---\n",
    "\n",
    "### Resumen y consideraciones finales\n",
    "\n",
    "El manejo de excepciones en Python es una herramienta poderosa y flexible que permite a los desarrolladores gestionar errores y situaciones anómalas de una manera estructurada y legible. Aquí hay algunos puntos clave que se deben recordar:\n",
    "\n",
    "1. Bloques try y except:\n",
    "\n",
    "   * Los bloques try contienen el código que puede generar una excepción.\n",
    "   * Los bloques except se utilizan para capturar y manejar las excepciones específicas que pueden ocurrir dentro del bloque try.\n",
    "\n",
    "2. Manejo de múltiples excepciones:\n",
    "\n",
    "   * Puedes manejar múltiples excepciones utilizando una tupla de excepciones dentro de un solo bloque except.\n",
    "   * También puedes encadenar varios bloques except para manejar diferentes tipos de excepciones de manera diferenciada.\n",
    "\n",
    "3. Sentencia finally:\n",
    "\n",
    "   * El bloque finally se ejecuta siempre, ya sea que ocurra una excepción o no. Es ideal para realizar operaciones de limpieza, como cerrar archivos o conexiones.\n",
    "\n",
    "4. Sentencia else:\n",
    "\n",
    "   * El bloque else se ejecuta solo si no se lanza ninguna excepción en el bloque try. Es útil para el código que debe ejecutarse únicamente si no hay errores.\n",
    "\n",
    "5. Lanzar excepciones manualmente:\n",
    "\n",
    "   * Puedes lanzar excepciones manualmente utilizando la sentencia raise.\n",
    "   * Es posible proporcionar un mensaje adicional o crear excepciones personalizadas para representar errores específicos de tu aplicación.\n",
    "\n",
    "1. Creación de excepciones personalizadas:\n",
    "\n",
    "   * Las excepciones en Python son clases que heredan de la clase base Exception.\n",
    "   * Puedes definir tus propias excepciones para representar situaciones específicas en tu código.\n",
    "\n",
    "__Ejemplo completo de manejo de excepciones__\n",
    "\n",
    "Para ilustrar cómo se combinan todos estos conceptos, consideremos un ejemplo completo en el que se maneja la lectura de un archivo, el procesamiento de su contenido y la limpieza final:"
   ]
  },
  {
   "cell_type": "code",
   "execution_count": null,
   "metadata": {},
   "outputs": [],
   "source": [
    "class ArchivoVacioError(Exception):\n",
    "    def __init__(self, mensaje):\n",
    "        self.mensaje = mensaje\n",
    "\n",
    "    def __str__(self):\n",
    "        return self.mensaje\n",
    "\n",
    "\n",
    "def procesar_archivo(nombre_archivo):\n",
    "    try:\n",
    "        with open(nombre_archivo, 'r') as archivo:\n",
    "            contenido = archivo.read()\n",
    "            if not contenido:\n",
    "                raise ArchivoVacioError(\"El archivo está vacío\")\n",
    "            # Procesar el contenido del archivo\n",
    "            print(\"Contenido del archivo procesado correctamente.\")\n",
    "    except FileNotFoundError:\n",
    "        print(\"El archivo no se encontró.\")\n",
    "    except ArchivoVacioError as e:\n",
    "        print(e)\n",
    "    except Exception as e:\n",
    "        print(f\"Ocurrió un error inesperado: {e}\")\n",
    "    else:\n",
    "        print(\"El archivo se procesó sin problemas.\")\n",
    "    finally:\n",
    "        print(\"Finalizando la operación de lectura de archivo.\")\n",
    "\n",
    "\n",
    "# Ejemplo de uso\n",
    "procesar_archivo(\"archivo.txt\")\n"
   ]
  },
  {
   "cell_type": "markdown",
   "metadata": {},
   "source": [
    "En este ejemplo:\n",
    "\n",
    "* Excepciones estándar:\n",
    "\n",
    "  * FileNotFoundError: se maneja si el archivo no se encuentra.\n",
    "  * Exception: se captura cualquier otra excepción inesperada.\n",
    "\n",
    "* Excepción personalizada:\n",
    "\n",
    "  * ArchivoVacioError: se lanza si el archivo está vacío.\n",
    "\n",
    "* Bloques else y finally:\n",
    "\n",
    "  * El bloque else se ejecuta solo si no se producen excepciones.\n",
    "  * El bloque finally se ejecuta siempre, permitiendo realizar la limpieza necesaria.\n",
    "\n",
    "Este enfoque permite escribir código que no solo es más robusto y manejable, sino que también es más fácil de leer y mantener. Al entender y aplicar correctamente el manejo de excepciones, puedes mejorar significativamente la calidad y fiabilidad de tus programas en Python."
   ]
  }
 ],
 "metadata": {
  "language_info": {
   "name": "python"
  }
 },
 "nbformat": 4,
 "nbformat_minor": 2
}
