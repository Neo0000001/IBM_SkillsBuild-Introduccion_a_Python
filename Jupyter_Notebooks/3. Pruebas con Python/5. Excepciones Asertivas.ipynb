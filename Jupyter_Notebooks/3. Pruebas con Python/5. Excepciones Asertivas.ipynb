{
 "cells": [
  {
   "cell_type": "markdown",
   "metadata": {},
   "source": [
    "# IBM SkillsBuild | Introducción a Python\n",
    "\n",
    "# Pruebas con Python: Excepciones asertivas\n",
    "\n",
    "---\n",
    "\n",
    "## Índice\n",
    "\n",
    "1. Introducción\n",
    "2. Lista de declaraciones de afirmación de PyTest Python\n",
    "3. Igual o no igual a [valor]\n",
    "4. type() is [valor]\n",
    "5. isinstance\n",
    "6. is [Tipo booleano]\n",
    "7. in y not in [iterable]\n",
    "8. Mayor o menor que [valor]\n",
    "9. El módulo % es igual a [valor]\n",
    "10. Declaracion de afirmación any()\n",
    "11. Declaracion de afirmación all()\n",
    "12. Objetos personalizados\n",
    "13. Iterables\n",
    "14. Combinación de varias declaraciones and/or con declaraciones de afirmación\n",
    "15. Prueba de varios comandos\n",
    "16. Métodos de afirmación de Python 3.x UnitTest\n",
    "17. Escribir declaraciones de afirmación\n",
    "\n",
    "---\n",
    "\n",
    "## Introducción\n",
    "\n",
    "Las excepciones asertivas (assert) son constructos sintácticos de Python que se configuran como booleanos puros, es decir, que sólo devuelven True o False como resultado de la evaluación de una condición implícita. Saber cómo escribir afirmaciones en Python le permite escribir fácilmente minipruebas para su código. Además, los marcos de prueba como PyTest pueden funcionar directamente con afirmaciones para formar UnitTests en pleno funcionamiento. En primer lugar, revisemos todos los diferentes tipos de afirmaciones que podemos hacer para PyTest.\n",
    "\n",
    "---\n",
    "\n",
    "## Lista de declaraciones de afirmación de PyTest Python\n",
    "\n",
    "## Module Imports"
   ]
  },
  {
   "cell_type": "code",
   "execution_count": null,
   "metadata": {},
   "outputs": [],
   "source": [
    "from types import *\n",
    "import pandas as pd\n",
    "import numpy as np\n",
    "from collections.abc import Iterable\n"
   ]
  },
  {
   "cell_type": "markdown",
   "metadata": {},
   "source": [
    "Nota: Siempre que vea # Ejemplo de éxito, esto significa que la prueba de aserción tendrá éxito. Sin embargo, cuando vea # Ejemplo de falla, esto significa que la prueba de aserción fallará.\n",
    "\n",
    "1. Igual o no igual a [valor]"
   ]
  },
  {
   "cell_type": "code",
   "execution_count": null,
   "metadata": {},
   "outputs": [],
   "source": [
    "assert 5 == 5 # Success Example\n",
    "assert 5 == 3 # Fail Example\n",
    "\n",
    "\"\"\"---------------------------------------------\n",
    "AssertionError Traceback (most recent call last)\n",
    "<ipython-input-106-db6ee5a4bb16> in <module>\n",
    "----> 1 assert 5 == 3 # Fail Example\n",
    "AssertionError:\n",
    "---------------------------------------------\"\"\"\n",
    "\n",
    "assert 5 != 3 # Success Example\n",
    "assert 5 != 5 # Fail Example\n",
    "\n",
    "\"\"\"---------------------------------------------\n",
    "AssertionError Traceback (most recent call last)\n",
    "<ipython-input-108-de24f583bfdf> in <module>\n",
    "----> 1 assert 5 != 5 # Fail Example\n",
    "AssertionError:\n",
    "---------------------------------------------\"\"\"\n"
   ]
  },
  {
   "cell_type": "markdown",
   "metadata": {},
   "source": [
    "---\n",
    "\n",
    "2. type() is [valor]"
   ]
  },
  {
   "cell_type": "code",
   "execution_count": null,
   "metadata": {},
   "outputs": [],
   "source": [
    "assert type(5) is int # Success Example\n",
    "assert type(5) is not int # Fail Example\n",
    "\n",
    "\"\"\"---------------------------------------------\n",
    "AssertionError Traceback (most recent call last)\n",
    "<ipython-input-110-e4cc0467bcd9> in <module>\n",
    "----> 1 assert type(5) is not int # Fail Example\n",
    "AssertionError:\n",
    "---------------------------------------------\"\"\"\n",
    "\n"
   ]
  },
  {
   "cell_type": "markdown",
   "metadata": {},
   "source": [
    "---\n",
    "\n",
    "3. isinstance"
   ]
  },
  {
   "cell_type": "code",
   "execution_count": null,
   "metadata": {},
   "outputs": [],
   "source": [
    "assert isinstance(5, int) # Success Example\n",
    "assert isinstance(\"hello\", int) # Fail Example\n",
    "\n",
    "\"\"\"--------------------------------------------\n",
    "AssertionError Traceback (most recent call last)\n",
    "<ipython-input-110-e4cc0467bcd9> in <module>\n",
    "----> 1 assert isinstance(\"hello\", int) # Fail Example\n",
    "AssertionError:\n",
    "--------------------------------------------\"\"\"\n"
   ]
  },
  {
   "cell_type": "markdown",
   "metadata": {},
   "source": [
    "---\n",
    "\n",
    "4. is [Tipo booleano]"
   ]
  },
  {
   "cell_type": "code",
   "execution_count": null,
   "metadata": {},
   "outputs": [],
   "source": [
    "true = 5 == 5\n",
    "assert true is True # Success Example\n",
    "assert true is False # Fail Example\n",
    "\n",
    "\"\"\"---------------------------------------------\n",
    "AssertionError Traceback (most recent call last)\n",
    "<ipython-input-118-45032f0eff77> in <module>\n",
    "----> 1 assert true is False # Fail Example\n",
    "AssertionError:\n",
    "---------------------------------------------\"\"\"\n",
    "\n"
   ]
  },
  {
   "cell_type": "markdown",
   "metadata": {},
   "source": [
    "---\n",
    "\n",
    "5. in y not in [iterable]"
   ]
  },
  {
   "cell_type": "code",
   "execution_count": null,
   "metadata": {},
   "outputs": [],
   "source": [
    "list_one = [1, 3, 5, 6]\n",
    "assert 5 in list_one # Success Example\n",
    "assert 7 not in list_one # Fail Example\n",
    "\n",
    "\"\"\"---------------------------------------------\n",
    "AssertionError Traceback (most recent call last)\n",
    "<ipython-input-121-90e8a0f2ef02> in <module>\n",
    "----> 1 assert 7 not in list_one # Fail Example\n",
    "AssertionError:\n",
    "---------------------------------------------\"\"\"\n",
    "\n"
   ]
  },
  {
   "cell_type": "markdown",
   "metadata": {},
   "source": [
    "---\n",
    "\n",
    "6. Mayor o menor que [valor]"
   ]
  },
  {
   "cell_type": "code",
   "execution_count": null,
   "metadata": {},
   "outputs": [],
   "source": [
    "assert 5 > 4 # Success Example\n",
    "assert 5 > 7 # Fail Example\n",
    "\n",
    "\"\"\"---------------------------------------------\n",
    "AssertionError Traceback (most recent call last)\n",
    "<ipython-input-123-3068a8105e75> in <module>\n",
    "----> 1 assert 5 > 7 # Fail Example\n",
    "AssertionError:\n",
    "---------------------------------------------\"\"\"\n",
    "\n",
    "\n",
    "assert 2 < 4 # Success Example\n",
    "assert 4 < 2 # Fail Example\n",
    "\n",
    "\"\"\"---------------------------------------------\n",
    "AssertionError Traceback (most recent call last)\n",
    "<ipython-input-125-089b0fa99ac6> in <module>\n",
    "----> 1 assert 4 < 2 # Fail Example\n",
    "AssertionError:\n",
    "---------------------------------------------\"\"\"\n",
    "\n"
   ]
  },
  {
   "cell_type": "markdown",
   "metadata": {},
   "source": [
    "---\n",
    "\n",
    "7. El módulo % es igual a [valor]"
   ]
  },
  {
   "cell_type": "code",
   "execution_count": null,
   "metadata": {},
   "outputs": [],
   "source": [
    "assert 2 % 2 == 0 # Success Example\n",
    "assert 2 % 2 == 1 # Fail Example\n",
    "\n",
    "\"\"\"---------------------------------------------\n",
    "AssertionError Traceback (most recent call last)\n",
    "<ipython-input-127-2c429e622b13> in <module>\n",
    "----> 1 assert 2 % 2 == 1 # Fail Example\n",
    "AssertionError:\n",
    "---------------------------------------------\"\"\"\n",
    "\n"
   ]
  },
  {
   "cell_type": "markdown",
   "metadata": {},
   "source": [
    "---\n",
    "\n",
    "8. declaración de afirmación any()"
   ]
  },
  {
   "cell_type": "code",
   "execution_count": null,
   "metadata": {},
   "outputs": [],
   "source": [
    "example = [5, 3, 1, 6, 6]\n",
    "booleans = [False, False, True, False]\n",
    "\n",
    "any(example)\n",
    "# True\n",
    "\n",
    "any(booleans)\n",
    "# True\n",
    "\n",
    "# Debemos tener en cuenta que la lista de ejemplo es True porque al menos uno de los números no es un 0, todos los números por encima de 0 son True.\n",
    "\n",
    "assert any(example) == True # Success Example\n",
    "assert any(booleans) == True # Success Example\n"
   ]
  },
  {
   "cell_type": "markdown",
   "metadata": {},
   "source": [
    "---\n",
    "\n",
    "9. declaración de afirmación all()"
   ]
  },
  {
   "cell_type": "code",
   "execution_count": null,
   "metadata": {},
   "outputs": [],
   "source": [
    "all(example)\n",
    "# True\n",
    "\n",
    "all(booleans)\n",
    "# False\n",
    "\n",
    "assert all(example) # Success Example\n",
    "assert all(booleans) # Fail Example\n",
    "\n",
    "\"\"\"---------------------------------------------\n",
    "AssertionError Traceback (most recent call last)\n",
    "<ipython-input-135-c422689f500e> in <module>\n",
    "----> 1 assert all(booleans) # Fail Example\n",
    "AssertionError:\n",
    "---------------------------------------------\"\"\""
   ]
  },
  {
   "cell_type": "markdown",
   "metadata": {},
   "source": [
    "---\n",
    "\n",
    "10. Objetos personalizados"
   ]
  },
  {
   "cell_type": "code",
   "execution_count": null,
   "metadata": {},
   "outputs": [],
   "source": [
    "import pandas as pd\n",
    "\n",
    "df = pd.DataFrame()\n",
    "\n",
    "type(df).__name__\n",
    "'DataFrame'\n",
    "type(df).__name__ == 'DataFrame' # True Boolean\n",
    "type(df).__name__ is 'DataFrame' # True Boolean\n",
    "type(df).__name__ == type([]).__name__ # False Boolean\n",
    "type(df).__name__ is type([]).__name__ # False Boolean\n",
    "\n",
    "assert(type(df).__name__ == 'DataFrame') # Success Example\n",
    "assert(type(df).__name__ == type([]).__name__) # Fail Example\n",
    "\n",
    "\"\"\"---------------------------------------------\n",
    "AssertionError Traceback (most recent call last)\n",
    "<ipython-input-147-2332f54f50a3> in <module>\n",
    "----> 1 assert(type(df).__name__ == type([]).__name__) # Fail Example\n",
    "AssertionError:\n",
    "---------------------------------------------\"\"\"\n",
    "\n"
   ]
  },
  {
   "cell_type": "markdown",
   "metadata": {},
   "source": [
    "---\n",
    "\n",
    "11. Iterables"
   ]
  },
  {
   "cell_type": "code",
   "execution_count": null,
   "metadata": {},
   "outputs": [],
   "source": [
    "from collections.abc import Iterable\n",
    "\n",
    "iterable_item = [3, 6, 4, 2, 1]\n",
    "\n",
    "isinstance(iterable_item, Iterable)\n",
    "# True\n",
    "\n",
    "isinstance(5, Iterable)\n",
    "# False\n",
    "\n",
    "assert isinstance(iterable_item, Iterable) # Success Example\n",
    "assert isinstance(3, Iterable) # Fail Example\n",
    "\n",
    "\"\"\"---------------------------------------------\n",
    "AssertionError Traceback (most recent call last)\n",
    "<ipython-input-153-e96805891245> in <module>\n",
    "----> 1 assert isinstance(3, Iterable) # Fail Example\n",
    "AssertionError:\n",
    "---------------------------------------------\"\"\"\n"
   ]
  },
  {
   "cell_type": "markdown",
   "metadata": {},
   "source": [
    "Combinación de varias declaraciones and/or con declaraciones de afirmación\n",
    "\n",
    "También es posible combinar múltiples condiciones con OR o AND y probar los comandos encadenados con la declaración de afirmación:"
   ]
  },
  {
   "cell_type": "code",
   "execution_count": null,
   "metadata": {},
   "outputs": [],
   "source": [
    "true_statement = 5 == 5 and 10 == 10\n",
    "false_statement = 5 == 3 and 10 == 2\n",
    "\n",
    "print(true_statement, false_statement)\n",
    "#True False\n",
    "\n",
    "assert true_statement # Success Example\n",
    "assert false_statement # Fail Example\n",
    "\n",
    "\"\"\"---------------------------------------------\n",
    "AssertionError Traceback (most recent call last)\n",
    "<ipython-input-157-452ef20f327f> in <module>\n",
    "----> 1 assert false_statement # Fail Example\n",
    "AssertionError:\n",
    "---------------------------------------------\"\"\""
   ]
  },
  {
   "cell_type": "code",
   "execution_count": null,
   "metadata": {},
   "outputs": [],
   "source": [
    "true_or_statement = 5 == 5 or 3 == 3\n",
    "false_or_statement = 7 == 3 or 10 == 1\n",
    "\n",
    "print(true_or_statement, false_or_statement)\n",
    "# True False\n",
    "\n",
    "assert true_or_statement # Success Example\n",
    "assert false_or_statement # Fail Example\n",
    "\n",
    "\"\"\"---------------------------------------------\n",
    "AssertionError Traceback (most recent call last)\n",
    "<ipython-input-161-38343a099bdc> in <module>\n",
    "----> 1 assert false_or_statement # Fail Example\n",
    "AssertionError:\n",
    "---------------------------------------------\"\"\""
   ]
  },
  {
   "cell_type": "markdown",
   "metadata": {},
   "source": [
    "---\n",
    "\n",
    "## Prueba de varios comandos\n",
    "\n",
    "También podemos probar más de una cosa a la vez al tener múltiples afirmaciones dentro del mismo método de Python:"
   ]
  },
  {
   "cell_type": "code",
   "execution_count": null,
   "metadata": {},
   "outputs": [],
   "source": [
    "class Test(object):\n",
    "    def __init__(self, first_name, last_name):\n",
    "        self.first_name = first_name\n",
    "        self.last_name = last_name\n",
    "\n",
    "    def test_all_class_arguments(self):\n",
    "        print('Testing both of the class variables to see whether they are both strings!')\n",
    "        for _ in [self.first_name, self.last_name]:\n",
    "            assert(type(_) is str)\n",
    "        print('------')\n",
    "        print('Passed all of the tests')\n",
    "\n",
    "yay = Test('James', 'Phoenix') # Success Example\n",
    "yay.test_all_class_arguments()\n",
    "# Testing both of the class variables to see whether they are both strings!\n",
    "# ------\n",
    "# Passed all of the tests\n",
    "\n",
    "yay = Test(5, 'Phoenix') # Fail Example\n",
    "yay.test_all_class_arguments()\n",
    "# Testing both of the class variables to see whether they are both strings!\n",
    "\n",
    "\"\"\"---------------------------------------------\n",
    "AssertionError Traceback (most recent call last)\n",
    "<ipython-input-164-64cb2bee07e3> in <module>\n",
    "      1 yay = Test(5, 'Phoenix') # Fail Example\n",
    "----> 2 yay.test_all_class_arguments()\n",
    "<ipython-input-162-3ae9548ef4b7> in test_all_class_arguments(self)\n",
    "      8 for _ in [self.first_name, self.last_name]:\n",
    "---> 10 assert(type(_) is str)\n",
    "      11 print('------')\n",
    "      12 print('Passed all of the tests')\n",
    "AssertionError:\n",
    "---------------------------------------------\"\"\""
   ]
  },
  {
   "cell_type": "markdown",
   "metadata": {},
   "source": [
    "---\n",
    "\n",
    "## Métodos de afirmación de Python 3.x UnitTest\n",
    "\n",
    "A continuación, detallamos la lista de todos los métodos de afirmación de UnitTest:\n",
    "\n",
    "Método Implementación\n",
    "\n",
    "* assertEqual a == b\n",
    "* assertNotEqual a != b\n",
    "* assertTrue bool(x) is True\n",
    "* assertFalse bool(x) is False\n",
    "* assertIs a is b\n",
    "* assertIsNot a is not b\n",
    "* assertIsNone x is None\n",
    "* assertIsNotNone x is not None\n",
    "* assertIn a in b\n",
    "* assertNotIn a not in b\n",
    "* assertIsInstance isinstance(a, b)\n",
    "* assertNotIsInstance not isinstance(a, b)\n",
    "* assertRaises fun(*args, **kwds) raises exc\n",
    "* assertRaisesRegexp fun(*args, **kwds) raises exc(regex)\n",
    "* assertAlmostEqual round(a-b, 7) == 0\n",
    "* assertNotAlmostEqual round(a-b, 7) != 0\n",
    "* assertGreater a > b\n",
    "* assertGreaterEqual a >= b\n",
    "* assertLess a < b\n",
    "* assertLessEqual a <= b\n",
    "* assertRegexpMatches r.search(s)\n",
    "* assertNotRegexpMatches not r.search(s)\n",
    "* assertItemsEqual sorted(a) == sorted(b)\n",
    "* assertDictContainsSubset all the key/value pairs in a exist in b\n",
    "* assertMultiLineEqual strings\n",
    "* assertSequenceEqual sequences\n",
    "* assertListEqual lists\n",
    "* assertTupleEqual tuples\n",
    "* assertSetEqual sets or frozensets\n",
    "* assertDictEqual dicts"
   ]
  },
  {
   "cell_type": "markdown",
   "metadata": {},
   "source": [
    "---\n",
    "\n",
    "## Escribir declaraciones de afirmación\n",
    "\n",
    "Además de usar declaraciones de afirmación simples, al importar el módulo de tipos de Python podemos hacer declaraciones de afirmación más abstractas en Tipos específicos:"
   ]
  },
  {
   "cell_type": "code",
   "execution_count": null,
   "metadata": {},
   "outputs": [],
   "source": [
    "class Example:\n",
    "    def __init__(self, id_, name):\n",
    "        self._id = id_\n",
    "        self.name = name\n",
    "\n",
    "    def subtract(self):\n",
    "        answer = 5 + 5\n",
    "        return answer\n",
    "\n",
    "    def test_lambda_function(self):\n",
    "        assert(lambda x: x is LambdaType)\n",
    "\n",
    "    def test_subtract_function(self):\n",
    "        assert(self.subtract() == LambdaType)\n",
    "\n",
    "example_class = Example(\"123\", 'James Phoenix')\n",
    "\n",
    "print(example_class._id, example_class.name)\n",
    "# 123 James Phoenix\n",
    "\n",
    "example_class.test_lambda_function() # Success Example\n",
    "example_class.test_subtract_function() # Fail Example\n",
    "\n",
    "\"\"\"---------------------------------------------\n",
    "AssertionError Traceback (most recent call last)\n",
    "<ipython-input-169-e96c76763824> in <module>\n",
    "----> 1 example_class.test_subtract_function() # Fail Example\n",
    "<ipython-input-165-28a62a6c7adf> in test_subtract_function(self)\n",
    "     13 def test_subtract_function(self):\n",
    "---> 14 assert(self.subtract() == LambdaType)\n",
    "AssertionError:\n",
    "---------------------------------------------\"\"\"\n"
   ]
  },
  {
   "cell_type": "markdown",
   "metadata": {},
   "source": [
    "Hemos probado dos métodos de instancia de clase para ver si alguno de ellos es una función de estilo `lambda`."
   ]
  }
 ],
 "metadata": {
  "language_info": {
   "name": "python"
  }
 },
 "nbformat": 4,
 "nbformat_minor": 2
}
