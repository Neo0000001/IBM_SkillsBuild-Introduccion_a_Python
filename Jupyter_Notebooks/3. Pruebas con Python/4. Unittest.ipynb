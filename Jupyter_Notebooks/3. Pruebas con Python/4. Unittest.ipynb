{
 "cells": [
  {
   "cell_type": "markdown",
   "metadata": {},
   "source": [
    "# IBM SkillsBuild | Introducción a Python\n",
    "\n",
    "# Introducción a Python: Pruebas con Python Unittest\n",
    "\n",
    "---\n",
    "\n",
    "## Índice\n",
    "\n",
    "1. Introducción\n",
    "2. Un proceso de automatización de verificación\n",
    "3. Ejemplos de uso\n",
    "4. Testing con excepciones\n",
    "5. Verificación de tipos\n",
    "6. Buenas prácticas en testing unitario\n",
    "7. Códigos usados en los ejemplos\n",
    "\n",
    "---\n",
    "\n",
    "## Introducción\n",
    "\n",
    "Existen numerosas librerías para unit testing. Posiblemente unittest es el estándar para pruebas de testing. Es el marco de prueba más extendido y además ya viene incorporado en el propio Python. Para usarlo no hay más que importarlo.\n",
    "\n",
    "---\n",
    "\n",
    "### Un proceso de automatización de verificación\n",
    "\n",
    "Con unittest vamos a hacer un proceso de automatización de la verificación de nuestro código. Por ejemplo, partimos de la siguiente función para calcular un área:\n"
   ]
  },
  {
   "cell_type": "code",
   "execution_count": null,
   "metadata": {},
   "outputs": [],
   "source": [
    "from math import pi\n",
    "\n",
    "def area(r):\n",
    "    areaC = pi * (r**2)\n",
    "    return areaC\n"
   ]
  },
  {
   "cell_type": "markdown",
   "metadata": {},
   "source": [
    "Sabemos que a esta función no podemos darle determinados valores, como por ejemplo valores negativos, strings o booleans. Vamos a hacer una prueba, de momento sin usar unittest. Vamos a crear una lista con una serie de valores que vamos a pasar como parámetro y vamos a ver el comportamiento que tiene esa función con esos valores."
   ]
  },
  {
   "cell_type": "code",
   "execution_count": null,
   "metadata": {},
   "outputs": [],
   "source": [
    "valores = [1, 3, 0, -1, -3, 2+3j, True, 'hola']\n",
    "\n",
    "for v in valores:\n",
    "    areaCalculada = area(v)\n",
    "    print('Para el valor', v, 'el área es', areaCalculada)\n"
   ]
  },
  {
   "cell_type": "markdown",
   "metadata": {},
   "source": [
    "Y obtenemos el siguiente resultado:\n",
    "\n",
    "* Para los valores 1, 3 y 0 nos da resultados correctos.\n",
    "* Para -1 y -3 nos da valores que no son lo que debería dar, por lo que ya sabemos que, cuando ingresemos radios negativos, tendremos que hacer algo al respecto, como por ejemplo lanzar una excepción.\n",
    "* Para el número complejo (2+3j) el resultado tampoco es lo esperado.\n",
    "* Para el valor True el resultado tampoco es lo esperado.\n",
    "* Para el valor ‘hola’ directamente obtenemos un error de tipo.\n",
    "\n",
    "Ya sabemos que nuestra función está bien realizada, hace su trabajo, pero dependiendo de los valores que le pasemos, puede dar problemas. Este es un test muy primitivo. Haciendo uso de unittest podemos automatizar el proceso de prueba de nuestro código.\n",
    "\n",
    "Para usar unittest tenemos que seguir un protocolo, vamos a tener que crear otro archivo en el que se va a encontrar el propio código de unittest. Deberemos crear un archivo con el siguiente nombre: test_nombreArchivo.py.\n",
    "\n",
    "Para ejecutarlo, pondremos en la consola:\n",
    "\n",
    "```bash\n",
    "python -m unittest test_testing01.py\n",
    "\n",
    "```"
   ]
  },
  {
   "cell_type": "markdown",
   "metadata": {},
   "source": [
    "Nota: Podemos ejecutar automáticamente las pruebas usando el comando:\n",
    "\n",
    "```bash\n",
    "python -m unittest discover\n",
    "\n",
    "```"
   ]
  },
  {
   "cell_type": "markdown",
   "metadata": {},
   "source": [
    "Con esta sintaxis no necesitamos mencionar el nombre de archivo de la prueba. unittest encontrará las pruebas utilizando la convención de nomenclatura que seguimos. Entonces, debemos nombrar nuestros archivos de prueba con la palabra clave test en el arranque.\n",
    "\n",
    "---\n",
    "\n",
    "## Ejemplos de uso\n",
    "\n",
    "Veamos ejemplos de uso de alguno de estos métodos. El primer test que vamos a crear es para saber si nuestra función ha generado un valor que sabemos que es correcto. Vamos a meter un valor conocido y ver si el resultado corresponde a lo que sabemos que debería dar."
   ]
  },
  {
   "cell_type": "code",
   "execution_count": null,
   "metadata": {},
   "outputs": [],
   "source": [
    "import unittest\n",
    "from testing01 import area\n",
    "from math import pi\n",
    "\n",
    "\n",
    "class TestArea(unittest.TestCase):\n",
    "    def test_area(self):\n",
    "        print('-----Test valores de resultado conocido-----')\n",
    "        self.assertAlmostEqual(area(1), pi)\n",
    "        self.assertAlmostEqual(area(0), 0)\n",
    "        self.assertAlmostEqual(area(3), pi * (3**2))\n",
    "\n",
    "\n",
    "# Ejecutamos nuestro test:\n",
    "# python -m unittest test_testing01.py\n"
   ]
  },
  {
   "cell_type": "markdown",
   "metadata": {},
   "source": [
    "No nos indica ningún fallo, por lo que podemos decir que las pruebas fueron positivas. Vamos a ejecutar de nuevo, pero forzando a que se produzca un fallo para ver la diferencia. En la línea 10 de nuestro programa hemos cambiado el valor esperado de 0 por un 1, que sabemos que no sería correcto.\n",
    "\n",
    "---\n",
    "\n",
    "## Testing con excepciones\n",
    "\n",
    "Uno de los problemas que tenemos con funciones que reciben valores numéricos es que los valores introducidos no se encuentran en el rango adecuado. Por ejemplo, en nuestra función el rango de valores negativos no es factible. Si ya sabemos que nuestra función no va a sacar valores coherentes si los parámetros de entrada son negativos, lo que tenemos que hacer es crear una excepción que de lance en dichos casos."
   ]
  },
  {
   "cell_type": "code",
   "execution_count": null,
   "metadata": {},
   "outputs": [],
   "source": [
    "def area(r):\n",
    "    if r < 0:\n",
    "        raise ValueError(\"No se permiten valores negativos\")\n",
    "    areaC = pi * (r**2)\n",
    "    \n",
    "    return areaC\n"
   ]
  },
  {
   "cell_type": "markdown",
   "metadata": {},
   "source": [
    "En unittest no solo tenemos que comprobar que la función nos devuelva los resultados correctos, también tenemos que asegurarnos de que se disparan las excepciones correctamente según los casos.\n",
    "\n",
    "Ejemplo:"
   ]
  },
  {
   "cell_type": "code",
   "execution_count": null,
   "metadata": {},
   "outputs": [],
   "source": [
    "class TestArea(unittest.TestCase):\n",
    "    \n",
    "    def test_negativos(self):\n",
    "        print('-----Test de valores negativos-----')\n",
    "        self.assertRaises(ValueError, area, -1)\n"
   ]
  },
  {
   "cell_type": "markdown",
   "metadata": {},
   "source": [
    "---\n",
    "\n",
    "## Verificación de tipos\n",
    "\n",
    "Vamos a ver ahora cómo comprobar si el tipo de datos que está recibiendo la función mediante parámetro es correcto o no. Para este tipo de test vamos a usar nuevamente el método assertRaises y el tipo de excepción que estamos esperando que se lance es de tipo TypeError."
   ]
  },
  {
   "cell_type": "code",
   "execution_count": null,
   "metadata": {},
   "outputs": [],
   "source": [
    "class TestArea(unittest.TestCase):\n",
    "    \n",
    "    def test_tipos(self):\n",
    "        print('-----Test de tipos no compatibles-----')\n",
    "        self.assertRaises(TypeError, area, True)\n",
    "        self.assertRaises(TypeError, area, 'hola')\n",
    "        self.assertRaises(TypeError, area, 2+3j)\n"
   ]
  },
  {
   "cell_type": "markdown",
   "metadata": {},
   "source": [
    "Si nuestra función lanza una excepción al recibir este tipo de datos, nuestro test no nos dará ningún error. Si la función no lanza una excepción, entonces el test sí nos dará errores.\n",
    "\n",
    "---\n",
    "\n",
    "## Buenas prácticas en testing unitario\n",
    "\n",
    "* Las pruebas deben ser pequeñas y probar solo una cosa.\n",
    "* Las pruebas deben ejecutarse rápido. Esto es esencial para la inclusión en un entorno de CI.\n",
    "* Las pruebas unitarias deben ser completamente independientes. Las pruebas no deben depender unas de otras y pueden ejecutarse en cualquier orden cualquier número de veces.\n",
    "* Las pruebas deben estar completamente automatizadas y no requerir interacción manual o verificaciones para determinar si pasan o fallan.\n",
    "* Las pruebas no deben incluir afirmaciones innecesarias como \"puntos de control\" en la prueba. Afirma solo lo que la prueba está probando.\n",
    "* Las pruebas deben ser portátiles y ejecutarse fácilmente en diferentes entornos.\n",
    "* Las pruebas deben configurar lo que necesitan para ejecutarse. Las pruebas no deben hacer suposiciones sobre recursos particulares existentes.\n",
    "* Las pruebas deben limpiar los recursos creados después.\n",
    "* Los nombres de las pruebas deben describir claramente lo que están probando.\n",
    "* Las pruebas deben producir mensajes significativos cuando fallan. Intenta hacer que la prueba falle y ver si el motivo del fallo se puede determinar leyendo el resultado del caso de prueba.\n"
   ]
  },
  {
   "cell_type": "markdown",
   "metadata": {},
   "source": [
    "---\n",
    "\n",
    "## Códigos usados en los ejemplos\n",
    "\n",
    "Archivo testing01.py:"
   ]
  },
  {
   "cell_type": "code",
   "execution_count": null,
   "metadata": {},
   "outputs": [],
   "source": [
    "from math import pi\n",
    "\n",
    "def area(r):\n",
    "    if type(r) not in [float, int]:\n",
    "        raise TypeError(\"Solo números enteros o de coma flotante.\")\n",
    "    \n",
    "    if r < 0:\n",
    "        raise ValueError(\"No se permiten valores negativos\")\n",
    "    \n",
    "    areaC = pi * (r**2)\n",
    "    \n",
    "    return areaC\n"
   ]
  },
  {
   "cell_type": "markdown",
   "metadata": {},
   "source": [
    "Archivo test_testing01.py:"
   ]
  },
  {
   "cell_type": "code",
   "execution_count": null,
   "metadata": {},
   "outputs": [],
   "source": [
    "import unittest\n",
    "from testing01 import area\n",
    "from math import pi\n",
    "\n",
    "\n",
    "class TestArea(unittest.TestCase):\n",
    "    def test_area(self):\n",
    "        print('-----Test valores de resultado conocido-----')\n",
    "        self.assertAlmostEqual(area(1), pi)\n",
    "        self.assertAlmostEqual(area(0), -1)  # Error forzado\n",
    "        self.assertAlmostEqual(area(3), pi * (3**2))\n",
    "\n",
    "    def test_negativos(self):\n",
    "        print('-----Test de valores negativos-----')\n",
    "        self.assertRaises(ValueError, area, -1)\n",
    "\n",
    "    def test_tipos(self):\n",
    "        print('-----Test de tipos no compatibles-----')\n",
    "        self.assertRaises(TypeError, area, True)\n",
    "        self.assertRaises(TypeError, area, 'hola')\n",
    "        self.assertRaises(TypeError, area, 2+3j)\n"
   ]
  },
  {
   "cell_type": "markdown",
   "metadata": {},
   "source": [
    "Este contenido ofrece una visión completa y detallada sobre cómo utilizar unittest en Python para realizar pruebas unitarias efectivas."
   ]
  }
 ],
 "metadata": {
  "language_info": {
   "name": "python"
  }
 },
 "nbformat": 4,
 "nbformat_minor": 2
}
